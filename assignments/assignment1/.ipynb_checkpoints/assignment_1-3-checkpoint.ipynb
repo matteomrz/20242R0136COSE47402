{
 "cells": [
  {
   "cell_type": "markdown",
   "metadata": {
    "id": "6yWLuj5ouxju"
   },
   "source": [
    "# COSE474-2024F: Deep Learning HW1"
   ]
  },
  {
   "cell_type": "markdown",
   "metadata": {
    "id": "Cqdab97rvFFV"
   },
   "source": [
    "## 0.1 Installation"
   ]
  },
  {
   "cell_type": "code",
   "metadata": {
    "colab": {
     "base_uri": "https://localhost:8080/"
    },
    "id": "FLaBS4CjuIlZ",
    "outputId": "e81b5870-2309-4c61-c8be-715ee638ae50",
    "ExecuteTime": {
     "end_time": "2024-09-24T05:24:59.760220Z",
     "start_time": "2024-09-24T05:24:57.745210Z"
    }
   },
   "source": [
    "!pip install d2l==1.0.3"
   ],
   "outputs": [
    {
     "name": "stdout",
     "output_type": "stream",
     "text": [
      "Requirement already satisfied: d2l==1.0.3 in /Users/matteo/PycharmProjects/pythonProject/.venv/lib/python3.9/site-packages (1.0.3)\r\n",
      "Requirement already satisfied: jupyter==1.0.0 in /Users/matteo/PycharmProjects/pythonProject/.venv/lib/python3.9/site-packages (from d2l==1.0.3) (1.0.0)\r\n",
      "Requirement already satisfied: numpy==1.23.5 in /Users/matteo/PycharmProjects/pythonProject/.venv/lib/python3.9/site-packages (from d2l==1.0.3) (1.23.5)\r\n",
      "Requirement already satisfied: matplotlib==3.7.2 in /Users/matteo/PycharmProjects/pythonProject/.venv/lib/python3.9/site-packages (from d2l==1.0.3) (3.7.2)\r\n",
      "Requirement already satisfied: matplotlib-inline==0.1.6 in /Users/matteo/PycharmProjects/pythonProject/.venv/lib/python3.9/site-packages (from d2l==1.0.3) (0.1.6)\r\n",
      "Requirement already satisfied: requests==2.31.0 in /Users/matteo/PycharmProjects/pythonProject/.venv/lib/python3.9/site-packages (from d2l==1.0.3) (2.31.0)\r\n",
      "Requirement already satisfied: pandas==2.0.3 in /Users/matteo/PycharmProjects/pythonProject/.venv/lib/python3.9/site-packages (from d2l==1.0.3) (2.0.3)\r\n",
      "Requirement already satisfied: scipy==1.10.1 in /Users/matteo/PycharmProjects/pythonProject/.venv/lib/python3.9/site-packages (from d2l==1.0.3) (1.10.1)\r\n",
      "Requirement already satisfied: notebook in /Users/matteo/PycharmProjects/pythonProject/.venv/lib/python3.9/site-packages (from jupyter==1.0.0->d2l==1.0.3) (7.2.2)\r\n",
      "Requirement already satisfied: qtconsole in /Users/matteo/PycharmProjects/pythonProject/.venv/lib/python3.9/site-packages (from jupyter==1.0.0->d2l==1.0.3) (5.6.0)\r\n",
      "Requirement already satisfied: jupyter-console in /Users/matteo/PycharmProjects/pythonProject/.venv/lib/python3.9/site-packages (from jupyter==1.0.0->d2l==1.0.3) (6.6.3)\r\n",
      "Requirement already satisfied: nbconvert in /Users/matteo/PycharmProjects/pythonProject/.venv/lib/python3.9/site-packages (from jupyter==1.0.0->d2l==1.0.3) (7.16.4)\r\n",
      "Requirement already satisfied: ipykernel in /Users/matteo/PycharmProjects/pythonProject/.venv/lib/python3.9/site-packages (from jupyter==1.0.0->d2l==1.0.3) (6.29.5)\r\n",
      "Requirement already satisfied: ipywidgets in /Users/matteo/PycharmProjects/pythonProject/.venv/lib/python3.9/site-packages (from jupyter==1.0.0->d2l==1.0.3) (8.1.5)\r\n",
      "Requirement already satisfied: contourpy>=1.0.1 in /Users/matteo/PycharmProjects/pythonProject/.venv/lib/python3.9/site-packages (from matplotlib==3.7.2->d2l==1.0.3) (1.3.0)\r\n",
      "Requirement already satisfied: cycler>=0.10 in /Users/matteo/PycharmProjects/pythonProject/.venv/lib/python3.9/site-packages (from matplotlib==3.7.2->d2l==1.0.3) (0.12.1)\r\n",
      "Requirement already satisfied: fonttools>=4.22.0 in /Users/matteo/PycharmProjects/pythonProject/.venv/lib/python3.9/site-packages (from matplotlib==3.7.2->d2l==1.0.3) (4.54.0)\r\n",
      "Requirement already satisfied: kiwisolver>=1.0.1 in /Users/matteo/PycharmProjects/pythonProject/.venv/lib/python3.9/site-packages (from matplotlib==3.7.2->d2l==1.0.3) (1.4.7)\r\n",
      "Requirement already satisfied: packaging>=20.0 in /Users/matteo/PycharmProjects/pythonProject/.venv/lib/python3.9/site-packages (from matplotlib==3.7.2->d2l==1.0.3) (24.1)\r\n",
      "Requirement already satisfied: pillow>=6.2.0 in /Users/matteo/PycharmProjects/pythonProject/.venv/lib/python3.9/site-packages (from matplotlib==3.7.2->d2l==1.0.3) (10.4.0)\r\n",
      "Requirement already satisfied: pyparsing<3.1,>=2.3.1 in /Users/matteo/PycharmProjects/pythonProject/.venv/lib/python3.9/site-packages (from matplotlib==3.7.2->d2l==1.0.3) (3.0.9)\r\n",
      "Requirement already satisfied: python-dateutil>=2.7 in /Users/matteo/PycharmProjects/pythonProject/.venv/lib/python3.9/site-packages (from matplotlib==3.7.2->d2l==1.0.3) (2.9.0.post0)\r\n",
      "Requirement already satisfied: importlib-resources>=3.2.0 in /Users/matteo/PycharmProjects/pythonProject/.venv/lib/python3.9/site-packages (from matplotlib==3.7.2->d2l==1.0.3) (6.4.5)\r\n",
      "Requirement already satisfied: traitlets in /Users/matteo/PycharmProjects/pythonProject/.venv/lib/python3.9/site-packages (from matplotlib-inline==0.1.6->d2l==1.0.3) (5.14.3)\r\n",
      "Requirement already satisfied: pytz>=2020.1 in /Users/matteo/PycharmProjects/pythonProject/.venv/lib/python3.9/site-packages (from pandas==2.0.3->d2l==1.0.3) (2024.2)\r\n",
      "Requirement already satisfied: tzdata>=2022.1 in /Users/matteo/PycharmProjects/pythonProject/.venv/lib/python3.9/site-packages (from pandas==2.0.3->d2l==1.0.3) (2024.2)\r\n",
      "Requirement already satisfied: charset-normalizer<4,>=2 in /Users/matteo/PycharmProjects/pythonProject/.venv/lib/python3.9/site-packages (from requests==2.31.0->d2l==1.0.3) (3.3.2)\r\n",
      "Requirement already satisfied: idna<4,>=2.5 in /Users/matteo/PycharmProjects/pythonProject/.venv/lib/python3.9/site-packages (from requests==2.31.0->d2l==1.0.3) (3.10)\r\n",
      "Requirement already satisfied: urllib3<3,>=1.21.1 in /Users/matteo/PycharmProjects/pythonProject/.venv/lib/python3.9/site-packages (from requests==2.31.0->d2l==1.0.3) (2.2.3)\r\n",
      "Requirement already satisfied: certifi>=2017.4.17 in /Users/matteo/PycharmProjects/pythonProject/.venv/lib/python3.9/site-packages (from requests==2.31.0->d2l==1.0.3) (2024.8.30)\r\n",
      "Requirement already satisfied: zipp>=3.1.0 in /Users/matteo/PycharmProjects/pythonProject/.venv/lib/python3.9/site-packages (from importlib-resources>=3.2.0->matplotlib==3.7.2->d2l==1.0.3) (3.20.2)\r\n",
      "Requirement already satisfied: six>=1.5 in /Users/matteo/PycharmProjects/pythonProject/.venv/lib/python3.9/site-packages (from python-dateutil>=2.7->matplotlib==3.7.2->d2l==1.0.3) (1.16.0)\r\n",
      "Requirement already satisfied: appnope in /Users/matteo/PycharmProjects/pythonProject/.venv/lib/python3.9/site-packages (from ipykernel->jupyter==1.0.0->d2l==1.0.3) (0.1.4)\r\n",
      "Requirement already satisfied: comm>=0.1.1 in /Users/matteo/PycharmProjects/pythonProject/.venv/lib/python3.9/site-packages (from ipykernel->jupyter==1.0.0->d2l==1.0.3) (0.2.2)\r\n",
      "Requirement already satisfied: debugpy>=1.6.5 in /Users/matteo/PycharmProjects/pythonProject/.venv/lib/python3.9/site-packages (from ipykernel->jupyter==1.0.0->d2l==1.0.3) (1.8.5)\r\n",
      "Requirement already satisfied: ipython>=7.23.1 in /Users/matteo/PycharmProjects/pythonProject/.venv/lib/python3.9/site-packages (from ipykernel->jupyter==1.0.0->d2l==1.0.3) (8.18.1)\r\n",
      "Requirement already satisfied: jupyter-client>=6.1.12 in /Users/matteo/PycharmProjects/pythonProject/.venv/lib/python3.9/site-packages (from ipykernel->jupyter==1.0.0->d2l==1.0.3) (8.6.3)\r\n",
      "Requirement already satisfied: jupyter-core!=5.0.*,>=4.12 in /Users/matteo/PycharmProjects/pythonProject/.venv/lib/python3.9/site-packages (from ipykernel->jupyter==1.0.0->d2l==1.0.3) (5.7.2)\r\n",
      "Requirement already satisfied: nest-asyncio in /Users/matteo/PycharmProjects/pythonProject/.venv/lib/python3.9/site-packages (from ipykernel->jupyter==1.0.0->d2l==1.0.3) (1.6.0)\r\n",
      "Requirement already satisfied: psutil in /Users/matteo/PycharmProjects/pythonProject/.venv/lib/python3.9/site-packages (from ipykernel->jupyter==1.0.0->d2l==1.0.3) (6.0.0)\r\n",
      "Requirement already satisfied: pyzmq>=24 in /Users/matteo/PycharmProjects/pythonProject/.venv/lib/python3.9/site-packages (from ipykernel->jupyter==1.0.0->d2l==1.0.3) (26.2.0)\r\n",
      "Requirement already satisfied: tornado>=6.1 in /Users/matteo/PycharmProjects/pythonProject/.venv/lib/python3.9/site-packages (from ipykernel->jupyter==1.0.0->d2l==1.0.3) (6.4.1)\r\n",
      "Requirement already satisfied: widgetsnbextension~=4.0.12 in /Users/matteo/PycharmProjects/pythonProject/.venv/lib/python3.9/site-packages (from ipywidgets->jupyter==1.0.0->d2l==1.0.3) (4.0.13)\r\n",
      "Requirement already satisfied: jupyterlab-widgets~=3.0.12 in /Users/matteo/PycharmProjects/pythonProject/.venv/lib/python3.9/site-packages (from ipywidgets->jupyter==1.0.0->d2l==1.0.3) (3.0.13)\r\n",
      "Requirement already satisfied: prompt-toolkit>=3.0.30 in /Users/matteo/PycharmProjects/pythonProject/.venv/lib/python3.9/site-packages (from jupyter-console->jupyter==1.0.0->d2l==1.0.3) (3.0.47)\r\n",
      "Requirement already satisfied: pygments in /Users/matteo/PycharmProjects/pythonProject/.venv/lib/python3.9/site-packages (from jupyter-console->jupyter==1.0.0->d2l==1.0.3) (2.18.0)\r\n",
      "Requirement already satisfied: beautifulsoup4 in /Users/matteo/PycharmProjects/pythonProject/.venv/lib/python3.9/site-packages (from nbconvert->jupyter==1.0.0->d2l==1.0.3) (4.12.3)\r\n",
      "Requirement already satisfied: bleach!=5.0.0 in /Users/matteo/PycharmProjects/pythonProject/.venv/lib/python3.9/site-packages (from nbconvert->jupyter==1.0.0->d2l==1.0.3) (6.1.0)\r\n",
      "Requirement already satisfied: defusedxml in /Users/matteo/PycharmProjects/pythonProject/.venv/lib/python3.9/site-packages (from nbconvert->jupyter==1.0.0->d2l==1.0.3) (0.7.1)\r\n",
      "Requirement already satisfied: importlib-metadata>=3.6 in /Users/matteo/PycharmProjects/pythonProject/.venv/lib/python3.9/site-packages (from nbconvert->jupyter==1.0.0->d2l==1.0.3) (8.5.0)\r\n",
      "Requirement already satisfied: jinja2>=3.0 in /Users/matteo/PycharmProjects/pythonProject/.venv/lib/python3.9/site-packages (from nbconvert->jupyter==1.0.0->d2l==1.0.3) (3.1.4)\r\n",
      "Requirement already satisfied: jupyterlab-pygments in /Users/matteo/PycharmProjects/pythonProject/.venv/lib/python3.9/site-packages (from nbconvert->jupyter==1.0.0->d2l==1.0.3) (0.3.0)\r\n",
      "Requirement already satisfied: markupsafe>=2.0 in /Users/matteo/PycharmProjects/pythonProject/.venv/lib/python3.9/site-packages (from nbconvert->jupyter==1.0.0->d2l==1.0.3) (2.1.5)\r\n",
      "Requirement already satisfied: mistune<4,>=2.0.3 in /Users/matteo/PycharmProjects/pythonProject/.venv/lib/python3.9/site-packages (from nbconvert->jupyter==1.0.0->d2l==1.0.3) (3.0.2)\r\n",
      "Requirement already satisfied: nbclient>=0.5.0 in /Users/matteo/PycharmProjects/pythonProject/.venv/lib/python3.9/site-packages (from nbconvert->jupyter==1.0.0->d2l==1.0.3) (0.10.0)\r\n",
      "Requirement already satisfied: nbformat>=5.7 in /Users/matteo/PycharmProjects/pythonProject/.venv/lib/python3.9/site-packages (from nbconvert->jupyter==1.0.0->d2l==1.0.3) (5.10.4)\r\n",
      "Requirement already satisfied: pandocfilters>=1.4.1 in /Users/matteo/PycharmProjects/pythonProject/.venv/lib/python3.9/site-packages (from nbconvert->jupyter==1.0.0->d2l==1.0.3) (1.5.1)\r\n",
      "Requirement already satisfied: tinycss2 in /Users/matteo/PycharmProjects/pythonProject/.venv/lib/python3.9/site-packages (from nbconvert->jupyter==1.0.0->d2l==1.0.3) (1.3.0)\r\n",
      "Requirement already satisfied: jupyter-server<3,>=2.4.0 in /Users/matteo/PycharmProjects/pythonProject/.venv/lib/python3.9/site-packages (from notebook->jupyter==1.0.0->d2l==1.0.3) (2.14.2)\r\n",
      "Requirement already satisfied: jupyterlab-server<3,>=2.27.1 in /Users/matteo/PycharmProjects/pythonProject/.venv/lib/python3.9/site-packages (from notebook->jupyter==1.0.0->d2l==1.0.3) (2.27.3)\r\n",
      "Requirement already satisfied: jupyterlab<4.3,>=4.2.0 in /Users/matteo/PycharmProjects/pythonProject/.venv/lib/python3.9/site-packages (from notebook->jupyter==1.0.0->d2l==1.0.3) (4.2.5)\r\n",
      "Requirement already satisfied: notebook-shim<0.3,>=0.2 in /Users/matteo/PycharmProjects/pythonProject/.venv/lib/python3.9/site-packages (from notebook->jupyter==1.0.0->d2l==1.0.3) (0.2.4)\r\n",
      "Requirement already satisfied: qtpy>=2.4.0 in /Users/matteo/PycharmProjects/pythonProject/.venv/lib/python3.9/site-packages (from qtconsole->jupyter==1.0.0->d2l==1.0.3) (2.4.1)\r\n",
      "Requirement already satisfied: webencodings in /Users/matteo/PycharmProjects/pythonProject/.venv/lib/python3.9/site-packages (from bleach!=5.0.0->nbconvert->jupyter==1.0.0->d2l==1.0.3) (0.5.1)\r\n",
      "Requirement already satisfied: decorator in /Users/matteo/PycharmProjects/pythonProject/.venv/lib/python3.9/site-packages (from ipython>=7.23.1->ipykernel->jupyter==1.0.0->d2l==1.0.3) (5.1.1)\r\n",
      "Requirement already satisfied: jedi>=0.16 in /Users/matteo/PycharmProjects/pythonProject/.venv/lib/python3.9/site-packages (from ipython>=7.23.1->ipykernel->jupyter==1.0.0->d2l==1.0.3) (0.19.1)\r\n",
      "Requirement already satisfied: stack-data in /Users/matteo/PycharmProjects/pythonProject/.venv/lib/python3.9/site-packages (from ipython>=7.23.1->ipykernel->jupyter==1.0.0->d2l==1.0.3) (0.6.3)\r\n",
      "Requirement already satisfied: typing-extensions in /Users/matteo/PycharmProjects/pythonProject/.venv/lib/python3.9/site-packages (from ipython>=7.23.1->ipykernel->jupyter==1.0.0->d2l==1.0.3) (4.12.2)\r\n",
      "Requirement already satisfied: exceptiongroup in /Users/matteo/PycharmProjects/pythonProject/.venv/lib/python3.9/site-packages (from ipython>=7.23.1->ipykernel->jupyter==1.0.0->d2l==1.0.3) (1.2.2)\r\n",
      "Requirement already satisfied: pexpect>4.3 in /Users/matteo/PycharmProjects/pythonProject/.venv/lib/python3.9/site-packages (from ipython>=7.23.1->ipykernel->jupyter==1.0.0->d2l==1.0.3) (4.9.0)\r\n",
      "Requirement already satisfied: platformdirs>=2.5 in /Users/matteo/PycharmProjects/pythonProject/.venv/lib/python3.9/site-packages (from jupyter-core!=5.0.*,>=4.12->ipykernel->jupyter==1.0.0->d2l==1.0.3) (4.3.6)\r\n",
      "Requirement already satisfied: anyio>=3.1.0 in /Users/matteo/PycharmProjects/pythonProject/.venv/lib/python3.9/site-packages (from jupyter-server<3,>=2.4.0->notebook->jupyter==1.0.0->d2l==1.0.3) (4.6.0)\r\n",
      "Requirement already satisfied: argon2-cffi>=21.1 in /Users/matteo/PycharmProjects/pythonProject/.venv/lib/python3.9/site-packages (from jupyter-server<3,>=2.4.0->notebook->jupyter==1.0.0->d2l==1.0.3) (23.1.0)\r\n",
      "Requirement already satisfied: jupyter-events>=0.9.0 in /Users/matteo/PycharmProjects/pythonProject/.venv/lib/python3.9/site-packages (from jupyter-server<3,>=2.4.0->notebook->jupyter==1.0.0->d2l==1.0.3) (0.10.0)\r\n",
      "Requirement already satisfied: jupyter-server-terminals>=0.4.4 in /Users/matteo/PycharmProjects/pythonProject/.venv/lib/python3.9/site-packages (from jupyter-server<3,>=2.4.0->notebook->jupyter==1.0.0->d2l==1.0.3) (0.5.3)\r\n",
      "Requirement already satisfied: overrides>=5.0 in /Users/matteo/PycharmProjects/pythonProject/.venv/lib/python3.9/site-packages (from jupyter-server<3,>=2.4.0->notebook->jupyter==1.0.0->d2l==1.0.3) (7.7.0)\r\n",
      "Requirement already satisfied: prometheus-client>=0.9 in /Users/matteo/PycharmProjects/pythonProject/.venv/lib/python3.9/site-packages (from jupyter-server<3,>=2.4.0->notebook->jupyter==1.0.0->d2l==1.0.3) (0.21.0)\r\n",
      "Requirement already satisfied: send2trash>=1.8.2 in /Users/matteo/PycharmProjects/pythonProject/.venv/lib/python3.9/site-packages (from jupyter-server<3,>=2.4.0->notebook->jupyter==1.0.0->d2l==1.0.3) (1.8.3)\r\n",
      "Requirement already satisfied: terminado>=0.8.3 in /Users/matteo/PycharmProjects/pythonProject/.venv/lib/python3.9/site-packages (from jupyter-server<3,>=2.4.0->notebook->jupyter==1.0.0->d2l==1.0.3) (0.18.1)\r\n",
      "Requirement already satisfied: websocket-client>=1.7 in /Users/matteo/PycharmProjects/pythonProject/.venv/lib/python3.9/site-packages (from jupyter-server<3,>=2.4.0->notebook->jupyter==1.0.0->d2l==1.0.3) (1.8.0)\r\n",
      "Requirement already satisfied: async-lru>=1.0.0 in /Users/matteo/PycharmProjects/pythonProject/.venv/lib/python3.9/site-packages (from jupyterlab<4.3,>=4.2.0->notebook->jupyter==1.0.0->d2l==1.0.3) (2.0.4)\r\n",
      "Requirement already satisfied: httpx>=0.25.0 in /Users/matteo/PycharmProjects/pythonProject/.venv/lib/python3.9/site-packages (from jupyterlab<4.3,>=4.2.0->notebook->jupyter==1.0.0->d2l==1.0.3) (0.27.2)\r\n",
      "Requirement already satisfied: jupyter-lsp>=2.0.0 in /Users/matteo/PycharmProjects/pythonProject/.venv/lib/python3.9/site-packages (from jupyterlab<4.3,>=4.2.0->notebook->jupyter==1.0.0->d2l==1.0.3) (2.2.5)\r\n",
      "Requirement already satisfied: setuptools>=40.1.0 in /Users/matteo/PycharmProjects/pythonProject/.venv/lib/python3.9/site-packages (from jupyterlab<4.3,>=4.2.0->notebook->jupyter==1.0.0->d2l==1.0.3) (68.2.0)\r\n",
      "Requirement already satisfied: tomli>=1.2.2 in /Users/matteo/PycharmProjects/pythonProject/.venv/lib/python3.9/site-packages (from jupyterlab<4.3,>=4.2.0->notebook->jupyter==1.0.0->d2l==1.0.3) (2.0.1)\r\n",
      "Requirement already satisfied: babel>=2.10 in /Users/matteo/PycharmProjects/pythonProject/.venv/lib/python3.9/site-packages (from jupyterlab-server<3,>=2.27.1->notebook->jupyter==1.0.0->d2l==1.0.3) (2.16.0)\r\n",
      "Requirement already satisfied: json5>=0.9.0 in /Users/matteo/PycharmProjects/pythonProject/.venv/lib/python3.9/site-packages (from jupyterlab-server<3,>=2.27.1->notebook->jupyter==1.0.0->d2l==1.0.3) (0.9.25)\r\n",
      "Requirement already satisfied: jsonschema>=4.18.0 in /Users/matteo/PycharmProjects/pythonProject/.venv/lib/python3.9/site-packages (from jupyterlab-server<3,>=2.27.1->notebook->jupyter==1.0.0->d2l==1.0.3) (4.23.0)\r\n",
      "Requirement already satisfied: fastjsonschema>=2.15 in /Users/matteo/PycharmProjects/pythonProject/.venv/lib/python3.9/site-packages (from nbformat>=5.7->nbconvert->jupyter==1.0.0->d2l==1.0.3) (2.20.0)\r\n",
      "Requirement already satisfied: wcwidth in /Users/matteo/PycharmProjects/pythonProject/.venv/lib/python3.9/site-packages (from prompt-toolkit>=3.0.30->jupyter-console->jupyter==1.0.0->d2l==1.0.3) (0.2.13)\r\n",
      "Requirement already satisfied: soupsieve>1.2 in /Users/matteo/PycharmProjects/pythonProject/.venv/lib/python3.9/site-packages (from beautifulsoup4->nbconvert->jupyter==1.0.0->d2l==1.0.3) (2.6)\r\n",
      "Requirement already satisfied: sniffio>=1.1 in /Users/matteo/PycharmProjects/pythonProject/.venv/lib/python3.9/site-packages (from anyio>=3.1.0->jupyter-server<3,>=2.4.0->notebook->jupyter==1.0.0->d2l==1.0.3) (1.3.1)\r\n",
      "Requirement already satisfied: argon2-cffi-bindings in /Users/matteo/PycharmProjects/pythonProject/.venv/lib/python3.9/site-packages (from argon2-cffi>=21.1->jupyter-server<3,>=2.4.0->notebook->jupyter==1.0.0->d2l==1.0.3) (21.2.0)\r\n",
      "Requirement already satisfied: httpcore==1.* in /Users/matteo/PycharmProjects/pythonProject/.venv/lib/python3.9/site-packages (from httpx>=0.25.0->jupyterlab<4.3,>=4.2.0->notebook->jupyter==1.0.0->d2l==1.0.3) (1.0.5)\r\n",
      "Requirement already satisfied: h11<0.15,>=0.13 in /Users/matteo/PycharmProjects/pythonProject/.venv/lib/python3.9/site-packages (from httpcore==1.*->httpx>=0.25.0->jupyterlab<4.3,>=4.2.0->notebook->jupyter==1.0.0->d2l==1.0.3) (0.14.0)\r\n",
      "Requirement already satisfied: parso<0.9.0,>=0.8.3 in /Users/matteo/PycharmProjects/pythonProject/.venv/lib/python3.9/site-packages (from jedi>=0.16->ipython>=7.23.1->ipykernel->jupyter==1.0.0->d2l==1.0.3) (0.8.4)\r\n",
      "Requirement already satisfied: attrs>=22.2.0 in /Users/matteo/PycharmProjects/pythonProject/.venv/lib/python3.9/site-packages (from jsonschema>=4.18.0->jupyterlab-server<3,>=2.27.1->notebook->jupyter==1.0.0->d2l==1.0.3) (24.2.0)\r\n",
      "Requirement already satisfied: jsonschema-specifications>=2023.03.6 in /Users/matteo/PycharmProjects/pythonProject/.venv/lib/python3.9/site-packages (from jsonschema>=4.18.0->jupyterlab-server<3,>=2.27.1->notebook->jupyter==1.0.0->d2l==1.0.3) (2023.12.1)\r\n",
      "Requirement already satisfied: referencing>=0.28.4 in /Users/matteo/PycharmProjects/pythonProject/.venv/lib/python3.9/site-packages (from jsonschema>=4.18.0->jupyterlab-server<3,>=2.27.1->notebook->jupyter==1.0.0->d2l==1.0.3) (0.35.1)\r\n",
      "Requirement already satisfied: rpds-py>=0.7.1 in /Users/matteo/PycharmProjects/pythonProject/.venv/lib/python3.9/site-packages (from jsonschema>=4.18.0->jupyterlab-server<3,>=2.27.1->notebook->jupyter==1.0.0->d2l==1.0.3) (0.20.0)\r\n",
      "Requirement already satisfied: python-json-logger>=2.0.4 in /Users/matteo/PycharmProjects/pythonProject/.venv/lib/python3.9/site-packages (from jupyter-events>=0.9.0->jupyter-server<3,>=2.4.0->notebook->jupyter==1.0.0->d2l==1.0.3) (2.0.7)\r\n",
      "Requirement already satisfied: pyyaml>=5.3 in /Users/matteo/PycharmProjects/pythonProject/.venv/lib/python3.9/site-packages (from jupyter-events>=0.9.0->jupyter-server<3,>=2.4.0->notebook->jupyter==1.0.0->d2l==1.0.3) (6.0.2)\r\n",
      "Requirement already satisfied: rfc3339-validator in /Users/matteo/PycharmProjects/pythonProject/.venv/lib/python3.9/site-packages (from jupyter-events>=0.9.0->jupyter-server<3,>=2.4.0->notebook->jupyter==1.0.0->d2l==1.0.3) (0.1.4)\r\n",
      "Requirement already satisfied: rfc3986-validator>=0.1.1 in /Users/matteo/PycharmProjects/pythonProject/.venv/lib/python3.9/site-packages (from jupyter-events>=0.9.0->jupyter-server<3,>=2.4.0->notebook->jupyter==1.0.0->d2l==1.0.3) (0.1.1)\r\n",
      "Requirement already satisfied: ptyprocess>=0.5 in /Users/matteo/PycharmProjects/pythonProject/.venv/lib/python3.9/site-packages (from pexpect>4.3->ipython>=7.23.1->ipykernel->jupyter==1.0.0->d2l==1.0.3) (0.7.0)\r\n",
      "Requirement already satisfied: executing>=1.2.0 in /Users/matteo/PycharmProjects/pythonProject/.venv/lib/python3.9/site-packages (from stack-data->ipython>=7.23.1->ipykernel->jupyter==1.0.0->d2l==1.0.3) (2.1.0)\r\n",
      "Requirement already satisfied: asttokens>=2.1.0 in /Users/matteo/PycharmProjects/pythonProject/.venv/lib/python3.9/site-packages (from stack-data->ipython>=7.23.1->ipykernel->jupyter==1.0.0->d2l==1.0.3) (2.4.1)\r\n",
      "Requirement already satisfied: pure-eval in /Users/matteo/PycharmProjects/pythonProject/.venv/lib/python3.9/site-packages (from stack-data->ipython>=7.23.1->ipykernel->jupyter==1.0.0->d2l==1.0.3) (0.2.3)\r\n",
      "Requirement already satisfied: fqdn in /Users/matteo/PycharmProjects/pythonProject/.venv/lib/python3.9/site-packages (from jsonschema>=4.18.0->jupyterlab-server<3,>=2.27.1->notebook->jupyter==1.0.0->d2l==1.0.3) (1.5.1)\r\n",
      "Requirement already satisfied: isoduration in /Users/matteo/PycharmProjects/pythonProject/.venv/lib/python3.9/site-packages (from jsonschema>=4.18.0->jupyterlab-server<3,>=2.27.1->notebook->jupyter==1.0.0->d2l==1.0.3) (20.11.0)\r\n",
      "Requirement already satisfied: jsonpointer>1.13 in /Users/matteo/PycharmProjects/pythonProject/.venv/lib/python3.9/site-packages (from jsonschema>=4.18.0->jupyterlab-server<3,>=2.27.1->notebook->jupyter==1.0.0->d2l==1.0.3) (3.0.0)\r\n",
      "Requirement already satisfied: uri-template in /Users/matteo/PycharmProjects/pythonProject/.venv/lib/python3.9/site-packages (from jsonschema>=4.18.0->jupyterlab-server<3,>=2.27.1->notebook->jupyter==1.0.0->d2l==1.0.3) (1.3.0)\r\n",
      "Requirement already satisfied: webcolors>=24.6.0 in /Users/matteo/PycharmProjects/pythonProject/.venv/lib/python3.9/site-packages (from jsonschema>=4.18.0->jupyterlab-server<3,>=2.27.1->notebook->jupyter==1.0.0->d2l==1.0.3) (24.8.0)\r\n",
      "Requirement already satisfied: cffi>=1.0.1 in /Users/matteo/PycharmProjects/pythonProject/.venv/lib/python3.9/site-packages (from argon2-cffi-bindings->argon2-cffi>=21.1->jupyter-server<3,>=2.4.0->notebook->jupyter==1.0.0->d2l==1.0.3) (1.17.1)\r\n",
      "Requirement already satisfied: pycparser in /Users/matteo/PycharmProjects/pythonProject/.venv/lib/python3.9/site-packages (from cffi>=1.0.1->argon2-cffi-bindings->argon2-cffi>=21.1->jupyter-server<3,>=2.4.0->notebook->jupyter==1.0.0->d2l==1.0.3) (2.22)\r\n",
      "Requirement already satisfied: arrow>=0.15.0 in /Users/matteo/PycharmProjects/pythonProject/.venv/lib/python3.9/site-packages (from isoduration->jsonschema>=4.18.0->jupyterlab-server<3,>=2.27.1->notebook->jupyter==1.0.0->d2l==1.0.3) (1.3.0)\r\n",
      "Requirement already satisfied: types-python-dateutil>=2.8.10 in /Users/matteo/PycharmProjects/pythonProject/.venv/lib/python3.9/site-packages (from arrow>=0.15.0->isoduration->jsonschema>=4.18.0->jupyterlab-server<3,>=2.27.1->notebook->jupyter==1.0.0->d2l==1.0.3) (2.9.0.20240906)\r\n",
      "\r\n",
      "\u001B[1m[\u001B[0m\u001B[34;49mnotice\u001B[0m\u001B[1;39;49m]\u001B[0m\u001B[39;49m A new release of pip is available: \u001B[0m\u001B[31;49m23.2.1\u001B[0m\u001B[39;49m -> \u001B[0m\u001B[32;49m24.2\u001B[0m\r\n",
      "\u001B[1m[\u001B[0m\u001B[34;49mnotice\u001B[0m\u001B[1;39;49m]\u001B[0m\u001B[39;49m To update, run: \u001B[0m\u001B[32;49mpip install --upgrade pip\u001B[0m\r\n"
     ]
    }
   ],
   "execution_count": 2
  },
  {
   "cell_type": "markdown",
   "metadata": {
    "id": "y8TAc74VvXbH"
   },
   "source": [
    "## 2.1 Data Manipulation"
   ]
  },
  {
   "cell_type": "markdown",
   "metadata": {
    "id": "xd47GYp0DR_m"
   },
   "source": [
    "### 2.1.1 Getting Started"
   ]
  },
  {
   "cell_type": "code",
   "metadata": {
    "id": "H7ero2M6wMPl",
    "ExecuteTime": {
     "end_time": "2024-09-24T05:25:02.121840Z",
     "start_time": "2024-09-24T05:25:01.930881Z"
    }
   },
   "source": [
    "import torch"
   ],
   "outputs": [
    {
     "ename": "ModuleNotFoundError",
     "evalue": "No module named 'torch'",
     "output_type": "error",
     "traceback": [
      "\u001B[0;31m---------------------------------------------------------------------------\u001B[0m",
      "\u001B[0;31mModuleNotFoundError\u001B[0m                       Traceback (most recent call last)",
      "Cell \u001B[0;32mIn[3], line 1\u001B[0m\n\u001B[0;32m----> 1\u001B[0m \u001B[38;5;28;01mimport\u001B[39;00m \u001B[38;5;21;01mtorch\u001B[39;00m\n",
      "\u001B[0;31mModuleNotFoundError\u001B[0m: No module named 'torch'"
     ]
    }
   ],
   "execution_count": 3
  },
  {
   "cell_type": "markdown",
   "metadata": {
    "id": "V8eUZvKKMxAe"
   },
   "source": [
    "```arange(n)``` creates a tensor of evenly spaced values from 0 (included) to n (not included) with a default interval of 1"
   ]
  },
  {
   "cell_type": "code",
   "metadata": {
    "colab": {
     "base_uri": "https://localhost:8080/"
    },
    "id": "1_o1RbY0wuBQ",
    "outputId": "095e93d0-0259-4583-8931-2e3d7ee39031"
   },
   "source": [
    "x = torch.arange(15, dtype=torch.float32)\n",
    "x"
   ],
   "outputs": [],
   "execution_count": null
  },
  {
   "cell_type": "markdown",
   "metadata": {
    "id": "gxAoTOQANSDW"
   },
   "source": [
    "```numel()``` returns the number of elements in a tensor"
   ]
  },
  {
   "cell_type": "code",
   "metadata": {
    "colab": {
     "base_uri": "https://localhost:8080/"
    },
    "id": "JD98LP_ow9kS",
    "outputId": "1eb1478f-08fe-4d17-c2e7-5ddfd51f09c5",
    "ExecuteTime": {
     "end_time": "2024-09-24T05:25:02.660899Z",
     "start_time": "2024-09-24T05:25:02.648330Z"
    }
   },
   "source": [
    "x.numel()"
   ],
   "outputs": [
    {
     "ename": "NameError",
     "evalue": "name 'x' is not defined",
     "output_type": "error",
     "traceback": [
      "\u001B[0;31m---------------------------------------------------------------------------\u001B[0m",
      "\u001B[0;31mNameError\u001B[0m                                 Traceback (most recent call last)",
      "Cell \u001B[0;32mIn[4], line 1\u001B[0m\n\u001B[0;32m----> 1\u001B[0m \u001B[43mx\u001B[49m\u001B[38;5;241m.\u001B[39mnumel()\n",
      "\u001B[0;31mNameError\u001B[0m: name 'x' is not defined"
     ]
    }
   ],
   "execution_count": 4
  },
  {
   "cell_type": "markdown",
   "metadata": {
    "id": "dKcPbSukNeVx"
   },
   "source": [
    "The ```shape``` attribute contains the dimensionality of the tensor"
   ]
  },
  {
   "cell_type": "code",
   "metadata": {
    "colab": {
     "base_uri": "https://localhost:8080/"
    },
    "id": "hZ2UPnH4w_It",
    "outputId": "0250e30e-96ad-49de-b11f-b7e69d266d4a",
    "ExecuteTime": {
     "end_time": "2024-09-24T05:25:02.773201Z",
     "start_time": "2024-09-24T05:25:02.740437Z"
    }
   },
   "source": [
    "x.shape"
   ],
   "outputs": [
    {
     "ename": "NameError",
     "evalue": "name 'x' is not defined",
     "output_type": "error",
     "traceback": [
      "\u001B[0;31m---------------------------------------------------------------------------\u001B[0m",
      "\u001B[0;31mNameError\u001B[0m                                 Traceback (most recent call last)",
      "Cell \u001B[0;32mIn[5], line 1\u001B[0m\n\u001B[0;32m----> 1\u001B[0m \u001B[43mx\u001B[49m\u001B[38;5;241m.\u001B[39mshape\n",
      "\u001B[0;31mNameError\u001B[0m: name 'x' is not defined"
     ]
    }
   ],
   "execution_count": 5
  },
  {
   "cell_type": "markdown",
   "metadata": {
    "id": "tGGu4Zn1ODoN"
   },
   "source": [
    "```reshape()``` fits the tensor to a new dimensionality"
   ]
  },
  {
   "cell_type": "code",
   "metadata": {
    "colab": {
     "base_uri": "https://localhost:8080/"
    },
    "id": "82lzbi1VxFj5",
    "outputId": "587a474a-c326-4013-fd68-5b0302dc65f3",
    "ExecuteTime": {
     "end_time": "2024-09-24T05:25:07.005942Z",
     "start_time": "2024-09-24T05:25:06.993543Z"
    }
   },
   "source": [
    "x = x.reshape(5,3)\n",
    "x"
   ],
   "outputs": [
    {
     "ename": "NameError",
     "evalue": "name 'x' is not defined",
     "output_type": "error",
     "traceback": [
      "\u001B[0;31m---------------------------------------------------------------------------\u001B[0m",
      "\u001B[0;31mNameError\u001B[0m                                 Traceback (most recent call last)",
      "Cell \u001B[0;32mIn[6], line 1\u001B[0m\n\u001B[0;32m----> 1\u001B[0m x \u001B[38;5;241m=\u001B[39m \u001B[43mx\u001B[49m\u001B[38;5;241m.\u001B[39mreshape(\u001B[38;5;241m5\u001B[39m,\u001B[38;5;241m3\u001B[39m)\n\u001B[1;32m      2\u001B[0m x\n",
      "\u001B[0;31mNameError\u001B[0m: name 'x' is not defined"
     ]
    }
   ],
   "execution_count": 6
  },
  {
   "cell_type": "markdown",
   "metadata": {
    "id": "9aW0VWmrOLTU"
   },
   "source": [
    "```zeros()``` returns a tensor of the specified dimensions containing all zeros"
   ]
  },
  {
   "cell_type": "code",
   "metadata": {
    "colab": {
     "base_uri": "https://localhost:8080/"
    },
    "id": "4rem6mbrue7M",
    "outputId": "70639b83-aa86-449b-c3eb-3bdaa69140e7",
    "ExecuteTime": {
     "end_time": "2024-09-24T05:25:07.190835Z",
     "start_time": "2024-09-24T05:25:07.178569Z"
    }
   },
   "source": [
    "torch.zeros(2,2,3)"
   ],
   "outputs": [
    {
     "ename": "NameError",
     "evalue": "name 'torch' is not defined",
     "output_type": "error",
     "traceback": [
      "\u001B[0;31m---------------------------------------------------------------------------\u001B[0m",
      "\u001B[0;31mNameError\u001B[0m                                 Traceback (most recent call last)",
      "Cell \u001B[0;32mIn[7], line 1\u001B[0m\n\u001B[0;32m----> 1\u001B[0m \u001B[43mtorch\u001B[49m\u001B[38;5;241m.\u001B[39mzeros(\u001B[38;5;241m2\u001B[39m,\u001B[38;5;241m2\u001B[39m,\u001B[38;5;241m3\u001B[39m)\n",
      "\u001B[0;31mNameError\u001B[0m: name 'torch' is not defined"
     ]
    }
   ],
   "execution_count": 7
  },
  {
   "cell_type": "markdown",
   "metadata": {
    "id": "eIO3DDCuOZuI"
   },
   "source": [
    "```ones()``` returns a tensor of the specified dimensions containing all ones"
   ]
  },
  {
   "cell_type": "code",
   "metadata": {
    "colab": {
     "base_uri": "https://localhost:8080/"
    },
    "id": "0iI-Ham7xLaq",
    "outputId": "3e993391-d2f4-4e0e-dcbe-b00fbad67150",
    "ExecuteTime": {
     "end_time": "2024-09-24T05:25:07.387097Z",
     "start_time": "2024-09-24T05:25:07.374129Z"
    }
   },
   "source": [
    "torch.ones(2,2,3)"
   ],
   "outputs": [
    {
     "ename": "NameError",
     "evalue": "name 'torch' is not defined",
     "output_type": "error",
     "traceback": [
      "\u001B[0;31m---------------------------------------------------------------------------\u001B[0m",
      "\u001B[0;31mNameError\u001B[0m                                 Traceback (most recent call last)",
      "Cell \u001B[0;32mIn[8], line 1\u001B[0m\n\u001B[0;32m----> 1\u001B[0m \u001B[43mtorch\u001B[49m\u001B[38;5;241m.\u001B[39mones(\u001B[38;5;241m2\u001B[39m,\u001B[38;5;241m2\u001B[39m,\u001B[38;5;241m3\u001B[39m)\n",
      "\u001B[0;31mNameError\u001B[0m: name 'torch' is not defined"
     ]
    }
   ],
   "execution_count": 8
  },
  {
   "cell_type": "markdown",
   "metadata": {
    "id": "uKqwkehfOb4V"
   },
   "source": [
    "```randn()``` returns a tensor of the specified dimensions containing random values"
   ]
  },
  {
   "cell_type": "code",
   "metadata": {
    "colab": {
     "base_uri": "https://localhost:8080/"
    },
    "id": "lFZHXyLLC5KD",
    "outputId": "28bd7f6c-e371-41e3-bbdd-e82cfa9c859f",
    "ExecuteTime": {
     "end_time": "2024-09-24T05:25:07.499027Z",
     "start_time": "2024-09-24T05:25:07.487197Z"
    }
   },
   "source": [
    "torch.randn(3,5)"
   ],
   "outputs": [
    {
     "ename": "NameError",
     "evalue": "name 'torch' is not defined",
     "output_type": "error",
     "traceback": [
      "\u001B[0;31m---------------------------------------------------------------------------\u001B[0m",
      "\u001B[0;31mNameError\u001B[0m                                 Traceback (most recent call last)",
      "Cell \u001B[0;32mIn[9], line 1\u001B[0m\n\u001B[0;32m----> 1\u001B[0m \u001B[43mtorch\u001B[49m\u001B[38;5;241m.\u001B[39mrandn(\u001B[38;5;241m3\u001B[39m,\u001B[38;5;241m5\u001B[39m)\n",
      "\u001B[0;31mNameError\u001B[0m: name 'torch' is not defined"
     ]
    }
   ],
   "execution_count": 9
  },
  {
   "cell_type": "markdown",
   "metadata": {
    "id": "dwRXDYTjOe-a"
   },
   "source": [
    "```tensor()``` returns a tensor containing the specified values contained in a possibly nested python list"
   ]
  },
  {
   "cell_type": "code",
   "metadata": {
    "colab": {
     "base_uri": "https://localhost:8080/"
    },
    "id": "RxeDyiIfC9Qw",
    "outputId": "cd7026c7-8bf9-4df2-e039-b74828534766",
    "ExecuteTime": {
     "end_time": "2024-09-24T05:25:07.702881Z",
     "start_time": "2024-09-24T05:25:07.689561Z"
    }
   },
   "source": [
    "torch.tensor([[1,4,7,10], [2,5,8,11], [3,6,9,12]])"
   ],
   "outputs": [
    {
     "ename": "NameError",
     "evalue": "name 'torch' is not defined",
     "output_type": "error",
     "traceback": [
      "\u001B[0;31m---------------------------------------------------------------------------\u001B[0m",
      "\u001B[0;31mNameError\u001B[0m                                 Traceback (most recent call last)",
      "Cell \u001B[0;32mIn[10], line 1\u001B[0m\n\u001B[0;32m----> 1\u001B[0m \u001B[43mtorch\u001B[49m\u001B[38;5;241m.\u001B[39mtensor([[\u001B[38;5;241m1\u001B[39m,\u001B[38;5;241m4\u001B[39m,\u001B[38;5;241m7\u001B[39m,\u001B[38;5;241m10\u001B[39m], [\u001B[38;5;241m2\u001B[39m,\u001B[38;5;241m5\u001B[39m,\u001B[38;5;241m8\u001B[39m,\u001B[38;5;241m11\u001B[39m], [\u001B[38;5;241m3\u001B[39m,\u001B[38;5;241m6\u001B[39m,\u001B[38;5;241m9\u001B[39m,\u001B[38;5;241m12\u001B[39m]])\n",
      "\u001B[0;31mNameError\u001B[0m: name 'torch' is not defined"
     ]
    }
   ],
   "execution_count": 10
  },
  {
   "cell_type": "markdown",
   "metadata": {
    "id": "9dS55_eyDXiF"
   },
   "source": [
    "### 2.1.2 Indexing and Slicing"
   ]
  },
  {
   "cell_type": "markdown",
   "metadata": {
    "id": "ONGEdWogO842"
   },
   "source": [
    "Using Indexing and Slicing specific Elements, Rows or Columns of the tensor can be viewed or altered."
   ]
  },
  {
   "cell_type": "code",
   "metadata": {
    "colab": {
     "base_uri": "https://localhost:8080/"
    },
    "id": "94Jy6JFwDcoA",
    "outputId": "1e2eb2d3-0f1c-42b6-a49e-80562a6f87b0",
    "ExecuteTime": {
     "end_time": "2024-09-24T05:25:07.839188Z",
     "start_time": "2024-09-24T05:25:07.826457Z"
    }
   },
   "source": [
    "x[-1], x[1:3]"
   ],
   "outputs": [
    {
     "ename": "NameError",
     "evalue": "name 'x' is not defined",
     "output_type": "error",
     "traceback": [
      "\u001B[0;31m---------------------------------------------------------------------------\u001B[0m",
      "\u001B[0;31mNameError\u001B[0m                                 Traceback (most recent call last)",
      "Cell \u001B[0;32mIn[11], line 1\u001B[0m\n\u001B[0;32m----> 1\u001B[0m \u001B[43mx\u001B[49m[\u001B[38;5;241m-\u001B[39m\u001B[38;5;241m1\u001B[39m], x[\u001B[38;5;241m1\u001B[39m:\u001B[38;5;241m3\u001B[39m]\n",
      "\u001B[0;31mNameError\u001B[0m: name 'x' is not defined"
     ]
    }
   ],
   "execution_count": 11
  },
  {
   "cell_type": "code",
   "metadata": {
    "colab": {
     "base_uri": "https://localhost:8080/"
    },
    "id": "7rZ5YMokDnvD",
    "outputId": "22382381-8f21-4e57-a26f-4d24518b3d54",
    "ExecuteTime": {
     "end_time": "2024-09-24T05:25:08.025931Z",
     "start_time": "2024-09-24T05:25:08.013721Z"
    }
   },
   "source": [
    "x[1,1] = 14\n",
    "x"
   ],
   "outputs": [
    {
     "ename": "NameError",
     "evalue": "name 'x' is not defined",
     "output_type": "error",
     "traceback": [
      "\u001B[0;31m---------------------------------------------------------------------------\u001B[0m",
      "\u001B[0;31mNameError\u001B[0m                                 Traceback (most recent call last)",
      "Cell \u001B[0;32mIn[12], line 1\u001B[0m\n\u001B[0;32m----> 1\u001B[0m \u001B[43mx\u001B[49m[\u001B[38;5;241m1\u001B[39m,\u001B[38;5;241m1\u001B[39m] \u001B[38;5;241m=\u001B[39m \u001B[38;5;241m14\u001B[39m\n\u001B[1;32m      2\u001B[0m x\n",
      "\u001B[0;31mNameError\u001B[0m: name 'x' is not defined"
     ]
    }
   ],
   "execution_count": 12
  },
  {
   "cell_type": "code",
   "metadata": {
    "colab": {
     "base_uri": "https://localhost:8080/"
    },
    "id": "MgHsDXXpD-BR",
    "outputId": "790e7195-d854-4636-e878-96ca2d0bfbba",
    "ExecuteTime": {
     "end_time": "2024-09-24T05:25:08.159691Z",
     "start_time": "2024-09-24T05:25:08.147055Z"
    }
   },
   "source": [
    "x[:2, :] = 1\n",
    "x"
   ],
   "outputs": [
    {
     "ename": "NameError",
     "evalue": "name 'x' is not defined",
     "output_type": "error",
     "traceback": [
      "\u001B[0;31m---------------------------------------------------------------------------\u001B[0m",
      "\u001B[0;31mNameError\u001B[0m                                 Traceback (most recent call last)",
      "Cell \u001B[0;32mIn[13], line 1\u001B[0m\n\u001B[0;32m----> 1\u001B[0m \u001B[43mx\u001B[49m[:\u001B[38;5;241m2\u001B[39m, :] \u001B[38;5;241m=\u001B[39m \u001B[38;5;241m1\u001B[39m\n\u001B[1;32m      2\u001B[0m x\n",
      "\u001B[0;31mNameError\u001B[0m: name 'x' is not defined"
     ]
    }
   ],
   "execution_count": 13
  },
  {
   "cell_type": "markdown",
   "metadata": {
    "id": "ZCaXNke1EIO1"
   },
   "source": [
    "### 2.1.3 Operations"
   ]
  },
  {
   "cell_type": "markdown",
   "metadata": {
    "id": "rkFCN0ZjPFO4"
   },
   "source": [
    "There are a variety of Operations that can be applied to tensors"
   ]
  },
  {
   "cell_type": "code",
   "metadata": {
    "colab": {
     "base_uri": "https://localhost:8080/"
    },
    "id": "KJuxfQJlELBI",
    "outputId": "a09c98c7-7a18-4acb-c5dc-de5cbdacab23",
    "ExecuteTime": {
     "end_time": "2024-09-24T05:25:08.313059Z",
     "start_time": "2024-09-24T05:25:08.300656Z"
    }
   },
   "source": [
    "torch.exp(x)"
   ],
   "outputs": [
    {
     "ename": "NameError",
     "evalue": "name 'torch' is not defined",
     "output_type": "error",
     "traceback": [
      "\u001B[0;31m---------------------------------------------------------------------------\u001B[0m",
      "\u001B[0;31mNameError\u001B[0m                                 Traceback (most recent call last)",
      "Cell \u001B[0;32mIn[14], line 1\u001B[0m\n\u001B[0;32m----> 1\u001B[0m \u001B[43mtorch\u001B[49m\u001B[38;5;241m.\u001B[39mexp(x)\n",
      "\u001B[0;31mNameError\u001B[0m: name 'torch' is not defined"
     ]
    }
   ],
   "execution_count": 14
  },
  {
   "cell_type": "code",
   "metadata": {
    "colab": {
     "base_uri": "https://localhost:8080/"
    },
    "id": "SEsYTeSfEq--",
    "outputId": "336f95cc-2a9b-43e9-c122-15a3ba1c8c7f",
    "ExecuteTime": {
     "end_time": "2024-09-24T05:25:08.450880Z",
     "start_time": "2024-09-24T05:25:08.437521Z"
    }
   },
   "source": [
    "x = torch.tensor([1,2,3,4,5])\n",
    "y = torch.tensor([6,7,8,9,10])\n",
    "x + y, x - y, x * y, x / y, x ** y"
   ],
   "outputs": [
    {
     "ename": "NameError",
     "evalue": "name 'torch' is not defined",
     "output_type": "error",
     "traceback": [
      "\u001B[0;31m---------------------------------------------------------------------------\u001B[0m",
      "\u001B[0;31mNameError\u001B[0m                                 Traceback (most recent call last)",
      "Cell \u001B[0;32mIn[15], line 1\u001B[0m\n\u001B[0;32m----> 1\u001B[0m x \u001B[38;5;241m=\u001B[39m \u001B[43mtorch\u001B[49m\u001B[38;5;241m.\u001B[39mtensor([\u001B[38;5;241m1\u001B[39m,\u001B[38;5;241m2\u001B[39m,\u001B[38;5;241m3\u001B[39m,\u001B[38;5;241m4\u001B[39m,\u001B[38;5;241m5\u001B[39m])\n\u001B[1;32m      2\u001B[0m y \u001B[38;5;241m=\u001B[39m torch\u001B[38;5;241m.\u001B[39mtensor([\u001B[38;5;241m6\u001B[39m,\u001B[38;5;241m7\u001B[39m,\u001B[38;5;241m8\u001B[39m,\u001B[38;5;241m9\u001B[39m,\u001B[38;5;241m10\u001B[39m])\n\u001B[1;32m      3\u001B[0m x \u001B[38;5;241m+\u001B[39m y, x \u001B[38;5;241m-\u001B[39m y, x \u001B[38;5;241m*\u001B[39m y, x \u001B[38;5;241m/\u001B[39m y, x \u001B[38;5;241m*\u001B[39m\u001B[38;5;241m*\u001B[39m y\n",
      "\u001B[0;31mNameError\u001B[0m: name 'torch' is not defined"
     ]
    }
   ],
   "execution_count": 15
  },
  {
   "cell_type": "code",
   "metadata": {
    "colab": {
     "base_uri": "https://localhost:8080/"
    },
    "id": "igVg8qHQFtI6",
    "outputId": "0305a858-f4eb-4d62-cd09-1987f4bc44a7",
    "ExecuteTime": {
     "end_time": "2024-09-24T05:25:08.630425Z",
     "start_time": "2024-09-24T05:25:08.615811Z"
    }
   },
   "source": [
    "x = torch.arange(15, dtype=torch.float32).reshape(3,5)\n",
    "y = torch.tensor([[2,1,4,3,0],[5,7,8,9,6.],[10,12.,11,13,14]])\n",
    "torch.cat((x,y), dim=0), torch.cat((x,y), dim=1)"
   ],
   "outputs": [
    {
     "ename": "NameError",
     "evalue": "name 'torch' is not defined",
     "output_type": "error",
     "traceback": [
      "\u001B[0;31m---------------------------------------------------------------------------\u001B[0m",
      "\u001B[0;31mNameError\u001B[0m                                 Traceback (most recent call last)",
      "Cell \u001B[0;32mIn[16], line 1\u001B[0m\n\u001B[0;32m----> 1\u001B[0m x \u001B[38;5;241m=\u001B[39m \u001B[43mtorch\u001B[49m\u001B[38;5;241m.\u001B[39marange(\u001B[38;5;241m15\u001B[39m, dtype\u001B[38;5;241m=\u001B[39mtorch\u001B[38;5;241m.\u001B[39mfloat32)\u001B[38;5;241m.\u001B[39mreshape(\u001B[38;5;241m3\u001B[39m,\u001B[38;5;241m5\u001B[39m)\n\u001B[1;32m      2\u001B[0m y \u001B[38;5;241m=\u001B[39m torch\u001B[38;5;241m.\u001B[39mtensor([[\u001B[38;5;241m2\u001B[39m,\u001B[38;5;241m1\u001B[39m,\u001B[38;5;241m4\u001B[39m,\u001B[38;5;241m3\u001B[39m,\u001B[38;5;241m0\u001B[39m],[\u001B[38;5;241m5\u001B[39m,\u001B[38;5;241m7\u001B[39m,\u001B[38;5;241m8\u001B[39m,\u001B[38;5;241m9\u001B[39m,\u001B[38;5;241m6.\u001B[39m],[\u001B[38;5;241m10\u001B[39m,\u001B[38;5;241m12.\u001B[39m,\u001B[38;5;241m11\u001B[39m,\u001B[38;5;241m13\u001B[39m,\u001B[38;5;241m14\u001B[39m]])\n\u001B[1;32m      3\u001B[0m torch\u001B[38;5;241m.\u001B[39mcat((x,y), dim\u001B[38;5;241m=\u001B[39m\u001B[38;5;241m0\u001B[39m), torch\u001B[38;5;241m.\u001B[39mcat((x,y), dim\u001B[38;5;241m=\u001B[39m\u001B[38;5;241m1\u001B[39m)\n",
      "\u001B[0;31mNameError\u001B[0m: name 'torch' is not defined"
     ]
    }
   ],
   "execution_count": 16
  },
  {
   "cell_type": "code",
   "metadata": {
    "colab": {
     "base_uri": "https://localhost:8080/"
    },
    "id": "sYrUMpzLGSXf",
    "outputId": "e78c51cc-6b6e-4293-d0b7-fb319b5dbfc4",
    "ExecuteTime": {
     "end_time": "2024-09-24T05:25:08.765680Z",
     "start_time": "2024-09-24T05:25:08.753997Z"
    }
   },
   "source": [
    "x == y"
   ],
   "outputs": [
    {
     "ename": "NameError",
     "evalue": "name 'x' is not defined",
     "output_type": "error",
     "traceback": [
      "\u001B[0;31m---------------------------------------------------------------------------\u001B[0m",
      "\u001B[0;31mNameError\u001B[0m                                 Traceback (most recent call last)",
      "Cell \u001B[0;32mIn[17], line 1\u001B[0m\n\u001B[0;32m----> 1\u001B[0m \u001B[43mx\u001B[49m \u001B[38;5;241m==\u001B[39m y\n",
      "\u001B[0;31mNameError\u001B[0m: name 'x' is not defined"
     ]
    }
   ],
   "execution_count": 17
  },
  {
   "cell_type": "code",
   "metadata": {
    "colab": {
     "base_uri": "https://localhost:8080/"
    },
    "id": "xtSX4WhgGs6G",
    "outputId": "ab933bec-331a-4ea8-eb10-42d5866cf249",
    "ExecuteTime": {
     "end_time": "2024-09-24T05:25:08.909918Z",
     "start_time": "2024-09-24T05:25:08.897154Z"
    }
   },
   "source": [
    "x.sum()"
   ],
   "outputs": [
    {
     "ename": "NameError",
     "evalue": "name 'x' is not defined",
     "output_type": "error",
     "traceback": [
      "\u001B[0;31m---------------------------------------------------------------------------\u001B[0m",
      "\u001B[0;31mNameError\u001B[0m                                 Traceback (most recent call last)",
      "Cell \u001B[0;32mIn[18], line 1\u001B[0m\n\u001B[0;32m----> 1\u001B[0m \u001B[43mx\u001B[49m\u001B[38;5;241m.\u001B[39msum()\n",
      "\u001B[0;31mNameError\u001B[0m: name 'x' is not defined"
     ]
    }
   ],
   "execution_count": 18
  },
  {
   "cell_type": "markdown",
   "metadata": {
    "id": "qsPym_0OGws3"
   },
   "source": [
    "### 2.1.4 Broadcasting"
   ]
  },
  {
   "cell_type": "markdown",
   "metadata": {
    "id": "0THOkeGGP0xT"
   },
   "source": [
    "Using Broadcasting, tensors of different dimensionality can be added together"
   ]
  },
  {
   "cell_type": "code",
   "metadata": {
    "colab": {
     "base_uri": "https://localhost:8080/"
    },
    "id": "FqrVzdHGG0NE",
    "outputId": "22dd62cb-1843-4a72-cb1d-cd68f99b7feb",
    "ExecuteTime": {
     "end_time": "2024-09-24T05:25:09.037201Z",
     "start_time": "2024-09-24T05:25:09.024740Z"
    }
   },
   "source": [
    "a = torch.arange(4).reshape(4,1)\n",
    "b = torch.arange(2).reshape(1,2)\n",
    "a, b"
   ],
   "outputs": [
    {
     "ename": "NameError",
     "evalue": "name 'torch' is not defined",
     "output_type": "error",
     "traceback": [
      "\u001B[0;31m---------------------------------------------------------------------------\u001B[0m",
      "\u001B[0;31mNameError\u001B[0m                                 Traceback (most recent call last)",
      "Cell \u001B[0;32mIn[19], line 1\u001B[0m\n\u001B[0;32m----> 1\u001B[0m a \u001B[38;5;241m=\u001B[39m \u001B[43mtorch\u001B[49m\u001B[38;5;241m.\u001B[39marange(\u001B[38;5;241m4\u001B[39m)\u001B[38;5;241m.\u001B[39mreshape(\u001B[38;5;241m4\u001B[39m,\u001B[38;5;241m1\u001B[39m)\n\u001B[1;32m      2\u001B[0m b \u001B[38;5;241m=\u001B[39m torch\u001B[38;5;241m.\u001B[39marange(\u001B[38;5;241m2\u001B[39m)\u001B[38;5;241m.\u001B[39mreshape(\u001B[38;5;241m1\u001B[39m,\u001B[38;5;241m2\u001B[39m)\n\u001B[1;32m      3\u001B[0m a, b\n",
      "\u001B[0;31mNameError\u001B[0m: name 'torch' is not defined"
     ]
    }
   ],
   "execution_count": 19
  },
  {
   "cell_type": "code",
   "metadata": {
    "colab": {
     "base_uri": "https://localhost:8080/"
    },
    "id": "8e2dP34uHJMv",
    "outputId": "c6f34a95-f1c0-4675-d4ed-bff29879b494",
    "ExecuteTime": {
     "end_time": "2024-09-24T05:25:09.218749Z",
     "start_time": "2024-09-24T05:25:09.207161Z"
    }
   },
   "source": [
    "a + b"
   ],
   "outputs": [
    {
     "ename": "NameError",
     "evalue": "name 'a' is not defined",
     "output_type": "error",
     "traceback": [
      "\u001B[0;31m---------------------------------------------------------------------------\u001B[0m",
      "\u001B[0;31mNameError\u001B[0m                                 Traceback (most recent call last)",
      "Cell \u001B[0;32mIn[20], line 1\u001B[0m\n\u001B[0;32m----> 1\u001B[0m \u001B[43ma\u001B[49m \u001B[38;5;241m+\u001B[39m b\n",
      "\u001B[0;31mNameError\u001B[0m: name 'a' is not defined"
     ]
    }
   ],
   "execution_count": 20
  },
  {
   "cell_type": "markdown",
   "metadata": {
    "id": "8vge0gqjHMgQ"
   },
   "source": [
    "### 2.1.5 Saving Memory"
   ]
  },
  {
   "cell_type": "markdown",
   "metadata": {
    "id": "WttFowjqP8Hf"
   },
   "source": [
    "By modifying the tensor instead of allocating a new value to the variable Python we can perform updates to the tensors in place."
   ]
  },
  {
   "cell_type": "code",
   "metadata": {
    "colab": {
     "base_uri": "https://localhost:8080/"
    },
    "id": "b-I-46vFHPCP",
    "outputId": "59040129-8129-4f42-de43-bce34b298555",
    "ExecuteTime": {
     "end_time": "2024-09-24T05:25:09.359526Z",
     "start_time": "2024-09-24T05:25:09.346830Z"
    }
   },
   "source": [
    "before = id(y)\n",
    "y = y + x\n",
    "before == id(y)"
   ],
   "outputs": [
    {
     "ename": "NameError",
     "evalue": "name 'y' is not defined",
     "output_type": "error",
     "traceback": [
      "\u001B[0;31m---------------------------------------------------------------------------\u001B[0m",
      "\u001B[0;31mNameError\u001B[0m                                 Traceback (most recent call last)",
      "Cell \u001B[0;32mIn[21], line 1\u001B[0m\n\u001B[0;32m----> 1\u001B[0m before \u001B[38;5;241m=\u001B[39m \u001B[38;5;28mid\u001B[39m(\u001B[43my\u001B[49m)\n\u001B[1;32m      2\u001B[0m y \u001B[38;5;241m=\u001B[39m y \u001B[38;5;241m+\u001B[39m x\n\u001B[1;32m      3\u001B[0m before \u001B[38;5;241m==\u001B[39m \u001B[38;5;28mid\u001B[39m(y)\n",
      "\u001B[0;31mNameError\u001B[0m: name 'y' is not defined"
     ]
    }
   ],
   "execution_count": 21
  },
  {
   "cell_type": "code",
   "metadata": {
    "colab": {
     "base_uri": "https://localhost:8080/"
    },
    "id": "G625Xv4xHZ95",
    "outputId": "9ec3c470-f632-405c-eecc-10334b22df5f",
    "ExecuteTime": {
     "end_time": "2024-09-24T05:25:09.532456Z",
     "start_time": "2024-09-24T05:25:09.516891Z"
    }
   },
   "source": [
    "z = torch.zeros_like(y)\n",
    "print(f'id(z): {id(z)}')\n",
    "z[:] = x + y\n",
    "print(f'id(z): {id(z)}')"
   ],
   "outputs": [
    {
     "ename": "NameError",
     "evalue": "name 'torch' is not defined",
     "output_type": "error",
     "traceback": [
      "\u001B[0;31m---------------------------------------------------------------------------\u001B[0m",
      "\u001B[0;31mNameError\u001B[0m                                 Traceback (most recent call last)",
      "Cell \u001B[0;32mIn[22], line 1\u001B[0m\n\u001B[0;32m----> 1\u001B[0m z \u001B[38;5;241m=\u001B[39m \u001B[43mtorch\u001B[49m\u001B[38;5;241m.\u001B[39mzeros_like(y)\n\u001B[1;32m      2\u001B[0m \u001B[38;5;28mprint\u001B[39m(\u001B[38;5;124mf\u001B[39m\u001B[38;5;124m'\u001B[39m\u001B[38;5;124mid(z): \u001B[39m\u001B[38;5;132;01m{\u001B[39;00m\u001B[38;5;28mid\u001B[39m(z)\u001B[38;5;132;01m}\u001B[39;00m\u001B[38;5;124m'\u001B[39m)\n\u001B[1;32m      3\u001B[0m z[:] \u001B[38;5;241m=\u001B[39m x \u001B[38;5;241m+\u001B[39m y\n",
      "\u001B[0;31mNameError\u001B[0m: name 'torch' is not defined"
     ]
    }
   ],
   "execution_count": 22
  },
  {
   "cell_type": "code",
   "metadata": {
    "colab": {
     "base_uri": "https://localhost:8080/"
    },
    "id": "514Z775uLtlw",
    "outputId": "225259b0-1115-4997-8e46-589319303038",
    "ExecuteTime": {
     "end_time": "2024-09-24T05:25:09.693480Z",
     "start_time": "2024-09-24T05:25:09.679730Z"
    }
   },
   "source": [
    "before = id(x)\n",
    "x += y\n",
    "before == id(x)"
   ],
   "outputs": [
    {
     "ename": "NameError",
     "evalue": "name 'x' is not defined",
     "output_type": "error",
     "traceback": [
      "\u001B[0;31m---------------------------------------------------------------------------\u001B[0m",
      "\u001B[0;31mNameError\u001B[0m                                 Traceback (most recent call last)",
      "Cell \u001B[0;32mIn[23], line 1\u001B[0m\n\u001B[0;32m----> 1\u001B[0m before \u001B[38;5;241m=\u001B[39m \u001B[38;5;28mid\u001B[39m(\u001B[43mx\u001B[49m)\n\u001B[1;32m      2\u001B[0m x \u001B[38;5;241m+\u001B[39m\u001B[38;5;241m=\u001B[39m y\n\u001B[1;32m      3\u001B[0m before \u001B[38;5;241m==\u001B[39m \u001B[38;5;28mid\u001B[39m(x)\n",
      "\u001B[0;31mNameError\u001B[0m: name 'x' is not defined"
     ]
    }
   ],
   "execution_count": 23
  },
  {
   "cell_type": "markdown",
   "metadata": {
    "id": "hSOMqfylL5qX"
   },
   "source": [
    "### 2.1.6 Conversion to Other Python Objects"
   ]
  },
  {
   "cell_type": "markdown",
   "metadata": {
    "id": "SzD5I4MzQi6Z"
   },
   "source": [
    "There are a variety of ways to convert tensors into other data types"
   ]
  },
  {
   "cell_type": "code",
   "metadata": {
    "colab": {
     "base_uri": "https://localhost:8080/"
    },
    "id": "FP-9lkaEMAKh",
    "outputId": "eeb4aca6-73bd-4f6c-aba7-5e0eb6744b40",
    "ExecuteTime": {
     "end_time": "2024-09-24T05:25:09.846034Z",
     "start_time": "2024-09-24T05:25:09.832359Z"
    }
   },
   "source": [
    "a = x.numpy()\n",
    "b = torch.from_numpy(a)\n",
    "type(a), type(b)"
   ],
   "outputs": [
    {
     "ename": "NameError",
     "evalue": "name 'x' is not defined",
     "output_type": "error",
     "traceback": [
      "\u001B[0;31m---------------------------------------------------------------------------\u001B[0m",
      "\u001B[0;31mNameError\u001B[0m                                 Traceback (most recent call last)",
      "Cell \u001B[0;32mIn[24], line 1\u001B[0m\n\u001B[0;32m----> 1\u001B[0m a \u001B[38;5;241m=\u001B[39m \u001B[43mx\u001B[49m\u001B[38;5;241m.\u001B[39mnumpy()\n\u001B[1;32m      2\u001B[0m b \u001B[38;5;241m=\u001B[39m torch\u001B[38;5;241m.\u001B[39mfrom_numpy(a)\n\u001B[1;32m      3\u001B[0m \u001B[38;5;28mtype\u001B[39m(a), \u001B[38;5;28mtype\u001B[39m(b)\n",
      "\u001B[0;31mNameError\u001B[0m: name 'x' is not defined"
     ]
    }
   ],
   "execution_count": 24
  },
  {
   "cell_type": "code",
   "metadata": {
    "colab": {
     "base_uri": "https://localhost:8080/"
    },
    "id": "5ndAShN-MMnU",
    "outputId": "3ac89ecb-b3a3-4b2e-afa4-03a11201a24d",
    "ExecuteTime": {
     "end_time": "2024-09-24T05:25:09.989097Z",
     "start_time": "2024-09-24T05:25:09.975445Z"
    }
   },
   "source": [
    "a = torch.tensor([3.5])\n",
    "a, a.item(), float(a), int(a)"
   ],
   "outputs": [
    {
     "ename": "NameError",
     "evalue": "name 'torch' is not defined",
     "output_type": "error",
     "traceback": [
      "\u001B[0;31m---------------------------------------------------------------------------\u001B[0m",
      "\u001B[0;31mNameError\u001B[0m                                 Traceback (most recent call last)",
      "Cell \u001B[0;32mIn[25], line 1\u001B[0m\n\u001B[0;32m----> 1\u001B[0m a \u001B[38;5;241m=\u001B[39m \u001B[43mtorch\u001B[49m\u001B[38;5;241m.\u001B[39mtensor([\u001B[38;5;241m3.5\u001B[39m])\n\u001B[1;32m      2\u001B[0m a, a\u001B[38;5;241m.\u001B[39mitem(), \u001B[38;5;28mfloat\u001B[39m(a), \u001B[38;5;28mint\u001B[39m(a)\n",
      "\u001B[0;31mNameError\u001B[0m: name 'torch' is not defined"
     ]
    }
   ],
   "execution_count": 25
  },
  {
   "cell_type": "markdown",
   "metadata": {
    "id": "gNm9vZbhQtej"
   },
   "source": [
    "## 2.2 Data Preprocessing"
   ]
  },
  {
   "cell_type": "markdown",
   "metadata": {
    "id": "SRu7tDZtQ2zS"
   },
   "source": [
    "### 2.2.1 Reading the Dataset"
   ]
  },
  {
   "cell_type": "markdown",
   "metadata": {
    "id": "OzTsZ0P7RaOW"
   },
   "source": [
    "Pandas is used to load CSV (Comma-Separated values) into Python"
   ]
  },
  {
   "cell_type": "code",
   "metadata": {
    "id": "x41kuY-XQ0DT",
    "ExecuteTime": {
     "end_time": "2024-09-24T05:25:10.139402Z",
     "start_time": "2024-09-24T05:25:10.135383Z"
    }
   },
   "source": [
    "import os\n",
    "\n",
    "os.makedirs(os.path.join('..', 'data'), exist_ok=True)\n",
    "data_file = os.path.join('..', 'data', 'house_tiny.csv')\n",
    "with open(data_file, 'w') as f:\n",
    "    f.write('''NumRooms,RoofType,Price\n",
    "NA,NA,127500\n",
    "2,NA,106000\n",
    "4,Slate,178100\n",
    "NA,NA,140000''')"
   ],
   "outputs": [],
   "execution_count": 26
  },
  {
   "cell_type": "code",
   "metadata": {
    "colab": {
     "base_uri": "https://localhost:8080/"
    },
    "id": "c8hw2dxpRGRN",
    "outputId": "b1ce67b2-31a0-414a-cba1-60071b59b1ca",
    "ExecuteTime": {
     "end_time": "2024-09-24T05:25:23.731727Z",
     "start_time": "2024-09-24T05:25:10.277168Z"
    }
   },
   "source": [
    "import pandas as pd\n",
    "\n",
    "data = pd.read_csv(data_file)\n",
    "print(data)"
   ],
   "outputs": [
    {
     "ename": "KeyboardInterrupt",
     "evalue": "",
     "output_type": "error",
     "traceback": [
      "\u001B[0;31m---------------------------------------------------------------------------\u001B[0m",
      "\u001B[0;31mKeyboardInterrupt\u001B[0m                         Traceback (most recent call last)",
      "Cell \u001B[0;32mIn[27], line 1\u001B[0m\n\u001B[0;32m----> 1\u001B[0m \u001B[38;5;28;01mimport\u001B[39;00m \u001B[38;5;21;01mpandas\u001B[39;00m \u001B[38;5;28;01mas\u001B[39;00m \u001B[38;5;21;01mpd\u001B[39;00m\n\u001B[1;32m      3\u001B[0m data \u001B[38;5;241m=\u001B[39m pd\u001B[38;5;241m.\u001B[39mread_csv(data_file)\n\u001B[1;32m      4\u001B[0m \u001B[38;5;28mprint\u001B[39m(data)\n",
      "File \u001B[0;32m~/PycharmProjects/pythonProject/.venv/lib/python3.9/site-packages/pandas/__init__.py:48\u001B[0m\n\u001B[1;32m     45\u001B[0m \u001B[38;5;66;03m# let init-time option registration happen\u001B[39;00m\n\u001B[1;32m     46\u001B[0m \u001B[38;5;28;01mimport\u001B[39;00m \u001B[38;5;21;01mpandas\u001B[39;00m\u001B[38;5;21;01m.\u001B[39;00m\u001B[38;5;21;01mcore\u001B[39;00m\u001B[38;5;21;01m.\u001B[39;00m\u001B[38;5;21;01mconfig_init\u001B[39;00m  \u001B[38;5;66;03m# pyright: ignore # noqa:F401\u001B[39;00m\n\u001B[0;32m---> 48\u001B[0m \u001B[38;5;28;01mfrom\u001B[39;00m \u001B[38;5;21;01mpandas\u001B[39;00m\u001B[38;5;21;01m.\u001B[39;00m\u001B[38;5;21;01mcore\u001B[39;00m\u001B[38;5;21;01m.\u001B[39;00m\u001B[38;5;21;01mapi\u001B[39;00m \u001B[38;5;28;01mimport\u001B[39;00m (\n\u001B[1;32m     49\u001B[0m     \u001B[38;5;66;03m# dtype\u001B[39;00m\n\u001B[1;32m     50\u001B[0m     ArrowDtype,\n\u001B[1;32m     51\u001B[0m     Int8Dtype,\n\u001B[1;32m     52\u001B[0m     Int16Dtype,\n\u001B[1;32m     53\u001B[0m     Int32Dtype,\n\u001B[1;32m     54\u001B[0m     Int64Dtype,\n\u001B[1;32m     55\u001B[0m     UInt8Dtype,\n\u001B[1;32m     56\u001B[0m     UInt16Dtype,\n\u001B[1;32m     57\u001B[0m     UInt32Dtype,\n\u001B[1;32m     58\u001B[0m     UInt64Dtype,\n\u001B[1;32m     59\u001B[0m     Float32Dtype,\n\u001B[1;32m     60\u001B[0m     Float64Dtype,\n\u001B[1;32m     61\u001B[0m     CategoricalDtype,\n\u001B[1;32m     62\u001B[0m     PeriodDtype,\n\u001B[1;32m     63\u001B[0m     IntervalDtype,\n\u001B[1;32m     64\u001B[0m     DatetimeTZDtype,\n\u001B[1;32m     65\u001B[0m     StringDtype,\n\u001B[1;32m     66\u001B[0m     BooleanDtype,\n\u001B[1;32m     67\u001B[0m     \u001B[38;5;66;03m# missing\u001B[39;00m\n\u001B[1;32m     68\u001B[0m     NA,\n\u001B[1;32m     69\u001B[0m     isna,\n\u001B[1;32m     70\u001B[0m     isnull,\n\u001B[1;32m     71\u001B[0m     notna,\n\u001B[1;32m     72\u001B[0m     notnull,\n\u001B[1;32m     73\u001B[0m     \u001B[38;5;66;03m# indexes\u001B[39;00m\n\u001B[1;32m     74\u001B[0m     Index,\n\u001B[1;32m     75\u001B[0m     CategoricalIndex,\n\u001B[1;32m     76\u001B[0m     RangeIndex,\n\u001B[1;32m     77\u001B[0m     MultiIndex,\n\u001B[1;32m     78\u001B[0m     IntervalIndex,\n\u001B[1;32m     79\u001B[0m     TimedeltaIndex,\n\u001B[1;32m     80\u001B[0m     DatetimeIndex,\n\u001B[1;32m     81\u001B[0m     PeriodIndex,\n\u001B[1;32m     82\u001B[0m     IndexSlice,\n\u001B[1;32m     83\u001B[0m     \u001B[38;5;66;03m# tseries\u001B[39;00m\n\u001B[1;32m     84\u001B[0m     NaT,\n\u001B[1;32m     85\u001B[0m     Period,\n\u001B[1;32m     86\u001B[0m     period_range,\n\u001B[1;32m     87\u001B[0m     Timedelta,\n\u001B[1;32m     88\u001B[0m     timedelta_range,\n\u001B[1;32m     89\u001B[0m     Timestamp,\n\u001B[1;32m     90\u001B[0m     date_range,\n\u001B[1;32m     91\u001B[0m     bdate_range,\n\u001B[1;32m     92\u001B[0m     Interval,\n\u001B[1;32m     93\u001B[0m     interval_range,\n\u001B[1;32m     94\u001B[0m     DateOffset,\n\u001B[1;32m     95\u001B[0m     \u001B[38;5;66;03m# conversion\u001B[39;00m\n\u001B[1;32m     96\u001B[0m     to_numeric,\n\u001B[1;32m     97\u001B[0m     to_datetime,\n\u001B[1;32m     98\u001B[0m     to_timedelta,\n\u001B[1;32m     99\u001B[0m     \u001B[38;5;66;03m# misc\u001B[39;00m\n\u001B[1;32m    100\u001B[0m     Flags,\n\u001B[1;32m    101\u001B[0m     Grouper,\n\u001B[1;32m    102\u001B[0m     factorize,\n\u001B[1;32m    103\u001B[0m     unique,\n\u001B[1;32m    104\u001B[0m     value_counts,\n\u001B[1;32m    105\u001B[0m     NamedAgg,\n\u001B[1;32m    106\u001B[0m     array,\n\u001B[1;32m    107\u001B[0m     Categorical,\n\u001B[1;32m    108\u001B[0m     set_eng_float_format,\n\u001B[1;32m    109\u001B[0m     Series,\n\u001B[1;32m    110\u001B[0m     DataFrame,\n\u001B[1;32m    111\u001B[0m )\n\u001B[1;32m    113\u001B[0m \u001B[38;5;28;01mfrom\u001B[39;00m \u001B[38;5;21;01mpandas\u001B[39;00m\u001B[38;5;21;01m.\u001B[39;00m\u001B[38;5;21;01mcore\u001B[39;00m\u001B[38;5;21;01m.\u001B[39;00m\u001B[38;5;21;01marrays\u001B[39;00m\u001B[38;5;21;01m.\u001B[39;00m\u001B[38;5;21;01msparse\u001B[39;00m \u001B[38;5;28;01mimport\u001B[39;00m SparseDtype\n\u001B[1;32m    115\u001B[0m \u001B[38;5;28;01mfrom\u001B[39;00m \u001B[38;5;21;01mpandas\u001B[39;00m\u001B[38;5;21;01m.\u001B[39;00m\u001B[38;5;21;01mtseries\u001B[39;00m\u001B[38;5;21;01m.\u001B[39;00m\u001B[38;5;21;01mapi\u001B[39;00m \u001B[38;5;28;01mimport\u001B[39;00m infer_freq\n",
      "File \u001B[0;32m~/PycharmProjects/pythonProject/.venv/lib/python3.9/site-packages/pandas/core/api.py:47\u001B[0m\n\u001B[1;32m     45\u001B[0m \u001B[38;5;28;01mfrom\u001B[39;00m \u001B[38;5;21;01mpandas\u001B[39;00m\u001B[38;5;21;01m.\u001B[39;00m\u001B[38;5;21;01mcore\u001B[39;00m\u001B[38;5;21;01m.\u001B[39;00m\u001B[38;5;21;01mconstruction\u001B[39;00m \u001B[38;5;28;01mimport\u001B[39;00m array\n\u001B[1;32m     46\u001B[0m \u001B[38;5;28;01mfrom\u001B[39;00m \u001B[38;5;21;01mpandas\u001B[39;00m\u001B[38;5;21;01m.\u001B[39;00m\u001B[38;5;21;01mcore\u001B[39;00m\u001B[38;5;21;01m.\u001B[39;00m\u001B[38;5;21;01mflags\u001B[39;00m \u001B[38;5;28;01mimport\u001B[39;00m Flags\n\u001B[0;32m---> 47\u001B[0m \u001B[38;5;28;01mfrom\u001B[39;00m \u001B[38;5;21;01mpandas\u001B[39;00m\u001B[38;5;21;01m.\u001B[39;00m\u001B[38;5;21;01mcore\u001B[39;00m\u001B[38;5;21;01m.\u001B[39;00m\u001B[38;5;21;01mgroupby\u001B[39;00m \u001B[38;5;28;01mimport\u001B[39;00m (\n\u001B[1;32m     48\u001B[0m     Grouper,\n\u001B[1;32m     49\u001B[0m     NamedAgg,\n\u001B[1;32m     50\u001B[0m )\n\u001B[1;32m     51\u001B[0m \u001B[38;5;28;01mfrom\u001B[39;00m \u001B[38;5;21;01mpandas\u001B[39;00m\u001B[38;5;21;01m.\u001B[39;00m\u001B[38;5;21;01mcore\u001B[39;00m\u001B[38;5;21;01m.\u001B[39;00m\u001B[38;5;21;01mindexes\u001B[39;00m\u001B[38;5;21;01m.\u001B[39;00m\u001B[38;5;21;01mapi\u001B[39;00m \u001B[38;5;28;01mimport\u001B[39;00m (\n\u001B[1;32m     52\u001B[0m     CategoricalIndex,\n\u001B[1;32m     53\u001B[0m     DatetimeIndex,\n\u001B[0;32m   (...)\u001B[0m\n\u001B[1;32m     59\u001B[0m     TimedeltaIndex,\n\u001B[1;32m     60\u001B[0m )\n\u001B[1;32m     61\u001B[0m \u001B[38;5;28;01mfrom\u001B[39;00m \u001B[38;5;21;01mpandas\u001B[39;00m\u001B[38;5;21;01m.\u001B[39;00m\u001B[38;5;21;01mcore\u001B[39;00m\u001B[38;5;21;01m.\u001B[39;00m\u001B[38;5;21;01mindexes\u001B[39;00m\u001B[38;5;21;01m.\u001B[39;00m\u001B[38;5;21;01mdatetimes\u001B[39;00m \u001B[38;5;28;01mimport\u001B[39;00m (\n\u001B[1;32m     62\u001B[0m     bdate_range,\n\u001B[1;32m     63\u001B[0m     date_range,\n\u001B[1;32m     64\u001B[0m )\n",
      "File \u001B[0;32m~/PycharmProjects/pythonProject/.venv/lib/python3.9/site-packages/pandas/core/groupby/__init__.py:1\u001B[0m\n\u001B[0;32m----> 1\u001B[0m \u001B[38;5;28;01mfrom\u001B[39;00m \u001B[38;5;21;01mpandas\u001B[39;00m\u001B[38;5;21;01m.\u001B[39;00m\u001B[38;5;21;01mcore\u001B[39;00m\u001B[38;5;21;01m.\u001B[39;00m\u001B[38;5;21;01mgroupby\u001B[39;00m\u001B[38;5;21;01m.\u001B[39;00m\u001B[38;5;21;01mgeneric\u001B[39;00m \u001B[38;5;28;01mimport\u001B[39;00m (\n\u001B[1;32m      2\u001B[0m     DataFrameGroupBy,\n\u001B[1;32m      3\u001B[0m     NamedAgg,\n\u001B[1;32m      4\u001B[0m     SeriesGroupBy,\n\u001B[1;32m      5\u001B[0m )\n\u001B[1;32m      6\u001B[0m \u001B[38;5;28;01mfrom\u001B[39;00m \u001B[38;5;21;01mpandas\u001B[39;00m\u001B[38;5;21;01m.\u001B[39;00m\u001B[38;5;21;01mcore\u001B[39;00m\u001B[38;5;21;01m.\u001B[39;00m\u001B[38;5;21;01mgroupby\u001B[39;00m\u001B[38;5;21;01m.\u001B[39;00m\u001B[38;5;21;01mgroupby\u001B[39;00m \u001B[38;5;28;01mimport\u001B[39;00m GroupBy\n\u001B[1;32m      7\u001B[0m \u001B[38;5;28;01mfrom\u001B[39;00m \u001B[38;5;21;01mpandas\u001B[39;00m\u001B[38;5;21;01m.\u001B[39;00m\u001B[38;5;21;01mcore\u001B[39;00m\u001B[38;5;21;01m.\u001B[39;00m\u001B[38;5;21;01mgroupby\u001B[39;00m\u001B[38;5;21;01m.\u001B[39;00m\u001B[38;5;21;01mgrouper\u001B[39;00m \u001B[38;5;28;01mimport\u001B[39;00m Grouper\n",
      "File \u001B[0;32m~/PycharmProjects/pythonProject/.venv/lib/python3.9/site-packages/pandas/core/groupby/generic.py:77\u001B[0m\n\u001B[1;32m     70\u001B[0m \u001B[38;5;28;01mfrom\u001B[39;00m \u001B[38;5;21;01mpandas\u001B[39;00m\u001B[38;5;21;01m.\u001B[39;00m\u001B[38;5;21;01mcore\u001B[39;00m\u001B[38;5;21;01m.\u001B[39;00m\u001B[38;5;21;01mapply\u001B[39;00m \u001B[38;5;28;01mimport\u001B[39;00m (\n\u001B[1;32m     71\u001B[0m     GroupByApply,\n\u001B[1;32m     72\u001B[0m     maybe_mangle_lambdas,\n\u001B[1;32m     73\u001B[0m     reconstruct_func,\n\u001B[1;32m     74\u001B[0m     validate_func_kwargs,\n\u001B[1;32m     75\u001B[0m )\n\u001B[1;32m     76\u001B[0m \u001B[38;5;28;01mimport\u001B[39;00m \u001B[38;5;21;01mpandas\u001B[39;00m\u001B[38;5;21;01m.\u001B[39;00m\u001B[38;5;21;01mcore\u001B[39;00m\u001B[38;5;21;01m.\u001B[39;00m\u001B[38;5;21;01mcommon\u001B[39;00m \u001B[38;5;28;01mas\u001B[39;00m \u001B[38;5;21;01mcom\u001B[39;00m\n\u001B[0;32m---> 77\u001B[0m \u001B[38;5;28;01mfrom\u001B[39;00m \u001B[38;5;21;01mpandas\u001B[39;00m\u001B[38;5;21;01m.\u001B[39;00m\u001B[38;5;21;01mcore\u001B[39;00m\u001B[38;5;21;01m.\u001B[39;00m\u001B[38;5;21;01mframe\u001B[39;00m \u001B[38;5;28;01mimport\u001B[39;00m DataFrame\n\u001B[1;32m     78\u001B[0m \u001B[38;5;28;01mfrom\u001B[39;00m \u001B[38;5;21;01mpandas\u001B[39;00m\u001B[38;5;21;01m.\u001B[39;00m\u001B[38;5;21;01mcore\u001B[39;00m\u001B[38;5;21;01m.\u001B[39;00m\u001B[38;5;21;01mgroupby\u001B[39;00m \u001B[38;5;28;01mimport\u001B[39;00m base\n\u001B[1;32m     79\u001B[0m \u001B[38;5;28;01mfrom\u001B[39;00m \u001B[38;5;21;01mpandas\u001B[39;00m\u001B[38;5;21;01m.\u001B[39;00m\u001B[38;5;21;01mcore\u001B[39;00m\u001B[38;5;21;01m.\u001B[39;00m\u001B[38;5;21;01mgroupby\u001B[39;00m\u001B[38;5;21;01m.\u001B[39;00m\u001B[38;5;21;01mgroupby\u001B[39;00m \u001B[38;5;28;01mimport\u001B[39;00m (\n\u001B[1;32m     80\u001B[0m     GroupBy,\n\u001B[1;32m     81\u001B[0m     GroupByPlot,\n\u001B[0;32m   (...)\u001B[0m\n\u001B[1;32m     84\u001B[0m     _transform_template,\n\u001B[1;32m     85\u001B[0m )\n",
      "File \u001B[0;32m~/PycharmProjects/pythonProject/.venv/lib/python3.9/site-packages/pandas/core/frame.py:182\u001B[0m\n\u001B[1;32m    175\u001B[0m \u001B[38;5;28;01mfrom\u001B[39;00m \u001B[38;5;21;01mpandas\u001B[39;00m\u001B[38;5;21;01m.\u001B[39;00m\u001B[38;5;21;01mcore\u001B[39;00m\u001B[38;5;21;01m.\u001B[39;00m\u001B[38;5;21;01marrays\u001B[39;00m\u001B[38;5;21;01m.\u001B[39;00m\u001B[38;5;21;01msparse\u001B[39;00m \u001B[38;5;28;01mimport\u001B[39;00m SparseFrameAccessor\n\u001B[1;32m    176\u001B[0m \u001B[38;5;28;01mfrom\u001B[39;00m \u001B[38;5;21;01mpandas\u001B[39;00m\u001B[38;5;21;01m.\u001B[39;00m\u001B[38;5;21;01mcore\u001B[39;00m\u001B[38;5;21;01m.\u001B[39;00m\u001B[38;5;21;01mconstruction\u001B[39;00m \u001B[38;5;28;01mimport\u001B[39;00m (\n\u001B[1;32m    177\u001B[0m     ensure_wrapped_if_datetimelike,\n\u001B[1;32m    178\u001B[0m     extract_array,\n\u001B[1;32m    179\u001B[0m     sanitize_array,\n\u001B[1;32m    180\u001B[0m     sanitize_masked_array,\n\u001B[1;32m    181\u001B[0m )\n\u001B[0;32m--> 182\u001B[0m \u001B[38;5;28;01mfrom\u001B[39;00m \u001B[38;5;21;01mpandas\u001B[39;00m\u001B[38;5;21;01m.\u001B[39;00m\u001B[38;5;21;01mcore\u001B[39;00m\u001B[38;5;21;01m.\u001B[39;00m\u001B[38;5;21;01mgeneric\u001B[39;00m \u001B[38;5;28;01mimport\u001B[39;00m NDFrame\n\u001B[1;32m    183\u001B[0m \u001B[38;5;28;01mfrom\u001B[39;00m \u001B[38;5;21;01mpandas\u001B[39;00m\u001B[38;5;21;01m.\u001B[39;00m\u001B[38;5;21;01mcore\u001B[39;00m\u001B[38;5;21;01m.\u001B[39;00m\u001B[38;5;21;01mindexers\u001B[39;00m \u001B[38;5;28;01mimport\u001B[39;00m check_key_length\n\u001B[1;32m    184\u001B[0m \u001B[38;5;28;01mfrom\u001B[39;00m \u001B[38;5;21;01mpandas\u001B[39;00m\u001B[38;5;21;01m.\u001B[39;00m\u001B[38;5;21;01mcore\u001B[39;00m\u001B[38;5;21;01m.\u001B[39;00m\u001B[38;5;21;01mindexes\u001B[39;00m\u001B[38;5;21;01m.\u001B[39;00m\u001B[38;5;21;01mapi\u001B[39;00m \u001B[38;5;28;01mimport\u001B[39;00m (\n\u001B[1;32m    185\u001B[0m     DatetimeIndex,\n\u001B[1;32m    186\u001B[0m     Index,\n\u001B[0;32m   (...)\u001B[0m\n\u001B[1;32m    190\u001B[0m     ensure_index_from_sequences,\n\u001B[1;32m    191\u001B[0m )\n",
      "File \u001B[0;32m~/PycharmProjects/pythonProject/.venv/lib/python3.9/site-packages/pandas/core/generic.py:138\u001B[0m\n\u001B[1;32m    129\u001B[0m \u001B[38;5;28;01mfrom\u001B[39;00m \u001B[38;5;21;01mpandas\u001B[39;00m\u001B[38;5;21;01m.\u001B[39;00m\u001B[38;5;21;01mcore\u001B[39;00m\u001B[38;5;21;01m.\u001B[39;00m\u001B[38;5;21;01mdtypes\u001B[39;00m\u001B[38;5;21;01m.\u001B[39;00m\u001B[38;5;21;01minference\u001B[39;00m \u001B[38;5;28;01mimport\u001B[39;00m (\n\u001B[1;32m    130\u001B[0m     is_hashable,\n\u001B[1;32m    131\u001B[0m     is_nested_list_like,\n\u001B[1;32m    132\u001B[0m )\n\u001B[1;32m    133\u001B[0m \u001B[38;5;28;01mfrom\u001B[39;00m \u001B[38;5;21;01mpandas\u001B[39;00m\u001B[38;5;21;01m.\u001B[39;00m\u001B[38;5;21;01mcore\u001B[39;00m\u001B[38;5;21;01m.\u001B[39;00m\u001B[38;5;21;01mdtypes\u001B[39;00m\u001B[38;5;21;01m.\u001B[39;00m\u001B[38;5;21;01mmissing\u001B[39;00m \u001B[38;5;28;01mimport\u001B[39;00m (\n\u001B[1;32m    134\u001B[0m     isna,\n\u001B[1;32m    135\u001B[0m     notna,\n\u001B[1;32m    136\u001B[0m )\n\u001B[0;32m--> 138\u001B[0m \u001B[38;5;28;01mfrom\u001B[39;00m \u001B[38;5;21;01mpandas\u001B[39;00m\u001B[38;5;21;01m.\u001B[39;00m\u001B[38;5;21;01mcore\u001B[39;00m \u001B[38;5;28;01mimport\u001B[39;00m (\n\u001B[1;32m    139\u001B[0m     algorithms \u001B[38;5;28;01mas\u001B[39;00m algos,\n\u001B[1;32m    140\u001B[0m     arraylike,\n\u001B[1;32m    141\u001B[0m     common,\n\u001B[1;32m    142\u001B[0m     indexing,\n\u001B[1;32m    143\u001B[0m     nanops,\n\u001B[1;32m    144\u001B[0m     sample,\n\u001B[1;32m    145\u001B[0m )\n\u001B[1;32m    146\u001B[0m \u001B[38;5;28;01mfrom\u001B[39;00m \u001B[38;5;21;01mpandas\u001B[39;00m\u001B[38;5;21;01m.\u001B[39;00m\u001B[38;5;21;01mcore\u001B[39;00m\u001B[38;5;21;01m.\u001B[39;00m\u001B[38;5;21;01marray_algos\u001B[39;00m\u001B[38;5;21;01m.\u001B[39;00m\u001B[38;5;21;01mreplace\u001B[39;00m \u001B[38;5;28;01mimport\u001B[39;00m should_use_regex\n\u001B[1;32m    147\u001B[0m \u001B[38;5;28;01mfrom\u001B[39;00m \u001B[38;5;21;01mpandas\u001B[39;00m\u001B[38;5;21;01m.\u001B[39;00m\u001B[38;5;21;01mcore\u001B[39;00m\u001B[38;5;21;01m.\u001B[39;00m\u001B[38;5;21;01marrays\u001B[39;00m \u001B[38;5;28;01mimport\u001B[39;00m ExtensionArray\n",
      "File \u001B[0;32m~/PycharmProjects/pythonProject/.venv/lib/python3.9/site-packages/pandas/core/indexing.py:19\u001B[0m\n\u001B[1;32m     15\u001B[0m \u001B[38;5;28;01mimport\u001B[39;00m \u001B[38;5;21;01mnumpy\u001B[39;00m \u001B[38;5;28;01mas\u001B[39;00m \u001B[38;5;21;01mnp\u001B[39;00m\n\u001B[1;32m     17\u001B[0m \u001B[38;5;28;01mfrom\u001B[39;00m \u001B[38;5;21;01mpandas\u001B[39;00m\u001B[38;5;21;01m.\u001B[39;00m\u001B[38;5;21;01m_config\u001B[39;00m \u001B[38;5;28;01mimport\u001B[39;00m using_copy_on_write\n\u001B[0;32m---> 19\u001B[0m \u001B[38;5;28;01mfrom\u001B[39;00m \u001B[38;5;21;01mpandas\u001B[39;00m\u001B[38;5;21;01m.\u001B[39;00m\u001B[38;5;21;01m_libs\u001B[39;00m\u001B[38;5;21;01m.\u001B[39;00m\u001B[38;5;21;01mindexing\u001B[39;00m \u001B[38;5;28;01mimport\u001B[39;00m NDFrameIndexerBase\n\u001B[1;32m     20\u001B[0m \u001B[38;5;28;01mfrom\u001B[39;00m \u001B[38;5;21;01mpandas\u001B[39;00m\u001B[38;5;21;01m.\u001B[39;00m\u001B[38;5;21;01m_libs\u001B[39;00m\u001B[38;5;21;01m.\u001B[39;00m\u001B[38;5;21;01mlib\u001B[39;00m \u001B[38;5;28;01mimport\u001B[39;00m item_from_zerodim\n\u001B[1;32m     21\u001B[0m \u001B[38;5;28;01mfrom\u001B[39;00m \u001B[38;5;21;01mpandas\u001B[39;00m\u001B[38;5;21;01m.\u001B[39;00m\u001B[38;5;21;01m_typing\u001B[39;00m \u001B[38;5;28;01mimport\u001B[39;00m (\n\u001B[1;32m     22\u001B[0m     Axis,\n\u001B[1;32m     23\u001B[0m     AxisInt,\n\u001B[1;32m     24\u001B[0m )\n",
      "File \u001B[0;32m<frozen importlib._bootstrap>:398\u001B[0m, in \u001B[0;36mparent\u001B[0;34m(self)\u001B[0m\n",
      "\u001B[0;31mKeyboardInterrupt\u001B[0m: "
     ]
    }
   ],
   "execution_count": 27
  },
  {
   "cell_type": "markdown",
   "metadata": {
    "id": "RzCyY-BrRTRg"
   },
   "source": [
    "### 2.2.2 Data Preparation"
   ]
  },
  {
   "cell_type": "markdown",
   "metadata": {
    "id": "xAqllcKl8Txv"
   },
   "source": [
    "The data is split into input and target values. The final model should predict the target value given the specific input values.\n",
    "\n",
    "Missing values in categorical input values (NaN) are treated as their own category."
   ]
  },
  {
   "cell_type": "code",
   "metadata": {
    "colab": {
     "base_uri": "https://localhost:8080/"
    },
    "id": "hwSJjJhfRWxo",
    "outputId": "5c3081b7-967b-4ef6-c9fa-d52c971fe048"
   },
   "source": [
    "inputs, targets = data.iloc[:, 0:2], data.iloc[:, 2]\n",
    "inputs = pd.get_dummies(inputs, dummy_na=True)\n",
    "print(inputs)"
   ],
   "outputs": [],
   "execution_count": null
  },
  {
   "cell_type": "markdown",
   "metadata": {
    "id": "aUAcJ5j18w0-"
   },
   "source": [
    "Missing Values in the numerical input values (NaN) are commonly replaced with the mean value of that column."
   ]
  },
  {
   "cell_type": "code",
   "metadata": {
    "colab": {
     "base_uri": "https://localhost:8080/"
    },
    "id": "2iprwrAw4j1z",
    "outputId": "8a4f77fa-1c5a-43d1-e5c8-86b86839b0c9"
   },
   "source": [
    "inputs = inputs.fillna(inputs.mean())\n",
    "print(inputs)"
   ],
   "outputs": [],
   "execution_count": null
  },
  {
   "cell_type": "markdown",
   "metadata": {
    "id": "wzUF7_gJ5Zx-"
   },
   "source": [
    "### 2.2.3 Conversion to Tensor Format"
   ]
  },
  {
   "cell_type": "markdown",
   "metadata": {
    "id": "4ZIbJ9Ri8Ia1"
   },
   "source": [
    "After the entries are converted into numerical values, they can be loaded into tensors."
   ]
  },
  {
   "cell_type": "code",
   "metadata": {
    "colab": {
     "base_uri": "https://localhost:8080/"
    },
    "id": "BYTEdkeh7rvq",
    "outputId": "5adab289-198b-491a-826d-6b699d02ab8a"
   },
   "source": [
    "import torch\n",
    "\n",
    "x = torch.tensor(inputs.to_numpy(dtype=float))\n",
    "y = torch.tensor(targets.to_numpy(dtype=float))\n",
    "x, y"
   ],
   "outputs": [],
   "execution_count": null
  },
  {
   "cell_type": "markdown",
   "metadata": {
    "id": "IReU2r-C9xMZ"
   },
   "source": [
    "## 2.3 Linear Algebra"
   ]
  },
  {
   "cell_type": "markdown",
   "metadata": {
    "id": "0ZrkF7_Q-N_b"
   },
   "source": [
    "### 2.3.1 Scalars"
   ]
  },
  {
   "cell_type": "markdown",
   "metadata": {
    "id": "veiWAIEn-0v8"
   },
   "source": [
    "A scalar $x\\in\\Bbb{R}$ can be represented as a tensor containing only one element."
   ]
  },
  {
   "cell_type": "code",
   "metadata": {
    "colab": {
     "base_uri": "https://localhost:8080/"
    },
    "id": "iNY6qKHh-Tax",
    "outputId": "c813c52d-f8c6-48e0-906c-3732e77b6d4c"
   },
   "source": [
    "x = torch.tensor(2.0)\n",
    "y = torch.tensor(5.0)\n",
    "x + y, x - y, x * y, x / y, x ** y"
   ],
   "outputs": [],
   "execution_count": null
  },
  {
   "cell_type": "markdown",
   "metadata": {
    "id": "m9Frzs_Z_SRV"
   },
   "source": [
    "### 2.3.2 Vectors"
   ]
  },
  {
   "cell_type": "markdown",
   "metadata": {
    "id": "MtVFNd6L_b97"
   },
   "source": [
    "A vector is a fixed-length array of scalars. It is a $1^{st}$-order Tensor."
   ]
  },
  {
   "cell_type": "code",
   "metadata": {
    "colab": {
     "base_uri": "https://localhost:8080/"
    },
    "id": "knDksIUq_Rum",
    "outputId": "bfd610a2-8e18-45e3-c3d4-aeda3bd3fa5a"
   },
   "source": [
    "x = torch.arange(5)\n",
    "x"
   ],
   "outputs": [],
   "execution_count": null
  },
  {
   "cell_type": "markdown",
   "metadata": {
    "id": "T3eDVAaT_5M3"
   },
   "source": [
    "Using indexing we can access the elements (scalars) in a vector."
   ]
  },
  {
   "cell_type": "code",
   "metadata": {
    "colab": {
     "base_uri": "https://localhost:8080/"
    },
    "id": "DxxMQp5A_r3j",
    "outputId": "a0ca3152-8f39-431a-9efa-5b60d1c39170"
   },
   "source": [
    "x[2]"
   ],
   "outputs": [],
   "execution_count": null
  },
  {
   "cell_type": "markdown",
   "metadata": {
    "id": "lw2XkSov_6Np"
   },
   "source": [
    "```len()``` returns the length of a vector."
   ]
  },
  {
   "cell_type": "code",
   "metadata": {
    "colab": {
     "base_uri": "https://localhost:8080/"
    },
    "id": "0zwnK2bBABbX",
    "outputId": "53696279-e7ab-4803-c23f-63b8421a1386"
   },
   "source": [
    "len(x)"
   ],
   "outputs": [],
   "execution_count": null
  },
  {
   "cell_type": "markdown",
   "metadata": {
    "id": "nTOPCCh8AJlJ"
   },
   "source": [
    "Since vectors are also tensors, the attribute ```shape``` can also be used to find out the length of the vector."
   ]
  },
  {
   "cell_type": "code",
   "metadata": {
    "colab": {
     "base_uri": "https://localhost:8080/"
    },
    "id": "NTEmglsmADal",
    "outputId": "b5751a7f-fb83-4201-fd14-f99d13f1d2f8"
   },
   "source": [
    "x.shape"
   ],
   "outputs": [],
   "execution_count": null
  },
  {
   "cell_type": "markdown",
   "metadata": {
    "id": "5YQlva9dAlai"
   },
   "source": [
    "### 2.3.3 Matrices"
   ]
  },
  {
   "cell_type": "markdown",
   "metadata": {
    "id": "Q1FKXmwTArFB"
   },
   "source": [
    "Matrices are $2^{nd}$-order Tensors."
   ]
  },
  {
   "cell_type": "code",
   "metadata": {
    "colab": {
     "base_uri": "https://localhost:8080/"
    },
    "id": "r-0W4gb5Aoqv",
    "outputId": "7db0c67b-4337-4219-c7c0-ea6b45cbd880"
   },
   "source": [
    "A = torch.arange(9).reshape(3,3)\n",
    "A"
   ],
   "outputs": [],
   "execution_count": null
  },
  {
   "cell_type": "markdown",
   "metadata": {
    "id": "Y48cgr3GBH41"
   },
   "source": [
    "To transpose a Matrix, we can use the ```T``` attribute of a Matrix."
   ]
  },
  {
   "cell_type": "code",
   "metadata": {
    "colab": {
     "base_uri": "https://localhost:8080/"
    },
    "id": "TDrNHsN7BNgB",
    "outputId": "5c1505cc-c3b5-41a4-dccd-5b5f7af07c15"
   },
   "source": [
    "A.T"
   ],
   "outputs": [],
   "execution_count": null
  },
  {
   "cell_type": "markdown",
   "metadata": {
    "id": "wZkdQPHtBjh-"
   },
   "source": [
    "Square matrices which are identical to their transposed counterpart are called symmetrical."
   ]
  },
  {
   "cell_type": "code",
   "metadata": {
    "colab": {
     "base_uri": "https://localhost:8080/"
    },
    "id": "nojNzMrYBURH",
    "outputId": "a462547b-a07b-4273-de69-4f90c115ed24"
   },
   "source": [
    "A = torch.tensor([[1,0,1],[0,1,0],[1,0,1]])\n",
    "A == A.T"
   ],
   "outputs": [],
   "execution_count": null
  },
  {
   "cell_type": "markdown",
   "metadata": {
    "id": "SL6aBcKQByfK"
   },
   "source": [
    "### 2.3.4 Tensors"
   ]
  },
  {
   "cell_type": "markdown",
   "metadata": {
    "id": "67PKUiFRCNNt"
   },
   "source": [
    "Tensors are a $n^{th}$-order arrays. They can have an arbitrary number of axes."
   ]
  },
  {
   "cell_type": "code",
   "metadata": {
    "colab": {
     "base_uri": "https://localhost:8080/"
    },
    "id": "1ILyBFlkB2Kr",
    "outputId": "534c789a-f451-4a0e-9b05-ad84269afd85"
   },
   "source": [
    "torch.arange(36).reshape(3,3,4)"
   ],
   "outputs": [],
   "execution_count": null
  },
  {
   "cell_type": "markdown",
   "metadata": {
    "id": "Bpxv6qdKCcNJ"
   },
   "source": [
    "### 2.3.5 Basic Properties of Tensor Arithmetic"
   ]
  },
  {
   "cell_type": "code",
   "metadata": {
    "colab": {
     "base_uri": "https://localhost:8080/"
    },
    "id": "6y0wACNYCayR",
    "outputId": "5786a784-6347-494e-8717-5bab48791326"
   },
   "source": [
    "A = torch.arange(8, dtype=torch.float32).reshape(2,4)\n",
    "B = A.clone()\n",
    "A, A + B"
   ],
   "outputs": [],
   "execution_count": null
  },
  {
   "cell_type": "markdown",
   "metadata": {
    "id": "gDnc8V2oC18R"
   },
   "source": [
    "The Hadamard Product is the element wise multiplication of two matrices. $(A\\odot B)_{ij}=A_{ij}\\cdot B_{ij}$"
   ]
  },
  {
   "cell_type": "code",
   "metadata": {
    "colab": {
     "base_uri": "https://localhost:8080/"
    },
    "id": "ZYcY4B6WDxPT",
    "outputId": "a8474eca-3a35-4d15-86b2-0beb8c16d5f5"
   },
   "source": [
    "A * B"
   ],
   "outputs": [],
   "execution_count": null
  },
  {
   "cell_type": "code",
   "metadata": {
    "colab": {
     "base_uri": "https://localhost:8080/"
    },
    "id": "q2LuUFXRD82P",
    "outputId": "e740d352-2456-4704-d344-ed3c8416d56a"
   },
   "source": [
    "a = 2\n",
    "X = torch.arange(28).reshape(2,2,7)\n",
    "(a * X).shape, a + X"
   ],
   "outputs": [],
   "execution_count": null
  },
  {
   "cell_type": "markdown",
   "metadata": {
    "id": "HJxxAxSBETdN"
   },
   "source": [
    "### 2.3.6 Reduction"
   ]
  },
  {
   "cell_type": "markdown",
   "metadata": {
    "id": "FH9TLb8hEopc"
   },
   "source": [
    "Reduction reduces a tensor to one of lower order. Some functions for reduction are ```sum()``` and ``mean()```"
   ]
  },
  {
   "cell_type": "code",
   "metadata": {
    "colab": {
     "base_uri": "https://localhost:8080/"
    },
    "id": "LkVCHOw2ESQv",
    "outputId": "b0a51076-692a-4891-b142-012fbaca5a48"
   },
   "source": [
    "x = torch.arange(4, dtype=torch.float32)\n",
    "x, x.sum()"
   ],
   "outputs": [],
   "execution_count": null
  },
  {
   "cell_type": "code",
   "metadata": {
    "colab": {
     "base_uri": "https://localhost:8080/"
    },
    "id": "7MYf6rlWEkbg",
    "outputId": "586e98ee-d71c-4149-98bc-c3db25e4ae75"
   },
   "source": [
    "A.shape, A.sum()"
   ],
   "outputs": [],
   "execution_count": null
  },
  {
   "cell_type": "code",
   "metadata": {
    "colab": {
     "base_uri": "https://localhost:8080/"
    },
    "id": "NdYRqF4KE2m1",
    "outputId": "43309bf1-29e6-4854-d584-2e5128985881"
   },
   "source": [
    "A.shape, A.sum(axis=0).shape"
   ],
   "outputs": [],
   "execution_count": null
  },
  {
   "cell_type": "code",
   "metadata": {
    "colab": {
     "base_uri": "https://localhost:8080/"
    },
    "id": "qwx1TcgfE_Cp",
    "outputId": "c36d673e-efcd-4610-88b0-8c28a7f836c7"
   },
   "source": [
    "A.shape, A.sum(axis=1).shape"
   ],
   "outputs": [],
   "execution_count": null
  },
  {
   "cell_type": "code",
   "metadata": {
    "colab": {
     "base_uri": "https://localhost:8080/"
    },
    "id": "VskMJmV_FA__",
    "outputId": "2a21b326-c809-4833-eea9-071df6dfc763"
   },
   "source": [
    "A.sum(axis=[0,1]) == A.sum()"
   ],
   "outputs": [],
   "execution_count": null
  },
  {
   "cell_type": "code",
   "metadata": {
    "colab": {
     "base_uri": "https://localhost:8080/"
    },
    "id": "GW4tn7CMFbkI",
    "outputId": "e297265e-8c7c-4bf0-eeea-591e5a33aad3"
   },
   "source": [
    "A.mean(), A.sum() / A.numel()"
   ],
   "outputs": [],
   "execution_count": null
  },
  {
   "cell_type": "code",
   "metadata": {
    "colab": {
     "base_uri": "https://localhost:8080/"
    },
    "id": "UIkEtM5PF0i5",
    "outputId": "b065d23f-d73b-41ec-8dba-1622948038c7"
   },
   "source": [
    "A.mean(axis=0), A.sum(axis=0) / A.shape[0]"
   ],
   "outputs": [],
   "execution_count": null
  },
  {
   "cell_type": "markdown",
   "metadata": {
    "id": "2wCY2g3XF98Z"
   },
   "source": [
    "### 2.3.7 Non-Reduction Sum"
   ]
  },
  {
   "cell_type": "markdown",
   "metadata": {
    "id": "Xdo_LezyGIUn"
   },
   "source": [
    "It is also possible to calculate the sum without changing the order of the tensor."
   ]
  },
  {
   "cell_type": "code",
   "metadata": {
    "colab": {
     "base_uri": "https://localhost:8080/"
    },
    "id": "8twU-xPAGCDS",
    "outputId": "71ee74d5-2127-4bbe-fa0a-3b95bd943e7f"
   },
   "source": [
    "sum_A = A.sum(axis=1, keepdims=True)\n",
    "sum_A, sum_A.shape"
   ],
   "outputs": [],
   "execution_count": null
  },
  {
   "cell_type": "code",
   "metadata": {
    "colab": {
     "base_uri": "https://localhost:8080/"
    },
    "id": "vOAA3GTTGaD2",
    "outputId": "250b5f63-f0bd-4f88-ff65-ea748fbdbf62"
   },
   "source": [
    "A / sum_A"
   ],
   "outputs": [],
   "execution_count": null
  },
  {
   "cell_type": "code",
   "metadata": {
    "colab": {
     "base_uri": "https://localhost:8080/"
    },
    "id": "wUgDtn8zGS3T",
    "outputId": "23b21e87-57e4-4cd3-997a-a7d8a59688d6"
   },
   "source": [
    "A.cumsum(axis=0)"
   ],
   "outputs": [],
   "execution_count": null
  },
  {
   "cell_type": "markdown",
   "metadata": {
    "id": "1B_YTvXhGcE4"
   },
   "source": [
    "### 2.3.8 Dot Products"
   ]
  },
  {
   "cell_type": "markdown",
   "metadata": {
    "id": "eonMGwDYG6vO"
   },
   "source": [
    "There are multiple ways to calculate the dot product of two vectors."
   ]
  },
  {
   "cell_type": "code",
   "metadata": {
    "colab": {
     "base_uri": "https://localhost:8080/"
    },
    "id": "eZ_TxCLfGgjw",
    "outputId": "0dbba59a-a15e-45e4-e36a-464e6289555e"
   },
   "source": [
    "y = torch.ones(4, dtype = torch.float32)\n",
    "x, y, torch.dot(x, y)"
   ],
   "outputs": [],
   "execution_count": null
  },
  {
   "cell_type": "code",
   "metadata": {
    "colab": {
     "base_uri": "https://localhost:8080/"
    },
    "id": "6b-IIgGmG0wa",
    "outputId": "91618815-d6f9-4182-f69a-51b47b1c99a3"
   },
   "source": [
    "torch.sum(x * y)"
   ],
   "outputs": [],
   "execution_count": null
  },
  {
   "cell_type": "markdown",
   "metadata": {
    "id": "cTduiBtFHAU5"
   },
   "source": [
    "### 2.3.9 Matrix-Vector Products"
   ]
  },
  {
   "cell_type": "markdown",
   "metadata": {
    "id": "vtou8qLlIaFH"
   },
   "source": [
    "To express a matrix-vector product or a matrix-matrix product the ```@``` operator can be used."
   ]
  },
  {
   "cell_type": "code",
   "metadata": {
    "colab": {
     "base_uri": "https://localhost:8080/"
    },
    "id": "NVj1ynfXHFJt",
    "outputId": "6c0a9276-b1de-4c15-9fed-30a6fa719642"
   },
   "source": [
    "A.shape, x.shape, torch.mv(A, x), A@x"
   ],
   "outputs": [],
   "execution_count": null
  },
  {
   "cell_type": "markdown",
   "metadata": {
    "id": "pzcS4xcDIvYr"
   },
   "source": [
    "### 2.3.10 Matrix-Matrix Product"
   ]
  },
  {
   "cell_type": "code",
   "metadata": {
    "colab": {
     "base_uri": "https://localhost:8080/"
    },
    "id": "-MD40kinI7CZ",
    "outputId": "e5e896b5-ed37-4ce4-a3f2-9b1f7a25bb08"
   },
   "source": [
    "B = torch.ones(4, 1)\n",
    "torch.mm(A, B), A@B"
   ],
   "outputs": [],
   "execution_count": null
  },
  {
   "cell_type": "markdown",
   "metadata": {
    "id": "gp7prf3HJSq9"
   },
   "source": [
    "### 2.3.11 Norms"
   ]
  },
  {
   "cell_type": "markdown",
   "metadata": {
    "id": "lk6cfmYjJmWh"
   },
   "source": [
    "To calculate the $\\ell_2$ norm, the function ```norm()``` is used."
   ]
  },
  {
   "cell_type": "code",
   "metadata": {
    "colab": {
     "base_uri": "https://localhost:8080/"
    },
    "id": "0_Wbca6KJXJ6",
    "outputId": "dbe80fbc-0a43-46d1-d9ed-cf59b7660cfa"
   },
   "source": [
    "u = torch.tensor([2.5, 1, -12.9])\n",
    "torch.norm(u)"
   ],
   "outputs": [],
   "execution_count": null
  },
  {
   "cell_type": "markdown",
   "metadata": {
    "id": "ahnwV_qaJySU"
   },
   "source": [
    "To calculate the $\\ell_1$ norm, the functions ```abs()``` and ```sum()``` are used."
   ]
  },
  {
   "cell_type": "code",
   "metadata": {
    "colab": {
     "base_uri": "https://localhost:8080/"
    },
    "id": "gSMMAPwjJ86j",
    "outputId": "a5aedb8d-e0a0-4cc6-ad92-81e894bb6bfb"
   },
   "source": [
    "torch.abs(u).sum()"
   ],
   "outputs": [],
   "execution_count": null
  },
  {
   "cell_type": "markdown",
   "metadata": {
    "id": "eN-D1jUuKNv1"
   },
   "source": [
    "To calculate the Frobenius norm of a matrix can be calculated using ```norm()```."
   ]
  },
  {
   "cell_type": "code",
   "metadata": {
    "colab": {
     "base_uri": "https://localhost:8080/"
    },
    "id": "JUZ9uK5gKNS9",
    "outputId": "b80af884-e059-4930-eeff-8f532b0daeda"
   },
   "source": [
    "torch.norm(torch.ones((3, 3)))"
   ],
   "outputs": [],
   "execution_count": null
  },
  {
   "cell_type": "markdown",
   "metadata": {
    "id": "bP2g8yAULJKw"
   },
   "source": [
    "## 2.5 Automatic Differentiation"
   ]
  },
  {
   "cell_type": "markdown",
   "metadata": {
    "id": "vaKYG-pJLOM2"
   },
   "source": [
    "### 2.5.1 A simple Function"
   ]
  },
  {
   "cell_type": "code",
   "metadata": {
    "id": "hDdvOmUsLTn3"
   },
   "source": [
    "x = torch.arange(3.0)\n",
    "x"
   ],
   "outputs": [],
   "execution_count": null
  },
  {
   "cell_type": "code",
   "metadata": {
    "id": "momV80QkLkuN"
   },
   "source": [
    "x.requires_grad_(True)\n",
    "x.grad"
   ],
   "outputs": [],
   "execution_count": null
  },
  {
   "cell_type": "code",
   "metadata": {
    "id": "8UZ3_AK-LqRz"
   },
   "source": [
    "y = 2 * torch.dot(x,x)\n",
    "y"
   ],
   "outputs": [],
   "execution_count": null
  },
  {
   "cell_type": "markdown",
   "metadata": {
    "id": "-vEcpcI0uE0I"
   },
   "source": [
    "To determine the gradient of our function y with respect to x we run the ```backwards()``` function. The resulting gradient is then stored in the attribute ```grad``` of x."
   ]
  },
  {
   "cell_type": "code",
   "metadata": {
    "id": "EH_XwsbUL060"
   },
   "source": [
    "y.backward()\n",
    "x.grad"
   ],
   "outputs": [],
   "execution_count": null
  },
  {
   "cell_type": "code",
   "metadata": {
    "id": "307KNYGrL_W6"
   },
   "source": [
    "x.grad == 4 * x"
   ],
   "outputs": [],
   "execution_count": null
  },
  {
   "cell_type": "markdown",
   "metadata": {
    "id": "Y6UNtBvbuZsG"
   },
   "source": [
    "Before we can calculate the gradient of another function with respect to x the ```grad.zero_()``` function needs to be called."
   ]
  },
  {
   "cell_type": "code",
   "metadata": {
    "id": "rTqEVA0GMEOS"
   },
   "source": [
    "x.grad.zero_()\n",
    "y = x.sum()\n",
    "y.backward()\n",
    "x.grad"
   ],
   "outputs": [],
   "execution_count": null
  },
  {
   "cell_type": "markdown",
   "metadata": {
    "id": "FCBg4zl5MRZn"
   },
   "source": [
    "### 2.5.2 Backward for Non-Scalar Variables"
   ]
  },
  {
   "cell_type": "code",
   "metadata": {
    "id": "NVQFio2UMgEs"
   },
   "source": [
    "x.grad.zero_()\n",
    "y = x * x\n",
    "y.sum().backward()\n",
    "x.grad"
   ],
   "outputs": [],
   "execution_count": null
  },
  {
   "cell_type": "markdown",
   "metadata": {
    "id": "RDOMdo3vMnrN"
   },
   "source": [
    "### 2.5.3 Detaching Computation"
   ]
  },
  {
   "cell_type": "markdown",
   "metadata": {
    "id": "JlV3szpIvBee"
   },
   "source": [
    "Through detaching we can create a variable that contains the result of our function y without being dependent on our variable x. This way the direct influence of x on z can be seen without looking at the indirect influence conveyed through y."
   ]
  },
  {
   "cell_type": "code",
   "metadata": {
    "id": "_3kzux0ZMnDk"
   },
   "source": [
    "x.grad.zero_()\n",
    "y = x * x\n",
    "u = y.detach()\n",
    "z = u * x\n",
    "\n",
    "z.sum().backward()\n",
    "x.grad == u"
   ],
   "outputs": [],
   "execution_count": null
  },
  {
   "cell_type": "code",
   "metadata": {
    "id": "Zl5xjsSfMz7I"
   },
   "source": [
    "x.grad.zero_()\n",
    "y.sum().backward()\n",
    "x.grad == 2 * x"
   ],
   "outputs": [],
   "execution_count": null
  },
  {
   "cell_type": "markdown",
   "metadata": {
    "id": "6LmNADDFM1EP"
   },
   "source": [
    "### 2.5.4 Gradients and Python Flow Control"
   ]
  },
  {
   "cell_type": "code",
   "metadata": {
    "id": "RmkvSIK1M5ZR"
   },
   "source": [
    "def f(a):\n",
    "    b = a * 2\n",
    "    while b.norm() < 1000:\n",
    "        b = b * 2\n",
    "    if b.sum() > 0:\n",
    "        c = b\n",
    "    else:\n",
    "        c = 100 * b\n",
    "    return c"
   ],
   "outputs": [],
   "execution_count": null
  },
  {
   "cell_type": "code",
   "metadata": {
    "id": "D2jIBme5NB4Q"
   },
   "source": [
    "a = torch.randn(size=(), requires_grad=True)\n",
    "d = f(a)\n",
    "d.backward()"
   ],
   "outputs": [],
   "execution_count": null
  },
  {
   "cell_type": "code",
   "metadata": {
    "id": "cmcISHRlNFzy"
   },
   "source": [
    "a.grad == d / a"
   ],
   "outputs": [],
   "execution_count": null
  },
  {
   "cell_type": "markdown",
   "metadata": {
    "id": "OAwnQiAUvym-"
   },
   "source": [
    "## 3.1 Linear Regression"
   ]
  },
  {
   "cell_type": "code",
   "metadata": {
    "id": "uXQc8G5fwXAL"
   },
   "source": [
    "%matplotlib inline\n",
    "import math\n",
    "import time\n",
    "import numpy as np\n",
    "import torch\n",
    "from d2l import torch as d2l"
   ],
   "outputs": [],
   "execution_count": null
  },
  {
   "cell_type": "markdown",
   "metadata": {
    "id": "SrwVODKDwP6g"
   },
   "source": [
    "### 3.1.1 Basics"
   ]
  },
  {
   "cell_type": "markdown",
   "metadata": {
    "id": "IB8nxQIlwyPq"
   },
   "source": [
    "#### 3.1.1.1 Model"
   ]
  },
  {
   "cell_type": "markdown",
   "metadata": {
    "id": "BYAinKr5wz-e"
   },
   "source": [
    "The linear regression model describes how features can be used to estimate the target value. The assumption of linearity states that the target values can be expressed as a weighted sum of features and an intercept. Using matrix notation our model can be expressed as:\n",
    "$$\\hat{y}=Xw+b$$\n",
    "With $w$ being a vector of the model weights and $x$ being a matrix where every observation is stored as a row with one column representing a type of feature of the observations."
   ]
  },
  {
   "cell_type": "markdown",
   "metadata": {
    "id": "UUl2TJgAyZlm"
   },
   "source": [
    "#### 3.1.1.2 Loss Function"
   ]
  },
  {
   "cell_type": "markdown",
   "metadata": {
    "id": "GkDFOouBzF6u"
   },
   "source": [
    "A loss function describes the fit of our model. The fit of a model describes how close our predicted values are to the actual values of the observations. A perfect prediction would have a loss of 0. In training we seek model weights that minimize the loss of our model."
   ]
  },
  {
   "cell_type": "markdown",
   "metadata": {
    "id": "HrE2kQuAz79y"
   },
   "source": [
    "#### 3.1.1.3 Analytical Solution"
   ]
  },
  {
   "cell_type": "markdown",
   "metadata": {
    "id": "dIU7vtB_1rt3"
   },
   "source": [
    "In a linear regression the best possible model weights for our training data can be found by solving the following analytical problem: $$w^*=(X^TX)^{-1}X^Ty$$"
   ]
  },
  {
   "cell_type": "markdown",
   "metadata": {
    "id": "ED6CH-Bu2Bif"
   },
   "source": [
    "#### 3.1.1.4 Minibach Stochastic Gradient Descent"
   ]
  },
  {
   "cell_type": "markdown",
   "metadata": {
    "id": "lgp0b0Fi2J1T"
   },
   "source": [
    "Instead of looking at the entire dataset or single points when performing updates to the model, using Minibach SGD uses small batches of data points to update model parameters. While it may not find the perfect solution, Minibach SGD is highly effective in Practice at minimizing loss and having a high accuracy."
   ]
  },
  {
   "cell_type": "markdown",
   "metadata": {
    "id": "YLowYK3X3CHb"
   },
   "source": [
    "#### 3.1.1.5 Predictions"
   ]
  },
  {
   "cell_type": "markdown",
   "metadata": {
    "id": "87ZhHGAw3GJE"
   },
   "source": [
    "Using our model we can now predict the target value of data points that were not included in the training data."
   ]
  },
  {
   "cell_type": "markdown",
   "metadata": {
    "id": "49dPIZUp3cen"
   },
   "source": [
    "### 3.1.2 Vectorization for Speed"
   ]
  },
  {
   "cell_type": "markdown",
   "metadata": {
    "id": "WGkpk-Xk37bt"
   },
   "source": [
    "When training our models we want to use efficient algebraic libraries instead of using for-loops to optimize the speed of our training."
   ]
  },
  {
   "cell_type": "code",
   "metadata": {
    "id": "Mz9lnFsI3rez"
   },
   "source": [
    "n = 10000\n",
    "a = torch.ones(n)\n",
    "b = torch.ones(n)"
   ],
   "outputs": [],
   "execution_count": null
  },
  {
   "cell_type": "code",
   "metadata": {
    "colab": {
     "base_uri": "https://localhost:8080/",
     "height": 35
    },
    "id": "So1-m8Gz3t6-",
    "outputId": "17ca3382-a581-462e-da84-817c6a9876b2"
   },
   "source": [
    "c = torch.zeros(n)\n",
    "t = time.time()\n",
    "for i in range(n):\n",
    "    c[i] = a[i] + b[i]\n",
    "f'{time.time() - t:.5f} sec'"
   ],
   "outputs": [],
   "execution_count": null
  },
  {
   "cell_type": "code",
   "metadata": {
    "colab": {
     "base_uri": "https://localhost:8080/",
     "height": 35
    },
    "id": "9aW_EQNk3zFd",
    "outputId": "6becc1a8-a5c5-40e5-a71d-3bbcd42d8a08"
   },
   "source": [
    "t = time.time()\n",
    "d = a + b\n",
    "f'{time.time() - t:.5f} sec'"
   ],
   "outputs": [],
   "execution_count": null
  },
  {
   "cell_type": "markdown",
   "metadata": {
    "id": "rOpEkoTX4RBK"
   },
   "source": [
    "### 3.1.3 The Normal Distribution and Squared Loss"
   ]
  },
  {
   "cell_type": "markdown",
   "metadata": {
    "id": "oijkeWcB4Yck"
   },
   "source": [
    "Assuming that our observations arise from noisy measurements with the noise being normally distributed, the likelyhood of observing a value y given the features x can be defined as follows:\n",
    "$$P(y \\mid \\mathbf{x}) = \\frac{1}{\\sqrt{2 \\pi \\sigma^2}} \\exp\\left(-\\frac{1}{2 \\sigma^2} (y - \\mathbf{w}^\\top \\mathbf{x} - b)^2\\right)$$\n",
    "The goal of our training is to find model weights which maximize the likelyhood of our entire dataset.\n",
    "In Practice often $-\\log{P(y\\mid x)}$ is minimized instead."
   ]
  },
  {
   "cell_type": "code",
   "metadata": {
    "id": "gIWoOvk24fBO"
   },
   "source": [
    "def normal(x, mu, sigma):\n",
    "    p = 1 / math.sqrt(2 * math.pi * sigma**2)\n",
    "    return p * np.exp(-0.5 * (x - mu)**2 / sigma**2)"
   ],
   "outputs": [],
   "execution_count": null
  },
  {
   "cell_type": "code",
   "metadata": {
    "colab": {
     "base_uri": "https://localhost:8080/",
     "height": 265
    },
    "id": "_sTVTqdK4gvH",
    "outputId": "3587ac8b-2c2d-4646-cf76-8a07e743d783"
   },
   "source": [
    "x = np.arange(-7, 7, 0.01)\n",
    "params = [(0, 1), (0, 2), (3, 1)]\n",
    "d2l.plot(x, [normal(x, mu, sigma) for mu, sigma in params], xlabel='x',\n",
    "         ylabel='p(x)', figsize=(4.5, 2.5),\n",
    "         legend=[f'mean {mu}, std {sigma}' for mu, sigma in params])"
   ],
   "outputs": [],
   "execution_count": null
  },
  {
   "cell_type": "markdown",
   "metadata": {
    "id": "PFnBBPcN5_ba"
   },
   "source": [
    "### 3.1.4 Linear Regression as a Neural Network"
   ]
  },
  {
   "cell_type": "markdown",
   "metadata": {
    "id": "s44e6ALO6G7v"
   },
   "source": [
    "A linear regression model can be displayed as a neural network, which each feature represented by an input neuron, which are all connected to the output."
   ]
  },
  {
   "cell_type": "markdown",
   "metadata": {
    "id": "KsP_eWRc6XEz"
   },
   "source": [
    "## 3.2 Object-Oriented Design for Implementation"
   ]
  },
  {
   "cell_type": "code",
   "metadata": {
    "id": "TJQPtCn_9LVD"
   },
   "source": [
    "import time\n",
    "import numpy as np\n",
    "import torch\n",
    "from torch import nn\n",
    "from d2l import torch as d2l"
   ],
   "outputs": [],
   "execution_count": null
  },
  {
   "cell_type": "markdown",
   "metadata": {
    "id": "XCcceVNG7EdK"
   },
   "source": [
    "### 3.2.1 Utilities"
   ]
  },
  {
   "cell_type": "code",
   "metadata": {
    "id": "GtzQigL17GQ8"
   },
   "source": [
    "def add_to_class(Class):\n",
    "    def wrapper(obj):\n",
    "        setattr(Class, obj.__name__, obj)\n",
    "    return wrapper"
   ],
   "outputs": [],
   "execution_count": null
  },
  {
   "cell_type": "code",
   "metadata": {
    "id": "BjGtg3Fi6kkY"
   },
   "source": [
    "class A:\n",
    "    def __init__(self):\n",
    "        self.b = 1\n",
    "\n",
    "a = A()"
   ],
   "outputs": [],
   "execution_count": null
  },
  {
   "cell_type": "code",
   "metadata": {
    "colab": {
     "base_uri": "https://localhost:8080/"
    },
    "id": "syGTbJ1l7O0Q",
    "outputId": "6ecf3e05-8df1-4dc6-f2df-a7cafc4e32f5"
   },
   "source": [
    "@add_to_class(A)\n",
    "def do(self):\n",
    "    print('self.b:', self.b)\n",
    "\n",
    "a.do()"
   ],
   "outputs": [],
   "execution_count": null
  },
  {
   "cell_type": "code",
   "metadata": {
    "id": "mKp-swdr7RH2"
   },
   "source": [
    "class HyperParameters:\n",
    "    def save_hyperparameters(self, ignore=[]):\n",
    "        raise NotImplemented"
   ],
   "outputs": [],
   "execution_count": null
  },
  {
   "cell_type": "code",
   "metadata": {
    "colab": {
     "base_uri": "https://localhost:8080/"
    },
    "id": "1v6znf0J7Tsc",
    "outputId": "0be758c8-1b54-4140-c23a-609149a49b4b"
   },
   "source": [
    "class B(d2l.HyperParameters):\n",
    "    def __init__(self, a, b, c):\n",
    "        self.save_hyperparameters(ignore=['c'])\n",
    "        print('self.a:', self.a, 'self.b:', self.b)\n",
    "        print('There is no self.c:', not hasattr(self, 'c'))\n",
    "\n",
    "b = B(a=1, b=2, c=3)"
   ],
   "outputs": [],
   "execution_count": null
  },
  {
   "cell_type": "code",
   "metadata": {
    "id": "iSGd8LUK7mG0"
   },
   "source": [
    "class ProgressBoard(d2l.HyperParameters):\n",
    "    def __init__(self, xlabel=None, ylabel=None, xlim=None,\n",
    "                 ylim=None, xscale='linear', yscale='linear',\n",
    "                 ls=['-', '--', '-.', ':'], colors=['C0', 'C1', 'C2', 'C3'],\n",
    "                 fig=None, axes=None, figsize=(3.5, 2.5), display=True):\n",
    "        self.save_hyperparameters()\n",
    "\n",
    "    def draw(self, x, y, label, every_n=1):\n",
    "        raise NotImplemented"
   ],
   "outputs": [],
   "execution_count": null
  },
  {
   "cell_type": "code",
   "metadata": {
    "colab": {
     "base_uri": "https://localhost:8080/",
     "height": 265
    },
    "id": "4rBNtzAA7qgk",
    "outputId": "0cda2946-e45d-4b49-d3e2-9b7a73da3dc1"
   },
   "source": [
    "board = d2l.ProgressBoard('x')\n",
    "for x in np.arange(0, 10, 0.1):\n",
    "    board.draw(x, np.sin(x), 'sin', every_n=2)\n",
    "    board.draw(x, np.cos(x), 'cos', every_n=10)"
   ],
   "outputs": [],
   "execution_count": null
  },
  {
   "cell_type": "markdown",
   "metadata": {
    "id": "KvQsMSE178dO"
   },
   "source": [
    "### 3.2.2 Models"
   ]
  },
  {
   "cell_type": "markdown",
   "metadata": {
    "id": "ql2Z6QO48ANN"
   },
   "source": [
    "The class ```Module``` is the base for all the models that will be implemented. At the very least it needs the following functions: ```__init__(), training_step()```, which receives a data batch and returns a loss value and ```configure_optimizers()```, which returns a list of optimization methods, which are used to update the parameters."
   ]
  },
  {
   "cell_type": "code",
   "metadata": {
    "id": "L4d-0AeD8220"
   },
   "source": [
    "class Module(nn.Module, d2l.HyperParameters):\n",
    "    def __init__(self, plot_train_per_epoch=2, plot_valid_per_epoch=1):\n",
    "        super().__init__()\n",
    "        self.save_hyperparameters()\n",
    "        self.board = ProgressBoard()\n",
    "\n",
    "    def loss(self, y_hat, y):\n",
    "        raise NotImplementedError\n",
    "\n",
    "    def forward(self, X):\n",
    "        assert hasattr(self, 'net'), 'Neural network is defined'\n",
    "        return self.net(X)\n",
    "\n",
    "    def plot(self, key, value, train):\n",
    "        assert hasattr(self, 'trainer'), 'Trainer is not inited'\n",
    "        self.board.xlabel = 'epoch'\n",
    "        if train:\n",
    "            x = self.trainer.train_batch_idx / \\\n",
    "                self.trainer.num_train_batches\n",
    "            n = self.trainer.num_train_batches / \\\n",
    "                self.plot_train_per_epoch\n",
    "        else:\n",
    "            x = self.trainer.epoch + 1\n",
    "            n = self.trainer.num_val_batches / \\\n",
    "                self.plot_valid_per_epoch\n",
    "        self.board.draw(x, value.to(d2l.cpu()).detach().numpy(),\n",
    "                        ('train_' if train else 'val_') + key,\n",
    "                        every_n=int(n))\n",
    "\n",
    "    def training_step(self, batch):\n",
    "        l = self.loss(self(*batch[:-1]), batch[-1])\n",
    "        self.plot('loss', l, train=True)\n",
    "        return l\n",
    "\n",
    "    def validation_step(self, batch):\n",
    "        l = self.loss(self(*batch[:-1]), batch[-1])\n",
    "        self.plot('loss', l, train=False)\n",
    "\n",
    "    def configure_optimizers(self):\n",
    "        raise NotImplementedError"
   ],
   "outputs": [],
   "execution_count": null
  },
  {
   "cell_type": "markdown",
   "metadata": {
    "id": "0OJUV74R9R9Q"
   },
   "source": [
    "### 3.2.3 Data"
   ]
  },
  {
   "cell_type": "markdown",
   "metadata": {
    "id": "tn5FCQjg9a7v"
   },
   "source": [
    "The ```DataModule``` class is the base class for the data, which will be fed into the Model."
   ]
  },
  {
   "cell_type": "code",
   "metadata": {
    "id": "cPnay1yG9Vjt"
   },
   "source": [
    "class DataModule(d2l.HyperParameters):\n",
    "    def __init__(self, root='../data', num_workers=4):\n",
    "        self.save_hyperparameters()\n",
    "\n",
    "    def get_dataloader(self, train):\n",
    "        raise NotImplementedError\n",
    "\n",
    "    def train_dataloader(self):\n",
    "        return self.get_dataloader(train=True)\n",
    "\n",
    "    def val_dataloader(self):\n",
    "        return self.get_dataloader(train=False)"
   ],
   "outputs": [],
   "execution_count": null
  },
  {
   "cell_type": "markdown",
   "metadata": {
    "id": "GB55CrpS9pmK"
   },
   "source": [
    "### 3.2.4 Training"
   ]
  },
  {
   "cell_type": "markdown",
   "metadata": {
    "id": "RfKitkyQ9yDE"
   },
   "source": [
    "The ```Trainer``` class trains the parameters of our model with the data specified in ```DataModule```."
   ]
  },
  {
   "cell_type": "code",
   "metadata": {
    "id": "kWy05tMT9sbS"
   },
   "source": [
    "class Trainer(d2l.HyperParameters):\n",
    "    def __init__(self, max_epochs, num_gpus=0, gradient_clip_val=0):\n",
    "        self.save_hyperparameters()\n",
    "        assert num_gpus == 0, 'No GPU support yet'\n",
    "\n",
    "    def prepare_data(self, data):\n",
    "        self.train_dataloader = data.train_dataloader()\n",
    "        self.val_dataloader = data.val_dataloader()\n",
    "        self.num_train_batches = len(self.train_dataloader)\n",
    "        self.num_val_batches = (len(self.val_dataloader)\n",
    "                                if self.val_dataloader is not None else 0)\n",
    "\n",
    "    def prepare_model(self, model):\n",
    "        model.trainer = self\n",
    "        model.board.xlim = [0, self.max_epochs]\n",
    "        self.model = model\n",
    "\n",
    "    def fit(self, model, data):\n",
    "        self.prepare_data(data)\n",
    "        self.prepare_model(model)\n",
    "        self.optim = model.configure_optimizers()\n",
    "        self.epoch = 0\n",
    "        self.train_batch_idx = 0\n",
    "        self.val_batch_idx = 0\n",
    "        for self.epoch in range(self.max_epochs):\n",
    "            self.fit_epoch()\n",
    "\n",
    "    def fit_epoch(self):\n",
    "        raise NotImplementedError"
   ],
   "outputs": [],
   "execution_count": null
  },
  {
   "cell_type": "markdown",
   "metadata": {
    "id": "PNaHTbtS-CMV"
   },
   "source": [
    "## 3.4 Linear Regression Implementation From Scratch"
   ]
  },
  {
   "cell_type": "code",
   "metadata": {
    "id": "FXW1Pe9Q-P8L"
   },
   "source": [
    "%matplotlib inline\n",
    "import torch\n",
    "from d2l import torch as d2l"
   ],
   "outputs": [],
   "execution_count": null
  },
  {
   "cell_type": "markdown",
   "metadata": {
    "id": "-1bCndJo-SLq"
   },
   "source": [
    "### 3.4.1 Defining the Model"
   ]
  },
  {
   "cell_type": "markdown",
   "metadata": {
    "id": "7KqNzDKv-nsv"
   },
   "source": [
    "Before we can optimize our models we assign random parameters drawn from a normal distribution as our model weights. We also specify the relationship between the input and parameters and the model output."
   ]
  },
  {
   "cell_type": "code",
   "metadata": {
    "id": "iGv7a9zB-U0C"
   },
   "source": [
    "class LinearRegressionScratch(d2l.Module):\n",
    "  def __init__(self, num_inputs, lr, sigma=0.01):\n",
    "    super().__init__()\n",
    "    self.save_hyperparameters()\n",
    "    self.w = torch.normal(0, sigma, (num_inputs, 1), requires_grad=True)\n",
    "    self.b = torch.zeros(1, requires_grad=True)"
   ],
   "outputs": [],
   "execution_count": null
  },
  {
   "cell_type": "code",
   "metadata": {
    "id": "zEzMckrt-e-z"
   },
   "source": [
    "@d2l.add_to_class(LinearRegressionScratch)\n",
    "def forward(self, X):\n",
    "  return torch.matmul(X, self.w) + self.b"
   ],
   "outputs": [],
   "execution_count": null
  },
  {
   "cell_type": "markdown",
   "metadata": {
    "id": "FTBdSq-7-_dI"
   },
   "source": [
    "### 3.4.2 Defining the Loss Function"
   ]
  },
  {
   "cell_type": "code",
   "metadata": {
    "id": "BBB_gds8_C3l"
   },
   "source": [
    "@d2l.add_to_class(LinearRegressionScratch)\n",
    "def loss(self, y_hat, y):\n",
    "  l = (y_hat - y) ** 2 / 2\n",
    "  return l.mean()"
   ],
   "outputs": [],
   "execution_count": null
  },
  {
   "cell_type": "markdown",
   "metadata": {
    "id": "p3Kr8DUX_KBB"
   },
   "source": [
    "### 3.4.3 Defining the Optimization Algorithm"
   ]
  },
  {
   "cell_type": "code",
   "metadata": {
    "id": "MDyRzvpB_SBz"
   },
   "source": [
    "class SGD(d2l.HyperParameters):\n",
    "  def __init__(self, params, lr):\n",
    "    self.save_hyperparameters()\n",
    "\n",
    "  def step(self):\n",
    "    for param in self.params:\n",
    "      param -= self.lr * param.grad\n",
    "\n",
    "  def zero_grad(self):\n",
    "    for param in self.params:\n",
    "      if param.grad is not None:\n",
    "        param.grad.zero_()"
   ],
   "outputs": [],
   "execution_count": null
  },
  {
   "cell_type": "code",
   "metadata": {
    "id": "MDszkiBi_b_e"
   },
   "source": [
    "@d2l.add_to_class(LinearRegressionScratch)\n",
    "def configure_optimizers(self):\n",
    "  return SGD([self.w, self.b], self.lr)"
   ],
   "outputs": [],
   "execution_count": null
  },
  {
   "cell_type": "markdown",
   "metadata": {
    "id": "T7n3KyoN_bBB"
   },
   "source": [
    "### 3.4.4 Training"
   ]
  },
  {
   "cell_type": "markdown",
   "metadata": {
    "id": "JzuQHNWVAH2P"
   },
   "source": [
    "After the model and the loss function are defined, the training can now begin. In each epoch of the training phase the whole dataset is iterated through, while in each iteration a random minibatch of data points is used to compute its loss, compute the gradient of the function and finally update the model parameters."
   ]
  },
  {
   "cell_type": "code",
   "metadata": {
    "id": "XovkjMfm_mBR"
   },
   "source": [
    "@d2l.add_to_class(d2l.Trainer)\n",
    "def prepare_batch(self, batch):\n",
    "  return batch\n",
    "\n",
    "@d2l.add_to_class(d2l.Trainer)\n",
    "def fit_epoch(self):\n",
    "  self.model.train()\n",
    "  for batch in self.train_dataloader:\n",
    "    loss = self.model.training_step(self.prepare_batch(batch))\n",
    "    self.optim.zero_grad()\n",
    "    with torch.no_grad():\n",
    "      loss.backward()\n",
    "      if self.gradient_clip_val > 0:\n",
    "        self.clip_gradients(self.gradient_clip_val, self.model)\n",
    "      self.optim.step()\n",
    "    self.train_batch_idx += 1\n",
    "  if self.val_dataloader is None:\n",
    "    return\n",
    "  self.model.eval()\n",
    "  for batch in self.val_dataloader:\n",
    "    with torch.no_grad():\n",
    "      self.model.validation_step(self.prepare_batch(batch))\n",
    "    self.val_batch_idx += 1"
   ],
   "outputs": [],
   "execution_count": null
  },
  {
   "cell_type": "code",
   "metadata": {
    "colab": {
     "base_uri": "https://localhost:8080/",
     "height": 265
    },
    "id": "2pOKQFMg_020",
    "outputId": "c153b153-dc89-4625-8a3a-079c9955d742"
   },
   "source": [
    "model = LinearRegressionScratch(2, lr=0.03)\n",
    "data = d2l.SyntheticRegressionData(w=torch.tensor([2, -3.4]), b=4.2)\n",
    "trainer = d2l.Trainer(max_epochs=3)\n",
    "trainer.fit(model, data)"
   ],
   "outputs": [],
   "execution_count": null
  },
  {
   "cell_type": "code",
   "metadata": {
    "colab": {
     "base_uri": "https://localhost:8080/"
    },
    "id": "r1eVgNn4_4yu",
    "outputId": "77159f52-6842-4152-cd22-cfc8ec01880f"
   },
   "source": [
    "with torch.no_grad():\n",
    "    print(f'error in estimating w: {data.w - model.w.reshape(data.w.shape)}')\n",
    "    print(f'error in estimating b: {data.b - model.b}')"
   ],
   "outputs": [],
   "execution_count": null
  },
  {
   "cell_type": "markdown",
   "metadata": {
    "id": "7Cwa03bbA2K1"
   },
   "source": [
    "## 4.1 Softmax Regression"
   ]
  },
  {
   "cell_type": "markdown",
   "metadata": {
    "id": "JiXdiSiEBCJe"
   },
   "source": [
    "### 4.1.1 Classification"
   ]
  },
  {
   "cell_type": "markdown",
   "metadata": {
    "id": "nyZ0jyaSBJfj"
   },
   "source": [
    "Usually classification problems do not have a natural ordering. To represent categorical data, the one-hot encoding is used. This encoding is a vector of dimensionality n for n different classes that our input can be categorized into. The entry corresponding to the class of the input is set to 1 while the others are set to 0."
   ]
  },
  {
   "cell_type": "markdown",
   "metadata": {
    "id": "0XDlKmUDBso5"
   },
   "source": [
    "#### 4.1.1.1 Linear Model"
   ]
  },
  {
   "cell_type": "markdown",
   "metadata": {
    "id": "Ln_EyVNoB_CW"
   },
   "source": [
    "To represent our model, we need one output for every class that our input could be assigned to. In matrix notation we can write the output as follows: $\\mathbf{o} = \\mathbf{W} \\mathbf{x} + \\mathbf{b}$"
   ]
  },
  {
   "cell_type": "markdown",
   "metadata": {
    "id": "E-lWlhMcCgtP"
   },
   "source": [
    "#### 4.1.1.2 The Softmax"
   ]
  },
  {
   "cell_type": "markdown",
   "metadata": {
    "id": "LO5Z-z39ClkN"
   },
   "source": [
    "$$\\hat{\\mathbf{y}} = \\mathrm{softmax}(\\mathbf{o}) \\quad \\textrm{where}\\quad \\hat{y}_i = \\frac{\\exp(o_i)}{\\sum_j \\exp(o_j)}.$$\n",
    "The softmax function increases with increasing $\\mathbf{o}$ and the values of the resulting vector add up to 1, while all being non-negative. The resulting vector can be interpreted as the conditional probabilities of each class, given any input x."
   ]
  },
  {
   "cell_type": "markdown",
   "metadata": {
    "id": "pI08rQVPDQma"
   },
   "source": [
    "#### 4.1.1.3 Vectorization"
   ]
  },
  {
   "cell_type": "markdown",
   "metadata": {
    "id": "lAfH2XhJDd7s"
   },
   "source": [
    "To improve efficiency our observations are grouped together in a matrix. This leads us to the following formulas:$$\\begin{split}\\begin{aligned} \\mathbf{O} &= \\mathbf{X} \\mathbf{W} + \\mathbf{b}, \\\\ \\hat{\\mathbf{Y}} & = \\mathrm{softmax}(\\mathbf{O}). \\end{aligned}\\end{split}$$"
   ]
  },
  {
   "cell_type": "markdown",
   "metadata": {
    "id": "brcJ8Qy5D0GQ"
   },
   "source": [
    "### 4.1.2 Loss Functions"
   ]
  },
  {
   "cell_type": "markdown",
   "metadata": {
    "id": "_oYuyqZrD4R1"
   },
   "source": [
    "#### 4.1.2.1 Log-Likelihood"
   ]
  },
  {
   "cell_type": "markdown",
   "metadata": {
    "id": "vIQMlBsqD9d9"
   },
   "source": [
    "Instead of maximizing the Likelihood of our Output being assigned to our Input according to our model, we instead minimize the negative Logarithm of our Likelihood.\n",
    "$$-\\log P(\\mathbf{Y} \\mid \\mathbf{X}) = \\sum_{i=1}^n -\\log P(\\mathbf{y}^{(i)} \\mid \\mathbf{x}^{(i)})\n",
    "= \\sum_{i=1}^n l(\\mathbf{y}^{(i)}, \\hat{\\mathbf{y}}^{(i)})$$"
   ]
  },
  {
   "cell_type": "markdown",
   "metadata": {
    "id": "n_LKeSCQE_gJ"
   },
   "source": [
    "#### 4.1.2.2 Softmax and Cross-Entropy Loss"
   ]
  },
  {
   "cell_type": "markdown",
   "metadata": {
    "id": "gLiOKRmtFD3z"
   },
   "source": [
    "The Cross-Entropy loss is the expected value of a loss for a distribution over labels. It measures the number of bits needed to encode what we see, relative to what we predict that should happen."
   ]
  },
  {
   "cell_type": "markdown",
   "metadata": {
    "id": "cxV0vGliFc5I"
   },
   "source": [
    "### 4.1.3 Information Theory Basics"
   ]
  },
  {
   "cell_type": "markdown",
   "metadata": {
    "id": "DPWuGNT0Fhbg"
   },
   "source": [
    "#### 4.1.3.1 Entropy"
   ]
  },
  {
   "cell_type": "markdown",
   "metadata": {
    "id": "xFm_-e-VFlsS"
   },
   "source": [
    "Entropy states how much storage (nats) is needed to encode randomly drawn data from a distribution. To find out the bits needed to encode one piece of data we divide the Entropy by $\\log{2}$."
   ]
  },
  {
   "cell_type": "markdown",
   "metadata": {
    "id": "JJNmTPgFGiFG"
   },
   "source": [
    "#### 4.1.3.2 Surprisal"
   ]
  },
  {
   "cell_type": "markdown",
   "metadata": {
    "id": "GSHnN4yNGlJS"
   },
   "source": [
    "The surprisal states how surprised we are at observing a specific piece of data from a Distribution. $$\\log \\frac{1}{P(j)} = -\\log P(j)$$"
   ]
  },
  {
   "cell_type": "markdown",
   "metadata": {
    "id": "S6vL7R5tHBgP"
   },
   "source": [
    "#### 4.1.3.3 Cross-Entropy Revisited"
   ]
  },
  {
   "cell_type": "markdown",
   "metadata": {
    "id": "sxLrsGBXHTcD"
   },
   "source": [
    "We can think of the cross-entropy classification objective in two ways: (i) as maximizing the likelihood of the observed data; and (ii) as minimizing our surprisal (and thus the number of bits) required to communicate the labels."
   ]
  },
  {
   "cell_type": "markdown",
   "metadata": {
    "id": "iYoqzvz6HZTZ"
   },
   "source": [
    "## 4.2 The Image Classification Dataset"
   ]
  },
  {
   "cell_type": "code",
   "metadata": {
    "id": "e8kvyN9jHgqJ"
   },
   "source": [
    "%matplotlib inline\n",
    "import time\n",
    "import torch\n",
    "import torchvision\n",
    "from torchvision import transforms\n",
    "from d2l import torch as d2l\n",
    "\n",
    "d2l.use_svg_display()"
   ],
   "outputs": [],
   "execution_count": null
  },
  {
   "cell_type": "markdown",
   "metadata": {
    "id": "dFPfOWHJHe8m"
   },
   "source": [
    "### 4.2.1 Loading the Dataset"
   ]
  },
  {
   "cell_type": "markdown",
   "metadata": {
    "id": "jzPb-6JQJghG"
   },
   "source": [
    "The Fashion-MNIST and ImageNet dataset serve as benchmarks for comparing various machine learning algorithms. Before MNIST was commonly used, but even simple modern models can easily achieve a high accuracy on this dataset."
   ]
  },
  {
   "cell_type": "code",
   "metadata": {
    "id": "7mPtlLMdHmvs"
   },
   "source": [
    "class FashionMNIST(d2l.DataModule):\n",
    "  def __init__(self, batch_size=64, resize=(28, 28)):\n",
    "    super().__init__()\n",
    "    self.save_hyperparameters()\n",
    "    trans = transforms.Compose([transforms.Resize(resize),\n",
    "                                transforms.ToTensor()])\n",
    "    self.train = torchvision.datasets.FashionMNIST(\n",
    "        root=self.root, train=True, transform=trans, download=True)\n",
    "    self.val = torchvision.datasets.FashionMNIST(\n",
    "        root=self.root, train=False, transform=trans, download=True)"
   ],
   "outputs": [],
   "execution_count": null
  },
  {
   "cell_type": "code",
   "metadata": {
    "colab": {
     "base_uri": "https://localhost:8080/"
    },
    "id": "hL9V4vLSHt9v",
    "outputId": "462f3e2f-51f3-41a4-b309-a642509592f2"
   },
   "source": [
    "data = FashionMNIST(resize=(32, 32))\n",
    "len(data.train), len(data.val)"
   ],
   "outputs": [],
   "execution_count": null
  },
  {
   "cell_type": "code",
   "metadata": {
    "colab": {
     "base_uri": "https://localhost:8080/"
    },
    "id": "cOD1Nu7yHv16",
    "outputId": "85dc81fb-2813-4f6b-d476-03c323123d3c"
   },
   "source": [
    "data.train[0][0].shape"
   ],
   "outputs": [],
   "execution_count": null
  },
  {
   "cell_type": "code",
   "metadata": {
    "id": "tQqyNWb2I0Qo"
   },
   "source": [
    "@d2l.add_to_class(FashionMNIST)\n",
    "def text_labels(self, indices):\n",
    "    labels = ['t-shirt', 'trouser', 'pullover', 'dress', 'coat',\n",
    "              'sandal', 'shirt', 'sneaker', 'bag', 'ankle boot']\n",
    "    return [labels[int(i)] for i in indices]"
   ],
   "outputs": [],
   "execution_count": null
  },
  {
   "cell_type": "markdown",
   "metadata": {
    "id": "xZAmyclLHzih"
   },
   "source": [
    "### 4.2.2 Reading a Minibatch"
   ]
  },
  {
   "cell_type": "code",
   "metadata": {
    "id": "iZ77onNUH2v3"
   },
   "source": [
    "@d2l.add_to_class(FashionMNIST)\n",
    "def get_dataloader(self, train):\n",
    "  data = self.train if train else self.val\n",
    "  return torch.utils.data.DataLoader(data, self.batch_size, shuffle=train,\n",
    "                                    num_workers=self.num_workers)"
   ],
   "outputs": [],
   "execution_count": null
  },
  {
   "cell_type": "code",
   "metadata": {
    "colab": {
     "base_uri": "https://localhost:8080/"
    },
    "id": "xCCImJmjH82B",
    "outputId": "b6b31685-d467-4efd-c365-742c0d699265"
   },
   "source": [
    "X, y = next(iter(data.train_dataloader()))\n",
    "print(X.shape, X.dtype, y.shape, y.dtype)"
   ],
   "outputs": [],
   "execution_count": null
  },
  {
   "cell_type": "code",
   "metadata": {
    "colab": {
     "base_uri": "https://localhost:8080/",
     "height": 35
    },
    "id": "Xkb7NumiH_Cq",
    "outputId": "d0a1d9eb-f663-4362-ad6f-ecaa9d5caa57"
   },
   "source": [
    "tic = time.time()\n",
    "for X, y in data.train_dataloader():\n",
    "  continue\n",
    "f'{time.time() - tic:.2f} sec'"
   ],
   "outputs": [],
   "execution_count": null
  },
  {
   "cell_type": "markdown",
   "metadata": {
    "id": "vVS1hlX5ID8r"
   },
   "source": [
    "### 4.2.3 Visualization"
   ]
  },
  {
   "cell_type": "code",
   "metadata": {
    "id": "6IOK5HH3IHLH"
   },
   "source": [
    "def show_images(imgs, num_rows, num_cols, titles=None, scale=1.5):\n",
    "  raise NotImplementedError"
   ],
   "outputs": [],
   "execution_count": null
  },
  {
   "cell_type": "code",
   "metadata": {
    "colab": {
     "base_uri": "https://localhost:8080/",
     "height": 155
    },
    "id": "1Ba-RozlIMMq",
    "outputId": "c0cca35d-df80-49f4-fc42-2e6d702e2aca"
   },
   "source": [
    "@d2l.add_to_class(FashionMNIST)\n",
    "def visualize(self, batch, nrows=1, ncols=8, labels=[]):\n",
    "    X, y = batch\n",
    "    if not labels:\n",
    "        labels = self.text_labels(y)\n",
    "    d2l.show_images(X.squeeze(1), nrows, ncols, titles=labels)\n",
    "batch = next(iter(data.val_dataloader()))\n",
    "data.visualize(batch)"
   ],
   "outputs": [],
   "execution_count": null
  },
  {
   "cell_type": "markdown",
   "metadata": {
    "id": "e6X0gAaaKdDP"
   },
   "source": [
    "## 4.3 The Base Classification Problem"
   ]
  },
  {
   "cell_type": "code",
   "metadata": {
    "id": "D-dO5v8HKlHF"
   },
   "source": [
    "import torch\n",
    "from d2l import torch as d2l"
   ],
   "outputs": [],
   "execution_count": null
  },
  {
   "cell_type": "markdown",
   "metadata": {
    "id": "AAwmT_SdKl_s"
   },
   "source": [
    "### 4.3.1 The Classifier Class"
   ]
  },
  {
   "cell_type": "markdown",
   "metadata": {
    "id": "nOfT7B93LWZM"
   },
   "source": [
    "The ```Classifier``` class is the base class of our classification models."
   ]
  },
  {
   "cell_type": "code",
   "metadata": {
    "id": "o3bNfkeYKpUK"
   },
   "source": [
    "class Classifier(d2l.Module):\n",
    "  def validation_step(self, batch):\n",
    "    Y_hat = self(*batch[:-1])\n",
    "    self.plot('loss', self.loss(Y_hat, batch[-1]), train=False)\n",
    "    self.plot('acc', self.accuracy(Y_hat, batch[-1]), train=False)"
   ],
   "outputs": [],
   "execution_count": null
  },
  {
   "cell_type": "code",
   "metadata": {
    "id": "tf9-2919Kv3A"
   },
   "source": [
    "@d2l.add_to_class(d2l.Module)\n",
    "def configure_optimizers(self):\n",
    "  return torch.optim.SGD(self.parameters(), lr=self.lr)"
   ],
   "outputs": [],
   "execution_count": null
  },
  {
   "cell_type": "markdown",
   "metadata": {
    "id": "Wd6urpl6KzTy"
   },
   "source": [
    "### 4.3.2 Accuracy"
   ]
  },
  {
   "cell_type": "markdown",
   "metadata": {
    "id": "wsCSjCXRK1g3"
   },
   "source": [
    "The Accuracy of a model is the percentage of correct predictions that are made by it. The following code illustrates how the Accuracy of a model is calculated:"
   ]
  },
  {
   "cell_type": "code",
   "metadata": {
    "id": "8oXltSDoK3L4"
   },
   "source": [
    "@d2l.add_to_class(Classifier)\n",
    "def accuracy(self, Y_hat, Y, averaged=True):\n",
    "  Y_hat = Y_hat.reshape((-1, Y_hat.shape[-1]))\n",
    "  preds = Y_hat.argmax(axis=1).type(Y.dtype)\n",
    "  compare = (preds == Y.reshape(-1)).type(torch.float32)\n",
    "  return compare.mean() if averaged else compare"
   ],
   "outputs": [],
   "execution_count": null
  },
  {
   "cell_type": "markdown",
   "metadata": {
    "id": "5AtVUiGLLMQE"
   },
   "source": [
    "## 4.4 Softmax Regression Implementation from Scratch"
   ]
  },
  {
   "cell_type": "markdown",
   "metadata": {
    "id": "uRi4yyL8L2LO"
   },
   "source": [
    "### 4.4.1 The Softmax"
   ]
  },
  {
   "cell_type": "code",
   "metadata": {
    "colab": {
     "base_uri": "https://localhost:8080/"
    },
    "id": "sv2ZgrjWL3g2",
    "outputId": "14fe45f0-2c89-49f9-9dce-0069ce67aab4"
   },
   "source": [
    "X = torch.tensor([[1.0, 2.0, 3.0], [4.0, 5.0, 6.0]])\n",
    "X.sum(0, keepdims=True), X.sum(1, keepdims=True)"
   ],
   "outputs": [],
   "execution_count": null
  },
  {
   "cell_type": "markdown",
   "metadata": {
    "id": "RYUFPYVeMFyp"
   },
   "source": [
    "$$\\mathrm{softmax}(\\mathbf{X})_{ij} = \\frac{\\exp(\\mathbf{X}_{ij})}{\\sum_k \\exp(\\mathbf{X}_{ik})}$$"
   ]
  },
  {
   "cell_type": "code",
   "metadata": {
    "id": "lMm7B3mkMBa1"
   },
   "source": [
    "def softmax(X):\n",
    "  X_exp = torch.exp(X)\n",
    "  partition = X_exp.sum(1, keepdims=True)\n",
    "  return X_exp / partition"
   ],
   "outputs": [],
   "execution_count": null
  },
  {
   "cell_type": "code",
   "metadata": {
    "colab": {
     "base_uri": "https://localhost:8080/"
    },
    "id": "UXe8pwjIMVDS",
    "outputId": "6f9ac716-6ff7-4103-cdb3-0179118a020a"
   },
   "source": [
    "X = torch.rand((2, 5))\n",
    "X_prob = softmax(X)\n",
    "X_prob, X_prob.sum(1)"
   ],
   "outputs": [],
   "execution_count": null
  },
  {
   "cell_type": "markdown",
   "metadata": {
    "id": "3zegu276MQBM"
   },
   "source": [
    "### 4.4.2 The Model"
   ]
  },
  {
   "cell_type": "code",
   "metadata": {
    "id": "H9VackUhMcO3"
   },
   "source": [
    "class SoftmaxRegressionScratch(d2l.Classifier):\n",
    "  def __init__(self, num_inputs, num_outputs, lr, sigma=0.01):\n",
    "    super().__init__()\n",
    "    self.save_hyperparameters()\n",
    "    self.W = torch.normal(0, sigma, size=(num_inputs, num_outputs),\n",
    "                          requires_grad=True)\n",
    "    self.b = torch.zeros(num_outputs, requires_grad=True)\n",
    "\n",
    "  def parameters(self):\n",
    "    return [self.W, self.b]"
   ],
   "outputs": [],
   "execution_count": null
  },
  {
   "cell_type": "code",
   "metadata": {
    "id": "1lnn7p5LMg_z"
   },
   "source": [
    "@d2l.add_to_class(SoftmaxRegressionScratch)\n",
    "def forward(self, X):\n",
    "  X = X.reshape((-1, self.W.shape[0]))\n",
    "  return softmax(torch.matmul(X, self.W) + self.b)"
   ],
   "outputs": [],
   "execution_count": null
  },
  {
   "cell_type": "markdown",
   "metadata": {
    "id": "EuYM8oYQMj96"
   },
   "source": [
    "### 4.4.3 The Cross-Entropy Loss"
   ]
  },
  {
   "cell_type": "code",
   "metadata": {
    "colab": {
     "base_uri": "https://localhost:8080/"
    },
    "id": "qC7NYTwwMoJr",
    "outputId": "760f9c11-a842-4ca3-91c1-348688fbb841"
   },
   "source": [
    "y = torch.tensor([0, 2])\n",
    "y_hat = torch.tensor([[0.1, 0.3, 0.6], [0.3, 0.2, 0.5]])\n",
    "y_hat[[0, 1], y]"
   ],
   "outputs": [],
   "execution_count": null
  },
  {
   "cell_type": "markdown",
   "metadata": {
    "id": "9qQeC4C6NT7-"
   },
   "source": [
    "Now the Cross-Entropy Loss function is implemented. The cross-entropy takes the negative log-likelihood of the predicted probability assigned to the true label."
   ]
  },
  {
   "cell_type": "code",
   "metadata": {
    "colab": {
     "base_uri": "https://localhost:8080/"
    },
    "id": "erYYCJcvMydX",
    "outputId": "f2eeb4a8-6479-44ab-9929-01b446b11e60"
   },
   "source": [
    "def cross_entropy(y_hat, y):\n",
    "  return -torch.log(y_hat[list(range(len(y_hat))), y]).mean()\n",
    "\n",
    "cross_entropy(y_hat, y)"
   ],
   "outputs": [],
   "execution_count": null
  },
  {
   "cell_type": "code",
   "metadata": {
    "id": "5JqR2cdJM7-c"
   },
   "source": [
    "@d2l.add_to_class(SoftmaxRegressionScratch)\n",
    "def loss(self, y_hat, y):\n",
    "  return cross_entropy(y_hat, y)"
   ],
   "outputs": [],
   "execution_count": null
  },
  {
   "cell_type": "markdown",
   "metadata": {
    "id": "4ASP03LyNiGb"
   },
   "source": [
    "### 4.4.4 Training"
   ]
  },
  {
   "cell_type": "markdown",
   "metadata": {
    "id": "6Wzw_R5ONptE"
   },
   "source": [
    "Now the model is trained for a pre specified number of epochs. The hyperparameters ```max_epochs```, ```batch_size``` and ```lr``` (learning rate) influence the performance of the model but are not learned during the primary training loop. In practice these values are chosen based on the validation split and in the end the model is evaluated on the test split."
   ]
  },
  {
   "cell_type": "code",
   "metadata": {
    "colab": {
     "base_uri": "https://localhost:8080/",
     "height": 265
    },
    "id": "77pbpXKtOiDA",
    "outputId": "26f56b17-c616-4d04-d763-2ccff4970ef5"
   },
   "source": [
    "data = d2l.FashionMNIST(batch_size=256)\n",
    "model = SoftmaxRegressionScratch(num_inputs=784, num_outputs=10, lr=0.1)\n",
    "trainer = d2l.Trainer(max_epochs=10)\n",
    "trainer.fit(model, data)"
   ],
   "outputs": [],
   "execution_count": null
  },
  {
   "cell_type": "markdown",
   "metadata": {
    "id": "bxSgDje9OnPl"
   },
   "source": [
    "### 4.4.5 Prediction"
   ]
  },
  {
   "cell_type": "markdown",
   "metadata": {
    "id": "fQYBoV0tPUaD"
   },
   "source": [
    "After training the model we can use it to classify the images in our dataset."
   ]
  },
  {
   "cell_type": "code",
   "metadata": {
    "colab": {
     "base_uri": "https://localhost:8080/"
    },
    "id": "EyjBZQbeOpa4",
    "outputId": "bf87c3bb-6a2e-44e4-d1cb-838eff31e562"
   },
   "source": [
    "X, y = next(iter(data.val_dataloader()))\n",
    "preds = model(X).argmax(axis=1)\n",
    "preds.shape"
   ],
   "outputs": [],
   "execution_count": null
  },
  {
   "cell_type": "code",
   "metadata": {
    "colab": {
     "base_uri": "https://localhost:8080/",
     "height": 173
    },
    "id": "lOTcAByVPNLz",
    "outputId": "72d337fc-e4a4-47f5-c559-87280b62158d"
   },
   "source": [
    "wrong = preds.type(y.dtype) != y\n",
    "X, y, preds = X[wrong], y[wrong], preds[wrong]\n",
    "labels = [a+'\\n'+b for a, b in zip(\n",
    "  data.text_labels(y), data.text_labels(preds))]\n",
    "data.visualize([X, y], labels=labels)"
   ],
   "outputs": [],
   "execution_count": null
  },
  {
   "cell_type": "markdown",
   "metadata": {
    "id": "0C-k2FO6Pb88"
   },
   "source": [
    "## 5.1 Multilayer Perceptrons"
   ]
  },
  {
   "cell_type": "markdown",
   "metadata": {
    "id": "r5-NMkK8QT1b"
   },
   "source": [
    "### 5.1.1 Hidden Layers"
   ]
  },
  {
   "cell_type": "markdown",
   "metadata": {
    "id": "sx6cqU5dQaq1"
   },
   "source": [
    "#### 5.1.1.1 Limitations of Linear Models"
   ]
  },
  {
   "cell_type": "markdown",
   "metadata": {
    "id": "xx-sp7IPQgSs"
   },
   "source": [
    "There are some limitations that come with using a linear model. For example, linearity assumes monotonicity, meaning an increase in a feature either always increases or decreases the model's output depending on the feature's weight. This assumption may not always be true in some applications. Deep Neural Networks overcome these limitations by using hidden layers."
   ]
  },
  {
   "cell_type": "markdown",
   "metadata": {
    "id": "yoeorPdfSCvF"
   },
   "source": [
    "#### 5.1.1.2 Incorporating Hidden Layers"
   ]
  },
  {
   "cell_type": "markdown",
   "metadata": {
    "id": "9he_UlGPSKay"
   },
   "source": [
    "The easiest way to incorporate hidden layers into a neural network, is to stack multiple fully-connected layers on top of each other. This architecture is commonly referred to as a Multilayer Perceptron (MLP)."
   ]
  },
  {
   "cell_type": "markdown",
   "metadata": {
    "id": "5NWC2hooShVK"
   },
   "source": [
    "#### 5.1.1.3 From Linear to Non-Linear"
   ]
  },
  {
   "cell_type": "markdown",
   "metadata": {
    "id": "mzHzVIZdSkwR"
   },
   "source": [
    "In order to prevent our Model from being able to be collapsed into a linear Model, we need to add a nonlinear activation function $\\sigma$ that is applied to the output of each of our hidden layers. This leads us to the following formulas, with $\\mathbf{H}$ being the output of our hidden layer and $\\mathbf{O}$ being our final output.\n",
    "$$\\begin{split}\\begin{aligned}\n",
    "    \\mathbf{H} & = \\sigma(\\mathbf{X} \\mathbf{W}^{(1)} + \\mathbf{b}^{(1)}) \\\\\n",
    "    \\mathbf{O} & = \\mathbf{H}\\mathbf{W}^{(2)} + \\mathbf{b}^{(2)}\\\\\n",
    "\\end{aligned}\\end{split}$$\n",
    "With this we can continue adding more hidden layers to build more general MLPs."
   ]
  },
  {
   "cell_type": "markdown",
   "metadata": {
    "id": "GONXhWaQT974"
   },
   "source": [
    "#### 5.1.1.4 Universal Approximators"
   ]
  },
  {
   "cell_type": "markdown",
   "metadata": {
    "id": "FZio2OrDUJ1v"
   },
   "source": [
    "Theoretically any function can be learned by a single hidden layer neural network given enough nodes and the right set of weights. In practice it is often not effective to do this and deeper models or kernel methods should be preferred."
   ]
  },
  {
   "cell_type": "markdown",
   "metadata": {
    "id": "fe4gaaz1UlLE"
   },
   "source": [
    "### 5.1.2 Activation Functions"
   ]
  },
  {
   "cell_type": "markdown",
   "metadata": {
    "id": "VIbw30aoUqOL"
   },
   "source": [
    "#### 5.1.2.1 ReLU Function"
   ]
  },
  {
   "cell_type": "markdown",
   "metadata": {
    "id": "NFe4hjriUtsx"
   },
   "source": [
    "The ReLU (Rectified Linear Unit) Function is the most popular choice for activation functions. It provides a very simple but well performing non-linear transformation. $$\\operatorname{ReLU}(x) = \\max(x, 0)$$"
   ]
  },
  {
   "cell_type": "code",
   "metadata": {
    "colab": {
     "base_uri": "https://localhost:8080/",
     "height": 265
    },
    "id": "lBbzHfODSG1-",
    "outputId": "56ed7c23-edf5-4b0d-8bcc-763272d85970"
   },
   "source": [
    "x = torch.arange(-8.0, 8.0, 0.1, requires_grad=True)\n",
    "y = torch.relu(x)\n",
    "d2l.plot(x.detach(), y.detach(), 'x', 'relu(x)', figsize=(5, 2.5))"
   ],
   "outputs": [],
   "execution_count": null
  },
  {
   "cell_type": "markdown",
   "metadata": {
    "id": "WUM5sYOCVFwB"
   },
   "source": [
    "Plot of the derivative of the ReLU function:"
   ]
  },
  {
   "cell_type": "code",
   "metadata": {
    "colab": {
     "base_uri": "https://localhost:8080/",
     "height": 265
    },
    "id": "xO2rOr84VMIS",
    "outputId": "1b8161ec-7582-4558-ba79-590595a352f9"
   },
   "source": [
    "y.backward(torch.ones_like(x), retain_graph=True)\n",
    "d2l.plot(x.detach(), x.grad, 'x', 'grad of relu', figsize=(5, 2.5))"
   ],
   "outputs": [],
   "execution_count": null
  },
  {
   "cell_type": "markdown",
   "metadata": {
    "id": "FPhmIxpPVRQy"
   },
   "source": [
    "There are many different variations of the ReLU functions such as the pReLU function: $$\\operatorname{pReLU}(x) = \\max(0, x) + \\alpha \\min(0, x).$$"
   ]
  },
  {
   "cell_type": "markdown",
   "metadata": {
    "id": "UezaKhUdVZmr"
   },
   "source": [
    "5.1.2.2 Sigmoid Function"
   ]
  },
  {
   "cell_type": "markdown",
   "metadata": {
    "id": "-cktTGqGVub0"
   },
   "source": [
    "Another activation function is the Sigmoid Function.\n",
    "$$\\operatorname{sigmoid}(x) = \\frac{1}{1 + \\exp(-x)}.$$\n",
    "Even though the sigmoid has largely been replaced by the simpler and more easily trainable ReLU for most use in hidden layers there are still some applications that leverage sigmoids special attributes."
   ]
  },
  {
   "cell_type": "code",
   "metadata": {
    "colab": {
     "base_uri": "https://localhost:8080/",
     "height": 265
    },
    "id": "tsUVDfFDVlkD",
    "outputId": "2c5d1490-cfe9-4424-9573-bdb49da0753c"
   },
   "source": [
    "y = torch.sigmoid(x)\n",
    "d2l.plot(x.detach(), y.detach(), 'x', 'sigmoid(x)', figsize=(5, 2.5))"
   ],
   "outputs": [],
   "execution_count": null
  },
  {
   "cell_type": "markdown",
   "metadata": {
    "id": "2K3Z-4XZWsE8"
   },
   "source": [
    "Plot of the derivative of the Sigmoid Function:"
   ]
  },
  {
   "cell_type": "code",
   "metadata": {
    "colab": {
     "base_uri": "https://localhost:8080/",
     "height": 265
    },
    "id": "K8Xcbr32WqjE",
    "outputId": "36f4c2c9-9a79-4162-99a7-05756d5b9d20"
   },
   "source": [
    "x.grad.data.zero_()\n",
    "y.backward(torch.ones_like(x),retain_graph=True)\n",
    "d2l.plot(x.detach(), x.grad, 'x', 'grad of sigmoid', figsize=(5, 2.5))"
   ],
   "outputs": [],
   "execution_count": null
  },
  {
   "cell_type": "markdown",
   "metadata": {
    "id": "jAdBCW05WnZ3"
   },
   "source": [
    "#### 5.1.2.3 Tanh Function"
   ]
  },
  {
   "cell_type": "markdown",
   "metadata": {
    "id": "aA6Dt_ENW-m8"
   },
   "source": [
    "$$\\operatorname{tanh}(x) = \\frac{1 - \\exp(-2x)}{1 + \\exp(-2x)}$$"
   ]
  },
  {
   "cell_type": "code",
   "metadata": {
    "colab": {
     "base_uri": "https://localhost:8080/",
     "height": 265
    },
    "id": "cLFURl6FW7X-",
    "outputId": "a45f35de-f30f-4f1a-8546-4adf801cfdbb"
   },
   "source": [
    "y = torch.tanh(x)\n",
    "d2l.plot(x.detach(), y.detach(), 'x', 'tanh(x)', figsize=(5, 2.5))"
   ],
   "outputs": [],
   "execution_count": null
  },
  {
   "cell_type": "markdown",
   "metadata": {
    "id": "vHcvsxIEXHSr"
   },
   "source": [
    "Plot of the derivative of the Tanh Function:"
   ]
  },
  {
   "cell_type": "code",
   "metadata": {
    "colab": {
     "base_uri": "https://localhost:8080/",
     "height": 265
    },
    "id": "cYpDVx03XDbO",
    "outputId": "b284e1d9-dc08-4f6f-dc00-c9703663c788"
   },
   "source": [
    "x.grad.data.zero_()\n",
    "y.backward(torch.ones_like(x),retain_graph=True)\n",
    "d2l.plot(x.detach(), x.grad, 'x', 'grad of tanh', figsize=(5, 2.5))"
   ],
   "outputs": [],
   "execution_count": null
  },
  {
   "cell_type": "markdown",
   "metadata": {
    "id": "y3oc7fivXMhk"
   },
   "source": [
    "## 5.2 Implementation of Mulitlayer Perceptrons"
   ]
  },
  {
   "cell_type": "markdown",
   "metadata": {
    "id": "BxEpK-uuYvwX"
   },
   "source": [
    "The following code shows how to implement a hidden layer in our model.                                                                                                                                                          "
   ]
  },
  {
   "cell_type": "markdown",
   "metadata": {
    "id": "04S2zGmUXYq9"
   },
   "source": [
    "### 5.2.1 Implementation from Scratch"
   ]
  },
  {
   "cell_type": "markdown",
   "metadata": {
    "id": "l3wNo9aDXWqQ"
   },
   "source": [
    "#### 5.2.1.1 Initializing Model Parameters"
   ]
  },
  {
   "cell_type": "code",
   "metadata": {
    "id": "zitQfN0LXT-m"
   },
   "source": [
    "class MLPScratch(d2l.Classifier):\n",
    "  def __init__(self, num_inputs, num_outputs, num_hiddens, lr, sigma=0.01):\n",
    "    super().__init__()\n",
    "    self.save_hyperparameters()\n",
    "    self.W1 = nn.Parameter(torch.randn(num_inputs, num_hiddens) * sigma)\n",
    "    self.b1 = nn.Parameter(torch.zeros(num_hiddens))\n",
    "    self.W2 = nn.Parameter(torch.randn(num_hiddens, num_outputs) * sigma)\n",
    "    self.b2 = nn.Parameter(torch.zeros(num_outputs))"
   ],
   "outputs": [],
   "execution_count": null
  },
  {
   "cell_type": "markdown",
   "metadata": {
    "id": "I2l7sdgLXfQL"
   },
   "source": [
    "#### 5.2.1.2 Model¶"
   ]
  },
  {
   "cell_type": "code",
   "metadata": {
    "id": "iOBkUQczXjZH"
   },
   "source": [
    "def relu(X):\n",
    "  a = torch.zeros_like(X)\n",
    "  return torch.max(X, a)"
   ],
   "outputs": [],
   "execution_count": null
  },
  {
   "cell_type": "code",
   "metadata": {
    "id": "UZP4TbkXXmPV"
   },
   "source": [
    "@d2l.add_to_class(MLPScratch)\n",
    "def forward(self, X):\n",
    "  X = X.reshape((-1, self.num_inputs))\n",
    "  H = relu(torch.matmul(X, self.W1) + self.b1)\n",
    "  return torch.matmul(H, self.W2) + self.b2"
   ],
   "outputs": [],
   "execution_count": null
  },
  {
   "cell_type": "markdown",
   "metadata": {
    "id": "4RfUNFNCXr89"
   },
   "source": [
    "#### 5.2.1.3 Training"
   ]
  },
  {
   "cell_type": "code",
   "metadata": {
    "colab": {
     "base_uri": "https://localhost:8080/",
     "height": 265
    },
    "id": "y5QpJEKMXqWf",
    "outputId": "b7f9740c-b956-48a6-f38f-8330113fab7c"
   },
   "source": [
    "model = MLPScratch(num_inputs=784, num_outputs=10, num_hiddens=256, lr=0.1)\n",
    "data = d2l.FashionMNIST(batch_size=256)\n",
    "trainer = d2l.Trainer(max_epochs=10)\n",
    "trainer.fit(model, data)"
   ],
   "outputs": [],
   "execution_count": null
  },
  {
   "cell_type": "markdown",
   "metadata": {
    "id": "G60ygm11YFRy"
   },
   "source": [
    "### 5.2.2 Concise Implementation"
   ]
  },
  {
   "cell_type": "markdown",
   "metadata": {
    "id": "2Vb33DNFZHRM"
   },
   "source": [
    "Using the high-level APIs we can be simplify the implementation of MLPs."
   ]
  },
  {
   "cell_type": "markdown",
   "metadata": {
    "id": "pZaa_rUsYKHl"
   },
   "source": [
    "#### 5.2.2.1 Model"
   ]
  },
  {
   "cell_type": "code",
   "metadata": {
    "id": "0W1gSwo3YMvi"
   },
   "source": [
    "class MLP(d2l.Classifier):\n",
    "  def __init__(self, num_outputs, num_hiddens, lr):\n",
    "    super().__init__()\n",
    "    self.save_hyperparameters()\n",
    "    self.net = nn.Sequential(nn.Flatten(), nn.LazyLinear(num_hiddens),\n",
    "                            nn.ReLU(), nn.LazyLinear(num_outputs))"
   ],
   "outputs": [],
   "execution_count": null
  },
  {
   "cell_type": "markdown",
   "metadata": {
    "id": "s37JVamRYUC4"
   },
   "source": [
    "#### 5.2.2.2 Training"
   ]
  },
  {
   "cell_type": "code",
   "metadata": {
    "colab": {
     "base_uri": "https://localhost:8080/",
     "height": 265
    },
    "id": "AE9cG4qjYS-f",
    "outputId": "0189bae9-61b6-47fe-ac76-92e817d5a5bd"
   },
   "source": [
    "model = MLP(num_outputs=10, num_hiddens=256, lr=0.1)\n",
    "trainer.fit(model, data)"
   ],
   "outputs": [],
   "execution_count": null
  },
  {
   "cell_type": "markdown",
   "metadata": {
    "id": "K5v8aBzUZZZm"
   },
   "source": [
    "## 5.3 Forward Propagation, Backward Propagation, and Computational Graphs"
   ]
  },
  {
   "cell_type": "markdown",
   "metadata": {
    "id": "4aJ1IBKNZlW_"
   },
   "source": [
    "### 5.3.1 Forward Propagation"
   ]
  },
  {
   "cell_type": "markdown",
   "metadata": {
    "id": "AkYOj7joZ_wr"
   },
   "source": [
    "Forward Propagation refers to storing and calculating intermediate variables from the input to the output layer. The result is a vector that includes all propabilities for each of the categories."
   ]
  },
  {
   "cell_type": "markdown",
   "metadata": {
    "id": "RyQkpqrZZoue"
   },
   "source": [
    "### 5.3.2 Computational Graph of Forward Propagation"
   ]
  },
  {
   "cell_type": "markdown",
   "metadata": {
    "id": "zetsHtY-e2TR"
   },
   "source": [
    "Plotting Computational Graphs helps with understanding the relationships between the intermediate variables by visualizing the dependencies between operators and variables within the calculation."
   ]
  },
  {
   "cell_type": "markdown",
   "metadata": {
    "id": "N2PPB7LBZrxN"
   },
   "source": [
    "### 5.3.3. Backpropagation"
   ]
  },
  {
   "cell_type": "markdown",
   "metadata": {
    "id": "M8Kd2QWWfOfY"
   },
   "source": [
    "Backpropagation is the process of calculating the gradient of neural network parameters. It traverses the Network in reverse order, from the output to the input according to the chain rule. By doing this we can improve the model weights to improve the predictive capabilities of our model."
   ]
  },
  {
   "cell_type": "markdown",
   "metadata": {
    "id": "vqcDhD4IZ5Cv"
   },
   "source": [
    "### 5.3.4 Training Neural Networks"
   ]
  },
  {
   "cell_type": "markdown",
   "metadata": {
    "id": "Vtftc8l_fwAY"
   },
   "source": [
    "Both forward and backward propagation are important for training neural networks and depend on each other. Forward propagation depends on the current model weights which are given through back propagation, while back propagation depends on the output from the hidden layers, which are given by forward propagation. When training neural networks, we alternate between these two, improving the model weights using the gradients gained through back propagation."
   ]
  }
 ],
 "metadata": {
  "colab": {
   "provenance": []
  },
  "kernelspec": {
   "display_name": "Python 3 (ipykernel)",
   "language": "python",
   "name": "python3"
  },
  "language_info": {
   "codemirror_mode": {
    "name": "ipython",
    "version": 3
   },
   "file_extension": ".py",
   "mimetype": "text/x-python",
   "name": "python",
   "nbconvert_exporter": "python",
   "pygments_lexer": "ipython3",
   "version": "3.12.6"
  }
 },
 "nbformat": 4,
 "nbformat_minor": 4
}

{
  "nbformat": 4,
  "nbformat_minor": 0,
  "metadata": {
    "colab": {
      "provenance": [],
      "gpuType": "T4",
      "authorship_tag": "ABX9TyMnMvejcij9JHEJXzPLb7zU",
      "include_colab_link": true
    },
    "kernelspec": {
      "name": "python3",
      "display_name": "Python 3"
    },
    "language_info": {
      "name": "python"
    },
    "accelerator": "GPU"
  },
  "cells": [
    {
      "cell_type": "markdown",
      "metadata": {
        "id": "view-in-github",
        "colab_type": "text"
      },
      "source": [
        "<a href=\"https://colab.research.google.com/github/matteomrz/20242R0136COSE47402/blob/main/final/final_project.ipynb\" target=\"_parent\"><img src=\"https://colab.research.google.com/assets/colab-badge.svg\" alt=\"Open In Colab\"/></a>"
      ]
    },
    {
      "cell_type": "code",
      "execution_count": null,
      "metadata": {
        "id": "-mwhNL4nQgNx",
        "collapsed": true
      },
      "outputs": [],
      "source": [
        "!pip install openai-clip\n",
        "!pip install datasets\n",
        "!pip install torch\n",
        "!pip install tqdm"
      ]
    },
    {
      "cell_type": "code",
      "source": [
        "from datasets import load_dataset\n",
        "from torch.utils.data import random_split\n",
        "\n",
        "ds = load_dataset(\"bazyl/GTSRB\")\n",
        "\n",
        "train_full = ds['train']\n",
        "test_full = ds['test']\n",
        "\n",
        "# Map used Street Sign IDs to text descriptions\n",
        "id_to_description = {\n",
        "    18: \"General caution\",\n",
        "    19: \"Dangerous curve left\",\n",
        "    20: \"Dangerous curve right\",\n",
        "    21: \"Winding road\",\n",
        "    22: \"Bumpy road\",\n",
        "    23: \"Slippery road\",\n",
        "    24: \"Road narrows on the right\",\n",
        "    25: \"Road work\",\n",
        "    26: \"Traffic lights\",\n",
        "    27: \"Pedestrians\",\n",
        "    28: \"Children crossing\",\n",
        "    29: \"Bike crossing\",\n",
        "    30: \"Beware of ice/snow\",\n",
        "    31: \"Wild animals crossing\",\n",
        "}\n",
        "\n",
        "# Filter for warning signs\n",
        "train_full = [example for example in train_full if example['ClassId'] in id_to_description]\n",
        "test_full = [example for example in test_full if example['ClassId'] in id_to_description]\n",
        "\n",
        "# Add Text Description\n",
        "for instance in train_full:\n",
        "    instance['Description'] = id_to_description[instance['ClassId']]\n",
        "\n",
        "len_train = int(0.8 * len(train_full))\n",
        "train, val = random_split(train_full, [len_train, len(train_full) - len_train])"
      ],
      "metadata": {
        "id": "sh7PWl3KQmcQ",
        "collapsed": true
      },
      "execution_count": null,
      "outputs": []
    },
    {
      "cell_type": "code",
      "source": [
        "import clip\n",
        "import torch\n",
        "\n",
        "model, preprocess = clip.load(\"ViT-B/32\", jit=False)\n",
        "device = torch.device(\"cuda\" if torch.cuda.is_available() else \"cpu\")\n",
        "model.to(device)"
      ],
      "metadata": {
        "id": "-lujhaRVXEKG",
        "collapsed": true
      },
      "execution_count": null,
      "outputs": []
    },
    {
      "cell_type": "code",
      "source": [
        "import matplotlib.pyplot as plt\n",
        "from io import BytesIO\n",
        "from PIL import Image"
      ],
      "metadata": {
        "id": "JzF4V_71W0PR"
      },
      "execution_count": null,
      "outputs": []
    },
    {
      "cell_type": "code",
      "source": [
        "from torchvision import transforms\n",
        "from torch.utils.data import Dataset\n",
        "\n",
        "class WarningSignDataset(Dataset):\n",
        "    def __init__(self, data):\n",
        "        self.data = data\n",
        "        self.transform = transforms.Compose([\n",
        "            transforms.Resize((224, 224)),\n",
        "            transforms.ToTensor(),\n",
        "            transforms.Normalize((0.48145466, 0.4578275, 0.40821073), (0.26862954, 0.26130258, 0.27577711))\n",
        "        ])\n",
        "\n",
        "    def __len__(self):\n",
        "        return len(self.data)\n",
        "\n",
        "    def __getitem__(self, idx):\n",
        "        item = self.data[idx]\n",
        "        image = Image.open(BytesIO(item['Path']['bytes']))\n",
        "        return self.transform(image), item['ClassId'] - 18\n",
        "\n",
        "        # returns the number of the fucking description"
      ],
      "metadata": {
        "id": "6JOMEw9huWfC"
      },
      "execution_count": null,
      "outputs": []
    },
    {
      "cell_type": "code",
      "source": [
        "from torch.utils.data import DataLoader\n",
        "\n",
        "# Create DataLoader for training and validation sets\n",
        "train_loader = DataLoader(WarningSignDataset(train), batch_size=32, shuffle=True)\n",
        "val_loader = DataLoader(WarningSignDataset(val), batch_size=32, shuffle=False)\n",
        "test_loader = DataLoader(WarningSignDataset(test_full), batch_size=32, shuffle=False)"
      ],
      "metadata": {
        "id": "5G7LKVcU279z"
      },
      "execution_count": null,
      "outputs": []
    },
    {
      "cell_type": "code",
      "source": [
        "import torch.nn as nn\n",
        "\n",
        "# Modify the model to include a classifier for subcategories\n",
        "class CLIPFineTuner(nn.Module):\n",
        "    def __init__(self, model, num_classes):\n",
        "        super(CLIPFineTuner, self).__init__()\n",
        "        self.model = model\n",
        "        self.classifier = nn.Linear(model.visual.output_dim, num_classes)\n",
        "\n",
        "    def forward(self, x):\n",
        "        with torch.no_grad():\n",
        "            features = self.model.encode_image(x).float()  # Convert to float32\n",
        "        return self.classifier(features)"
      ],
      "metadata": {
        "id": "6nqiN0KQ3CuX"
      },
      "execution_count": null,
      "outputs": []
    },
    {
      "cell_type": "code",
      "source": [
        "num_classes = len(id_to_description)\n",
        "model_ft = CLIPFineTuner(model, num_classes).to(device)"
      ],
      "metadata": {
        "id": "JLiM8Tgx3Dfh"
      },
      "execution_count": null,
      "outputs": []
    },
    {
      "cell_type": "code",
      "source": [
        "import torch.optim as optim\n",
        "from torch.optim.lr_scheduler import StepLR\n",
        "\n",
        "# Define the loss function and optimizer\n",
        "criterion = nn.CrossEntropyLoss()\n",
        "optimizer = optim.Adam(model_ft.classifier.parameters(), lr=5e-4)\n",
        "scheduler = StepLR(optimizer, step_size=10, gamma=0.1)"
      ],
      "metadata": {
        "id": "OT9WnAI03NYT"
      },
      "execution_count": null,
      "outputs": []
    },
    {
      "cell_type": "code",
      "source": [
        "from tqdm import tqdm\n",
        "\n",
        "# Number of epochs for training\n",
        "num_epochs = 20\n",
        "\n",
        "# Training loop\n",
        "for epoch in range(num_epochs):\n",
        "    model_ft.train()  # Set the model to training mode\n",
        "    running_loss = 0.0  # Initialize running loss for the current epoch\n",
        "    pbar = tqdm(train_loader, desc=f\"Epoch {epoch+1}/{num_epochs}, Loss: 0.0000\")  # Initialize progress bar\n",
        "\n",
        "    for images, labels in pbar:\n",
        "        images, labels = images.to(device), labels.to(device)  # Move images and labels to the device (GPU or CPU)\n",
        "        optimizer.zero_grad()  # Clear the gradients of all optimized variables\n",
        "        outputs = model_ft(images)  # Forward pass: compute predicted outputs by passing inputs to the model\n",
        "        loss = criterion(outputs, labels)  # Calculate the loss\n",
        "        loss.backward()  # Backward pass: compute gradient of the loss with respect to model parameters\n",
        "        optimizer.step()  # Perform a single optimization step (parameter update)\n",
        "\n",
        "        running_loss += loss.item()  # Update running loss\n",
        "        pbar.set_description(f\"Epoch {epoch+1}/{num_epochs}, Loss: {running_loss/len(train_loader):.4f}\")  # Update progress bar with current loss\n",
        "\n",
        "    print(f'Epoch [{epoch+1}/{num_epochs}], Loss: {running_loss/len(train_loader):.4f}')  # Print average loss for the epoch\n",
        "\n",
        "    scheduler.step()  # Update learning rate scheduler\n",
        "\n",
        "    # Validation\n",
        "    model_ft.eval()  # Set the model to evaluation mode\n",
        "    correct = 0  # Initialize correct predictions counter\n",
        "    total = 0  # Initialize total samples counter\n",
        "\n",
        "    with torch.no_grad():  # Disable gradient calculation for validation\n",
        "        for images, labels in val_loader:\n",
        "            images, labels = images.to(device), labels.to(device)  # Move images and labels to the device\n",
        "            outputs = model_ft(images)  # Forward pass: compute predicted outputs by passing inputs to the model\n",
        "            _, predicted = torch.max(outputs.data, 1)  # Get the class label with the highest probability\n",
        "            total += labels.size(0)  # Update total samples\n",
        "            correct += (predicted == labels).sum().item()  # Update correct predictions\n",
        "\n",
        "    print(f'Validation Accuracy: {100 * correct / total}%')  # Print validation accuracy for the epoch\n",
        "\n",
        "# Save the fine-tuned model\n",
        "torch.save(model_ft.state_dict(), 'clip_finetuned.pth')  # Save the model's state dictionary"
      ],
      "metadata": {
        "colab": {
          "base_uri": "https://localhost:8080/"
        },
        "id": "oGpXEKzK3fCD",
        "outputId": "508d2c3b-4e35-41de-e2af-1c337d2342f1"
      },
      "execution_count": 12,
      "outputs": [
        {
          "metadata": {
            "tags": null
          },
          "name": "stderr",
          "output_type": "stream",
          "text": [
            "Epoch 1/20, Loss: 2.1224: 100%|██████████| 192/192 [00:19<00:00,  9.63it/s]\n"
          ]
        },
        {
          "metadata": {
            "tags": null
          },
          "name": "stdout",
          "output_type": "stream",
          "text": [
            "Epoch [1/20], Loss: 2.1224\n",
            "Validation Accuracy: 52.35294117647059%\n"
          ]
        },
        {
          "metadata": {
            "tags": null
          },
          "name": "stderr",
          "output_type": "stream",
          "text": [
            "Epoch 2/20, Loss: 1.5708: 100%|██████████| 192/192 [00:17<00:00, 11.10it/s]\n"
          ]
        },
        {
          "metadata": {
            "tags": null
          },
          "name": "stdout",
          "output_type": "stream",
          "text": [
            "Epoch [2/20], Loss: 1.5708\n",
            "Validation Accuracy: 67.25490196078431%\n"
          ]
        },
        {
          "metadata": {
            "tags": null
          },
          "name": "stderr",
          "output_type": "stream",
          "text": [
            "Epoch 3/20, Loss: 1.2535: 100%|██████████| 192/192 [00:17<00:00, 10.74it/s]\n"
          ]
        },
        {
          "metadata": {
            "tags": null
          },
          "name": "stdout",
          "output_type": "stream",
          "text": [
            "Epoch [3/20], Loss: 1.2535\n",
            "Validation Accuracy: 74.83660130718954%\n"
          ]
        },
        {
          "metadata": {
            "tags": null
          },
          "name": "stderr",
          "output_type": "stream",
          "text": [
            "Epoch 4/20, Loss: 1.0587: 100%|██████████| 192/192 [00:18<00:00, 10.43it/s]\n"
          ]
        },
        {
          "metadata": {
            "tags": null
          },
          "name": "stdout",
          "output_type": "stream",
          "text": [
            "Epoch [4/20], Loss: 1.0587\n",
            "Validation Accuracy: 76.73202614379085%\n"
          ]
        },
        {
          "metadata": {
            "tags": null
          },
          "name": "stderr",
          "output_type": "stream",
          "text": [
            "Epoch 5/20, Loss: 0.9165: 100%|██████████| 192/192 [00:18<00:00, 10.59it/s]\n"
          ]
        },
        {
          "metadata": {
            "tags": null
          },
          "name": "stdout",
          "output_type": "stream",
          "text": [
            "Epoch [5/20], Loss: 0.9165\n",
            "Validation Accuracy: 81.63398692810458%\n"
          ]
        },
        {
          "metadata": {
            "tags": null
          },
          "name": "stderr",
          "output_type": "stream",
          "text": [
            "Epoch 6/20, Loss: 0.8172: 100%|██████████| 192/192 [00:17<00:00, 10.77it/s]\n"
          ]
        },
        {
          "metadata": {
            "tags": null
          },
          "name": "stdout",
          "output_type": "stream",
          "text": [
            "Epoch [6/20], Loss: 0.8172\n",
            "Validation Accuracy: 82.94117647058823%\n"
          ]
        },
        {
          "metadata": {
            "tags": null
          },
          "name": "stderr",
          "output_type": "stream",
          "text": [
            "Epoch 7/20, Loss: 0.7378: 100%|██████████| 192/192 [00:17<00:00, 11.00it/s]\n"
          ]
        },
        {
          "metadata": {
            "tags": null
          },
          "name": "stdout",
          "output_type": "stream",
          "text": [
            "Epoch [7/20], Loss: 0.7378\n",
            "Validation Accuracy: 85.62091503267973%\n"
          ]
        },
        {
          "metadata": {
            "tags": null
          },
          "name": "stderr",
          "output_type": "stream",
          "text": [
            "Epoch 8/20, Loss: 0.6733: 100%|██████████| 192/192 [00:17<00:00, 11.00it/s]\n"
          ]
        },
        {
          "metadata": {
            "tags": null
          },
          "name": "stdout",
          "output_type": "stream",
          "text": [
            "Epoch [8/20], Loss: 0.6733\n",
            "Validation Accuracy: 85.94771241830065%\n"
          ]
        },
        {
          "metadata": {
            "tags": null
          },
          "name": "stderr",
          "output_type": "stream",
          "text": [
            "Epoch 9/20, Loss: 0.6206: 100%|██████████| 192/192 [00:16<00:00, 11.42it/s]\n"
          ]
        },
        {
          "metadata": {
            "tags": null
          },
          "name": "stdout",
          "output_type": "stream",
          "text": [
            "Epoch [9/20], Loss: 0.6206\n",
            "Validation Accuracy: 87.45098039215686%\n"
          ]
        },
        {
          "metadata": {
            "tags": null
          },
          "name": "stderr",
          "output_type": "stream",
          "text": [
            "Epoch 10/20, Loss: 0.5769: 100%|██████████| 192/192 [00:16<00:00, 11.35it/s]\n"
          ]
        },
        {
          "metadata": {
            "tags": null
          },
          "name": "stdout",
          "output_type": "stream",
          "text": [
            "Epoch [10/20], Loss: 0.5769\n",
            "Validation Accuracy: 88.03921568627452%\n"
          ]
        },
        {
          "metadata": {
            "tags": null
          },
          "name": "stderr",
          "output_type": "stream",
          "text": [
            "Epoch 11/20, Loss: 0.5477: 100%|██████████| 192/192 [00:17<00:00, 10.75it/s]\n"
          ]
        },
        {
          "metadata": {
            "tags": null
          },
          "name": "stdout",
          "output_type": "stream",
          "text": [
            "Epoch [11/20], Loss: 0.5477\n",
            "Validation Accuracy: 88.16993464052288%\n"
          ]
        },
        {
          "metadata": {
            "tags": null
          },
          "name": "stderr",
          "output_type": "stream",
          "text": [
            "Epoch 12/20, Loss: 0.5421: 100%|██████████| 192/192 [00:17<00:00, 11.07it/s]\n"
          ]
        },
        {
          "metadata": {
            "tags": null
          },
          "name": "stdout",
          "output_type": "stream",
          "text": [
            "Epoch [12/20], Loss: 0.5421\n",
            "Validation Accuracy: 88.30065359477125%\n"
          ]
        },
        {
          "metadata": {
            "tags": null
          },
          "name": "stderr",
          "output_type": "stream",
          "text": [
            "Epoch 13/20, Loss: 0.5390: 100%|██████████| 192/192 [00:17<00:00, 11.26it/s]\n"
          ]
        },
        {
          "metadata": {
            "tags": null
          },
          "name": "stdout",
          "output_type": "stream",
          "text": [
            "Epoch [13/20], Loss: 0.5390\n",
            "Validation Accuracy: 88.56209150326798%\n"
          ]
        },
        {
          "metadata": {
            "tags": null
          },
          "name": "stderr",
          "output_type": "stream",
          "text": [
            "Epoch 14/20, Loss: 0.5352: 100%|██████████| 192/192 [00:17<00:00, 10.90it/s]\n"
          ]
        },
        {
          "metadata": {
            "tags": null
          },
          "name": "stdout",
          "output_type": "stream",
          "text": [
            "Epoch [14/20], Loss: 0.5352\n",
            "Validation Accuracy: 88.75816993464052%\n"
          ]
        },
        {
          "metadata": {
            "tags": null
          },
          "name": "stderr",
          "output_type": "stream",
          "text": [
            "Epoch 15/20, Loss: 0.5319: 100%|██████████| 192/192 [00:17<00:00, 10.84it/s]\n"
          ]
        },
        {
          "metadata": {
            "tags": null
          },
          "name": "stdout",
          "output_type": "stream",
          "text": [
            "Epoch [15/20], Loss: 0.5319\n",
            "Validation Accuracy: 88.62745098039215%\n"
          ]
        },
        {
          "metadata": {
            "tags": null
          },
          "name": "stderr",
          "output_type": "stream",
          "text": [
            "Epoch 16/20, Loss: 0.5281: 100%|██████████| 192/192 [00:17<00:00, 11.24it/s]\n"
          ]
        },
        {
          "metadata": {
            "tags": null
          },
          "name": "stdout",
          "output_type": "stream",
          "text": [
            "Epoch [16/20], Loss: 0.5281\n",
            "Validation Accuracy: 88.88888888888889%\n"
          ]
        },
        {
          "metadata": {
            "tags": null
          },
          "name": "stderr",
          "output_type": "stream",
          "text": [
            "Epoch 17/20, Loss: 0.5242: 100%|██████████| 192/192 [00:17<00:00, 11.09it/s]\n"
          ]
        },
        {
          "metadata": {
            "tags": null
          },
          "name": "stdout",
          "output_type": "stream",
          "text": [
            "Epoch [17/20], Loss: 0.5242\n",
            "Validation Accuracy: 88.75816993464052%\n"
          ]
        },
        {
          "metadata": {
            "tags": null
          },
          "name": "stderr",
          "output_type": "stream",
          "text": [
            "Epoch 18/20, Loss: 0.5197: 100%|██████████| 192/192 [00:17<00:00, 10.77it/s]\n"
          ]
        },
        {
          "metadata": {
            "tags": null
          },
          "name": "stdout",
          "output_type": "stream",
          "text": [
            "Epoch [18/20], Loss: 0.5197\n",
            "Validation Accuracy: 88.82352941176471%\n"
          ]
        },
        {
          "output_type": "stream",
          "name": "stderr",
          "text": [
            "Epoch 19/20, Loss: 0.5151: 100%|██████████| 192/192 [00:17<00:00, 10.82it/s]\n"
          ]
        },
        {
          "output_type": "stream",
          "name": "stdout",
          "text": [
            "Epoch [19/20], Loss: 0.5151\n",
            "Validation Accuracy: 89.15032679738562%\n"
          ]
        },
        {
          "output_type": "stream",
          "name": "stderr",
          "text": [
            "Epoch 20/20, Loss: 0.5111: 100%|██████████| 192/192 [00:17<00:00, 11.15it/s]\n"
          ]
        },
        {
          "output_type": "stream",
          "name": "stdout",
          "text": [
            "Epoch [20/20], Loss: 0.5111\n",
            "Validation Accuracy: 89.01960784313725%\n"
          ]
        }
      ]
    },
    {
      "cell_type": "code",
      "source": [
        "# Testing\n",
        "with torch.no_grad():  # Disable gradient calculation for validation\n",
        "        for images, labels in test_loader:\n",
        "            images, labels = images.to(device), labels.to(device)  # Move images and labels to the device\n",
        "            outputs = model_ft(images)  # Forward pass: compute predicted outputs by passing inputs to the model\n",
        "            _, predicted = torch.max(outputs.data, 1)  # Get the class label with the highest probability\n",
        "            total += labels.size(0)  # Update total samples\n",
        "            correct += (predicted == labels).sum().item()  # Update correct predictions\n",
        "\n",
        "print(f'Test Accuracy: {100 * correct / total}%')  # Print validation accuracy for the epoch"
      ],
      "metadata": {
        "id": "S-zlvfclJ9rH",
        "colab": {
          "base_uri": "https://localhost:8080/"
        },
        "outputId": "2f317fda-d90a-473d-8200-8330c5ac9b68"
      },
      "execution_count": 13,
      "outputs": [
        {
          "output_type": "stream",
          "name": "stdout",
          "text": [
            "Test Accuracy: 80.64102564102564%\n"
          ]
        }
      ]
    }
  ]
}